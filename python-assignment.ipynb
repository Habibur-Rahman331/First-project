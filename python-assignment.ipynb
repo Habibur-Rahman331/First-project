{
 "cells": [
  {
   "cell_type": "code",
   "execution_count": null,
   "id": "f2ea14d3-03a4-46e1-ac98-d6037d294fd5",
   "metadata": {},
   "outputs": [],
   "source": [
    "#1. Variable Swap: Write a Python program to swap the values of two variables without using a temporary variable."
   ]
  },
  {
   "cell_type": "code",
   "execution_count": 1,
   "id": "9c44d03c-229c-4252-9abc-0b746865adac",
   "metadata": {},
   "outputs": [
    {
     "name": "stdout",
     "output_type": "stream",
     "text": [
      "Before swapping:\n",
      "a = 5\n",
      "b = 10\n",
      "\n",
      "After swapping:\n",
      "a = 10\n",
      "b = 5\n"
     ]
    }
   ],
   "source": [
    "\n",
    "a = 5\n",
    "b = 10\n",
    "\n",
    "print(\"Before swapping:\")\n",
    "print(\"a =\", a)\n",
    "print(\"b =\", b)\n",
    "\n",
    "a, b = b, a\n",
    "\n",
    "print(\"\\nAfter swapping:\")\n",
    "print(\"a =\", a)\n",
    "print(\"b =\", b)\n"
   ]
  },
  {
   "cell_type": "code",
   "execution_count": null,
   "id": "57271b9f-209b-4a02-9933-46dfaa637209",
   "metadata": {},
   "outputs": [],
   "source": [
    "#2. Even or Odd: Write a Python program that takes an integer as input and prints whether it is even or odd."
   ]
  },
  {
   "cell_type": "code",
   "execution_count": 3,
   "id": "e3c20c04-8f2d-4403-943b-769bd5c58067",
   "metadata": {},
   "outputs": [
    {
     "name": "stdin",
     "output_type": "stream",
     "text": [
      "Enter an integer:  22\n"
     ]
    },
    {
     "name": "stdout",
     "output_type": "stream",
     "text": [
      "22 is even.\n"
     ]
    }
   ],
   "source": [
    "\n",
    "number = int(input(\"Enter an integer: \"))\n",
    "\n",
    "if number % 2 == 0:\n",
    "    print(f\"{number} is even.\")\n",
    "else:\n",
    "    print(f\"{number} is odd.\")\n"
   ]
  },
  {
   "cell_type": "code",
   "execution_count": null,
   "id": "d67abdaf-b377-4230-8521-5dd827f53137",
   "metadata": {},
   "outputs": [],
   "source": [
    "#3. String Reverse: Write a Python function to reverse a given string and return the reversed string."
   ]
  },
  {
   "cell_type": "code",
   "execution_count": 5,
   "id": "268bc846-5498-4e70-a76c-4ab099ee5509",
   "metadata": {},
   "outputs": [
    {
     "name": "stdout",
     "output_type": "stream",
     "text": [
      "Original string: Hello, World!\n",
      "Reversed string: !dlroW ,olleH\n"
     ]
    }
   ],
   "source": [
    "\n",
    "def reverse_string(s):\n",
    "    return s[::-1]\n",
    "\n",
    "input_string = \"Hello, World!\"\n",
    "reversed_string = reverse_string(input_string)\n",
    "print(\"Original string:\", input_string)\n",
    "print(\"Reversed string:\", reversed_string)\n"
   ]
  },
  {
   "cell_type": "code",
   "execution_count": null,
   "id": "ddce97c8-34c8-4575-ae2c-cbbfa07d5a3c",
   "metadata": {},
   "outputs": [],
   "source": [
    "#4. Type Conversion: Given a list of integers, write a Python program to convert each element of the list to a string."
   ]
  },
  {
   "cell_type": "code",
   "execution_count": 7,
   "id": "9a2514ca-434e-40f3-9e0e-bd6003a47b57",
   "metadata": {},
   "outputs": [
    {
     "name": "stdout",
     "output_type": "stream",
     "text": [
      "Original list of integers: [1, 2, 3, 4, 5]\n",
      "List of strings: ['1', '2', '3', '4', '5']\n"
     ]
    }
   ],
   "source": [
    "\n",
    "int_list = [1, 2, 3, 4, 5]\n",
    "\n",
    "str_list = [str(i) for i in int_list]\n",
    "\n",
    "print(\"Original list of integers:\", int_list)\n",
    "print(\"List of strings:\", str_list)\n"
   ]
  },
  {
   "cell_type": "code",
   "execution_count": null,
   "id": "0f419948-9a6d-4760-b9e0-484f230a3f44",
   "metadata": {},
   "outputs": [],
   "source": [
    "#5. Temperature Converter: Write a Python program that converts a temperature in Celsius to Fahrenheit. Take the Celsius temperature as in"
   ]
  },
  {
   "cell_type": "code",
   "execution_count": 9,
   "id": "75510051-399f-462b-a824-6eb07eebbc6d",
   "metadata": {},
   "outputs": [
    {
     "name": "stdin",
     "output_type": "stream",
     "text": [
      "Enter temperature in Celsius:  24\n"
     ]
    },
    {
     "name": "stdout",
     "output_type": "stream",
     "text": [
      "24.0°C is equal to 75.2°F\n"
     ]
    }
   ],
   "source": [
    "\n",
    "celsius = float(input(\"Enter temperature in Celsius: \"))\n",
    "\n",
    "fahrenheit = (celsius * 9/5) + 32\n",
    "\n",
    "print(f\"{celsius}°C is equal to {fahrenheit}°F\")\n"
   ]
  },
  {
   "cell_type": "code",
   "execution_count": null,
   "id": "62f5db26-9611-4bf4-921d-3da34678fad3",
   "metadata": {},
   "outputs": [],
   "source": [
    "#6. Data Type Checker: Write a Python function that takes a variable as input and returns the data type of the variable as a string (e.g."
   ]
  },
  {
   "cell_type": "code",
   "execution_count": 11,
   "id": "68fbedd7-0270-4b4c-8f2f-d5917bf2f5c3",
   "metadata": {},
   "outputs": [
    {
     "name": "stdout",
     "output_type": "stream",
     "text": [
      "int\n",
      "float\n",
      "str\n",
      "list\n"
     ]
    }
   ],
   "source": [
    "\n",
    "def check_data_type(variable):\n",
    "    return type(variable).__name__\n",
    "\n",
    "var1 = 42\n",
    "var2 = 3.14\n",
    "var3 = \"Hello\"\n",
    "var4 = [1, 2, 3]\n",
    "\n",
    "print(check_data_type(var1))  # Output: int\n",
    "print(check_data_type(var2))  # Output: float\n",
    "print(check_data_type(var3))  # Output: str\n",
    "print(check_data_type(var4))  # Output: list\n"
   ]
  },
  {
   "cell_type": "code",
   "execution_count": null,
   "id": "c32258c3-ab4d-494a-97ed-d165293fb2bd",
   "metadata": {},
   "outputs": [],
   "source": [
    "#7. String Palindrome: Write a Python function to check if a given string is a palindrome or not."
   ]
  },
  {
   "cell_type": "code",
   "execution_count": 13,
   "id": "b8ecdc4b-9762-438f-aacd-72afeb7b2762",
   "metadata": {},
   "outputs": [
    {
     "name": "stdout",
     "output_type": "stream",
     "text": [
      "\"A man a plan a canal Panama\" is a palindrome.\n"
     ]
    }
   ],
   "source": [
    "\n",
    "def is_palindrome(s):\n",
    "    \n",
    "    s = s.replace(\" \", \"\").lower()\n",
    "    \n",
    "    return s == s[::-1]\n",
    "\n",
    "input_string = \"A man a plan a canal Panama\"\n",
    "if is_palindrome(input_string):\n",
    "    print(f'\"{input_string}\" is a palindrome.')\n",
    "else:\n",
    "    print(f'\"{input_string}\" is not a palindrome.')\n"
   ]
  },
  {
   "cell_type": "code",
   "execution_count": null,
   "id": "26853696-1191-474e-9060-b7d5b2160efa",
   "metadata": {},
   "outputs": [],
   "source": [
    "#8. String Reversal with Slicing: Write a Python function to reverse a given string using slicing."
   ]
  },
  {
   "cell_type": "code",
   "execution_count": 15,
   "id": "6f007b8a-defe-4411-89c2-d9739542ca69",
   "metadata": {},
   "outputs": [
    {
     "name": "stdout",
     "output_type": "stream",
     "text": [
      "Original string: Hello, World!\n",
      "Reversed string: !dlroW ,olleH\n"
     ]
    }
   ],
   "source": [
    "\n",
    "def reverse_string(s):\n",
    "    return s[::-1]\n",
    "\n",
    "input_string = \"Hello, World!\"\n",
    "reversed_string = reverse_string(input_string)\n",
    "print(\"Original string:\", input_string)\n",
    "print(\"Reversed string:\", reversed_string)\n"
   ]
  },
  {
   "cell_type": "code",
   "execution_count": null,
   "id": "5bfc8160-42c3-4293-972d-13c008c2a2db",
   "metadata": {},
   "outputs": [],
   "source": [
    "#9. String Concatenation: Write a Python program that takes two strings as input and concatenates them into a single string without using"
   ]
  },
  {
   "cell_type": "code",
   "execution_count": 17,
   "id": "6a199167-0187-41be-ba87-b76b8d6f50d9",
   "metadata": {},
   "outputs": [
    {
     "name": "stdin",
     "output_type": "stream",
     "text": [
      "Enter the first string:  22\n",
      "Enter the second string:  44\n"
     ]
    },
    {
     "name": "stdout",
     "output_type": "stream",
     "text": [
      "Concatenated string: 2244\n"
     ]
    }
   ],
   "source": [
    "\n",
    "string1 = input(\"Enter the first string: \")\n",
    "string2 = input(\"Enter the second string: \")\n",
    "\n",
    "concatenated_string = \"\".join([string1, string2])\n",
    "\n",
    "print(\"Concatenated string:\", concatenated_string)\n"
   ]
  },
  {
   "cell_type": "code",
   "execution_count": null,
   "id": "f48f22c8-527f-47af-84b4-06e897d91ea7",
   "metadata": {},
   "outputs": [],
   "source": [
    "#10. Typecasting Challenge: Given three variables: `a = ‘100’`, `b = 25`, and `c = ‘10.5’`, write a Python program to perform the following opera"
   ]
  },
  {
   "cell_type": "code",
   "execution_count": 19,
   "id": "aa098277-d4d4-44d9-bba4-71d5a95dd349",
   "metadata": {},
   "outputs": [
    {
     "name": "stdout",
     "output_type": "stream",
     "text": [
      "114.5 is the answer.\n"
     ]
    }
   ],
   "source": [
    "\n",
    "a = '100'\n",
    "b = 25\n",
    "c = '10.5'\n",
    "\n",
    "result = int(a) + b\n",
    "\n",
    "result = result - float(c)\n",
    "\n",
    "final_result = str(result) + \" is the answer.\"\n",
    "\n",
    "print(final_result)\n"
   ]
  },
  {
   "cell_type": "code",
   "execution_count": null,
   "id": "3993543c-d72c-43e1-bdff-24fb8af74c3f",
   "metadata": {},
   "outputs": [],
   "source": [
    "#11. Positive, Negative, or Zero: Write a Python program that takes a number as input and prints whether it is positive, negative, or zero."
   ]
  },
  {
   "cell_type": "code",
   "execution_count": 21,
   "id": "3b62ee7c-300b-4252-96a3-55f708421ee4",
   "metadata": {},
   "outputs": [
    {
     "name": "stdin",
     "output_type": "stream",
     "text": [
      "Enter a number:  22\n"
     ]
    },
    {
     "name": "stdout",
     "output_type": "stream",
     "text": [
      "The number is positive.\n"
     ]
    }
   ],
   "source": [
    "\n",
    "number = float(input(\"Enter a number: \"))\n",
    "\n",
    "if number > 0:\n",
    "    print(\"The number is positive.\")\n",
    "elif number < 0:\n",
    "    print(\"The number is negative.\")\n",
    "else:\n",
    "    print(\"The number is zero.\")\n"
   ]
  },
  {
   "cell_type": "code",
   "execution_count": null,
   "id": "80a4a8b5-7edc-48d3-b542-15886a02041b",
   "metadata": {},
   "outputs": [],
   "source": [
    "#12. Largest of Three Numbers: Write a Python program that takes three numbers as input and prints the largest among them."
   ]
  },
  {
   "cell_type": "code",
   "execution_count": 23,
   "id": "a32c9f6c-f1f5-42d0-83e9-b323541f68d8",
   "metadata": {},
   "outputs": [
    {
     "name": "stdin",
     "output_type": "stream",
     "text": [
      "Enter the first number:  2\n",
      "Enter the second number:  5\n",
      "Enter the third number:  7\n"
     ]
    },
    {
     "name": "stdout",
     "output_type": "stream",
     "text": [
      "The largest number is: 7.0\n"
     ]
    }
   ],
   "source": [
    "\n",
    "num1 = float(input(\"Enter the first number: \"))\n",
    "num2 = float(input(\"Enter the second number: \"))\n",
    "num3 = float(input(\"Enter the third number: \"))\n",
    "\n",
    "if num1 >= num2 and num1 >= num3:\n",
    "    largest = num1\n",
    "elif num2 >= num1 and num2 >= num3:\n",
    "    largest = num2\n",
    "else:\n",
    "    largest = num3\n",
    "\n",
    "print(\"The largest number is:\", largest)\n"
   ]
  },
  {
   "cell_type": "code",
   "execution_count": null,
   "id": "375bb307-2c5d-4bda-ac3b-94194ddbd414",
   "metadata": {},
   "outputs": [],
   "source": [
    "#13. Leap Year Checker: Write a Python program that takes a year as input and determines if it is a leap year or not."
   ]
  },
  {
   "cell_type": "code",
   "execution_count": 25,
   "id": "c5b5c63f-95a8-4585-aa7b-09b36e020634",
   "metadata": {},
   "outputs": [
    {
     "name": "stdin",
     "output_type": "stream",
     "text": [
      "Enter a year:  1971\n"
     ]
    },
    {
     "name": "stdout",
     "output_type": "stream",
     "text": [
      "1971 is not a leap year.\n"
     ]
    }
   ],
   "source": [
    "\n",
    "year = int(input(\"Enter a year: \"))\n",
    "\n",
    "if (year % 4 == 0 and year % 100 != 0) or (year % 400 == 0):\n",
    "    print(f\"{year} is a leap year.\")\n",
    "else:\n",
    "    print(f\"{year} is not a leap year.\")\n"
   ]
  },
  {
   "cell_type": "code",
   "execution_count": null,
   "id": "af13f6b7-6712-4855-b5c8-c93ce6a661c5",
   "metadata": {},
   "outputs": [],
   "source": [
    "#14. Grades Classification: Write a Python program that takes a student’s percentage as input and prints their corresponding grade according to t"
   ]
  },
  {
   "cell_type": "code",
   "execution_count": 27,
   "id": "c3c7e504-a62b-478b-96c4-12d519c588d4",
   "metadata": {},
   "outputs": [
    {
     "name": "stdin",
     "output_type": "stream",
     "text": [
      "Enter the student's percentage:  77\n"
     ]
    },
    {
     "name": "stdout",
     "output_type": "stream",
     "text": [
      "The student's grade is: B\n"
     ]
    }
   ],
   "source": [
    "\n",
    "percentage = float(input(\"Enter the student's percentage: \"))\n",
    "\n",
    "if percentage >= 90:\n",
    "    grade = \"A+\"\n",
    "elif percentage >= 80:\n",
    "    grade = \"A\"\n",
    "elif percentage >= 70:\n",
    "    grade = \"B\"\n",
    "elif percentage >= 60:\n",
    "    grade = \"C\"\n",
    "else:\n",
    "    grade = \"Fail\"\n",
    "\n",
    "print(\"The student's grade is:\", grade)\n"
   ]
  },
  {
   "cell_type": "code",
   "execution_count": null,
   "id": "ddc6d914-e7c5-4e96-add2-4d5975aa5326",
   "metadata": {},
   "outputs": [],
   "source": [
    "#15. Vowel or Consonant: Write a Python program that takes a single character as input and determines whether it is a vowel or a consonant."
   ]
  },
  {
   "cell_type": "code",
   "execution_count": 29,
   "id": "b306ada5-e888-4662-812c-59bc6948b6ae",
   "metadata": {},
   "outputs": [
    {
     "name": "stdin",
     "output_type": "stream",
     "text": [
      "Enter a single character:  A\n"
     ]
    },
    {
     "name": "stdout",
     "output_type": "stream",
     "text": [
      "a is a vowel.\n"
     ]
    }
   ],
   "source": [
    "\n",
    "character = input(\"Enter a single character: \")\n",
    "\n",
    "if len(character) != 1:\n",
    "    print(\"Please enter only one character.\")\n",
    "else:\n",
    "    \n",
    "    character = character.lower()\n",
    "\n",
    "    \n",
    "    if character in 'aeiou':\n",
    "        print(f\"{character} is a vowel.\")\n",
    "    elif character.isalpha():  \n",
    "        print(f\"{character} is a consonant.\")\n",
    "    else:\n",
    "        print(f\"{character} is not a letter.\")\n"
   ]
  },
  {
   "cell_type": "code",
   "execution_count": null,
   "id": "ea78d047-9726-4919-870e-51acddfdc892",
   "metadata": {},
   "outputs": [],
   "source": [
    "#16. Time Classification: Write a Python program that takes the time in hours (24-hour format) as input and prints “Good Morning”, “Good Aftern"
   ]
  },
  {
   "cell_type": "code",
   "execution_count": 31,
   "id": "2ef53c98-cc1e-4811-8b8f-cbcdccc846e5",
   "metadata": {},
   "outputs": [
    {
     "name": "stdin",
     "output_type": "stream",
     "text": [
      "Enter the time in hours (24-hour format):  2\n"
     ]
    },
    {
     "name": "stdout",
     "output_type": "stream",
     "text": [
      "Good Night\n"
     ]
    }
   ],
   "source": [
    "\n",
    "time = float(input(\"Enter the time in hours (24-hour format): \"))\n",
    "\n",
    "if time < 0 or time >= 24:\n",
    "    print(\"Invalid time. Please enter a value between 0 and 23.99.\")\n",
    "else:\n",
    "    \n",
    "    if 5 <= time < 12:\n",
    "        print(\"Good Morning\")\n",
    "    elif 12 <= time < 17:\n",
    "        print(\"Good Afternoon\")\n",
    "    elif 17 <= time < 20:\n",
    "        print(\"Good Evening\")\n",
    "    else:\n",
    "        print(\"Good Night\")\n"
   ]
  },
  {
   "cell_type": "code",
   "execution_count": null,
   "id": "38ee704d-7c2d-4ec5-a46f-e6e308e041c1",
   "metadata": {},
   "outputs": [],
   "source": [
    "#17. Triangle Type Checker: Write a Python program that takes three sides of a triangle as input and determines whether it forms an equilater"
   ]
  },
  {
   "cell_type": "code",
   "execution_count": 37,
   "id": "bad17936-3925-4cd8-ae58-3840b98cdd2e",
   "metadata": {},
   "outputs": [
    {
     "name": "stdin",
     "output_type": "stream",
     "text": [
      "Enter the length of the first side:  190\n",
      "Enter the length of the second side:  120\n",
      "Enter the length of the third side:  90\n"
     ]
    },
    {
     "name": "stdout",
     "output_type": "stream",
     "text": [
      "The triangle is scalene.\n"
     ]
    }
   ],
   "source": [
    "\n",
    "side1 = float(input(\"Enter the length of the first side: \"))\n",
    "side2 = float(input(\"Enter the length of the second side: \"))\n",
    "side3 = float(input(\"Enter the length of the third side: \"))\n",
    "\n",
    "\n",
    "if side1 <= 0 or side2 <= 0 or side3 <= 0:\n",
    "    print(\"Sides of a triangle must be positive numbers.\")\n",
    "elif (side1 + side2 > side3) and (side2 + side3 > side1) and (side1 + side3 > side2):\n",
    "    \n",
    "    if side1 == side2 == side3:\n",
    "        print(\"The triangle is equilateral.\")\n",
    "    elif side1 == side2 or side2 == side3 or side1 == side3:\n",
    "        print(\"The triangle is isosceles.\")\n",
    "    else:\n",
    "        print(\"The triangle is scalene.\")\n",
    "else:\n",
    "    print(\"The given sides do not form a valid triangle.\")\n"
   ]
  },
  {
   "cell_type": "code",
   "execution_count": null,
   "id": "7dc55a4b-594c-477c-a089-102f1be4aa16",
   "metadata": {},
   "outputs": [],
   "source": [
    "#18. Quadratic Equation Solver: Write a Python program that takes the coefficients (a, b, c) of a quadratic equation as input and calculates and "
   ]
  },
  {
   "cell_type": "code",
   "execution_count": 39,
   "id": "bc09886c-d387-43ee-aace-984849f73130",
   "metadata": {},
   "outputs": [
    {
     "name": "stdin",
     "output_type": "stream",
     "text": [
      "Enter the coefficient a:  22\n",
      "Enter the coefficient b:  44\n",
      "Enter the coefficient c:  77\n"
     ]
    },
    {
     "name": "stdout",
     "output_type": "stream",
     "text": [
      "The roots are complex: -1.0 + 1.5811388300841898i and -1.0 - 1.5811388300841898i\n"
     ]
    }
   ],
   "source": [
    "import math  \n",
    "def solve_quadratic(a, b, c):\n",
    "    \n",
    "    discriminant = b**2 - 4*a*c\n",
    "\n",
    "    if discriminant > 0:\n",
    "        \n",
    "        root1 = (-b + math.sqrt(discriminant)) / (2 * a)\n",
    "        root2 = (-b - math.sqrt(discriminant)) / (2 * a)\n",
    "        return f\"The roots are real and distinct: {root1} and {root2}\"\n",
    "    elif discriminant == 0:\n",
    "        \n",
    "        root1 = -b / (2 * a)\n",
    "        return f\"The root is real and repeated: {root1}\"\n",
    "    else:\n",
    "\n",
    "        real_part = -b / (2 * a)\n",
    "        imaginary_part = math.sqrt(-discriminant) / (2 * a)\n",
    "        root1 = f\"{real_part} + {imaginary_part}i\"\n",
    "        root2 = f\"{real_part} - {imaginary_part}i\"\n",
    "        return f\"The roots are complex: {root1} and {root2}\"\n",
    "\n",
    "a = float(input(\"Enter the coefficient a: \"))\n",
    "b = float(input(\"Enter the coefficient b: \"))\n",
    "c = float(input(\"Enter the coefficient c: \"))\n",
    "\n",
    "if a == 0:\n",
    "    print(\"The coefficient 'a' cannot be zero for a quadratic equation.\")\n",
    "else:\n",
    "\n",
    "    result = solve_quadratic(a, b, c)\n",
    "    print(result)\n"
   ]
  },
  {
   "cell_type": "code",
   "execution_count": null,
   "id": "fb52b07c-3ed3-4438-8090-dae9b8121ec9",
   "metadata": {},
   "outputs": [],
   "source": [
    "#-19. Number Ranges: Write a Python program that takes an integer as input and prints whether the number falls within the ranges: 0-50, 51-1"
   ]
  },
  {
   "cell_type": "code",
   "execution_count": 41,
   "id": "f03dfd5d-7761-42eb-931a-d7f27c0ad250",
   "metadata": {},
   "outputs": [
    {
     "name": "stdin",
     "output_type": "stream",
     "text": [
      "Enter an integer:  2\n"
     ]
    },
    {
     "name": "stdout",
     "output_type": "stream",
     "text": [
      "The number is in the range 0-50.\n"
     ]
    }
   ],
   "source": [
    "\n",
    "number = int(input(\"Enter an integer: \"))\n",
    "\n",
    "if 0 <= number <= 50:\n",
    "    print(\"The number is in the range 0-50.\")\n",
    "elif 51 <= number <= 100:\n",
    "    print(\"The number is in the range 51-100.\")\n",
    "elif 101 <= number <= 150:\n",
    "    print(\"The number is in the range 101-150.\")\n",
    "else:\n",
    "    print(\"The number is above 150.\")\n"
   ]
  },
  {
   "cell_type": "code",
   "execution_count": null,
   "id": "c352244b-fde4-42e9-96a1-738908586507",
   "metadata": {},
   "outputs": [],
   "source": [
    "#20. Sum of N Numbers: Write a Python program using a for loop to calculate the sum of the first N natural numbers, where N is taken a"
   ]
  },
  {
   "cell_type": "code",
   "execution_count": 43,
   "id": "c15ba905-1c8c-4ade-9cc8-06955298d0c6",
   "metadata": {},
   "outputs": [
    {
     "name": "stdin",
     "output_type": "stream",
     "text": [
      "Enter a positive integer N:  22\n"
     ]
    },
    {
     "name": "stdout",
     "output_type": "stream",
     "text": [
      "The sum of the first 22 natural numbers is: 253\n"
     ]
    }
   ],
   "source": [
    "\n",
    "N = int(input(\"Enter a positive integer N: \"))\n",
    "\n",
    "total_sum = 0\n",
    "\n",
    "for i in range(1, N + 1):\n",
    "    total_sum += i\n",
    "\n",
    "print(f\"The sum of the first {N} natural numbers is: {total_sum}\")\n"
   ]
  },
  {
   "cell_type": "code",
   "execution_count": null,
   "id": "d61335ae-b30a-49c8-9bd5-dea2ef4a418d",
   "metadata": {},
   "outputs": [],
   "source": [
    "#21. Factorial Calculator: Write a Python program using a while loop to calculate the factorial of a given number N."
   ]
  },
  {
   "cell_type": "code",
   "execution_count": 45,
   "id": "ac4cef66-1ceb-4df9-a70a-e25db8004ddf",
   "metadata": {},
   "outputs": [
    {
     "name": "stdin",
     "output_type": "stream",
     "text": [
      "Enter a non-negative integer N:  3\n"
     ]
    },
    {
     "name": "stdout",
     "output_type": "stream",
     "text": [
      "The factorial of the number is: 6\n"
     ]
    }
   ],
   "source": [
    "\n",
    "N = int(input(\"Enter a non-negative integer N: \"))\n",
    "\n",
    "factorial = 1\n",
    "\n",
    "\n",
    "if N < 0:\n",
    "    print(\"Factorial is not defined for negative numbers.\")\n",
    "else:\n",
    "    \n",
    "    while N > 0:\n",
    "        factorial *= N\n",
    "        N -= 1\n",
    "    \n",
    "    \n",
    "    print(f\"The factorial of the number is: {factorial}\")\n"
   ]
  },
  {
   "cell_type": "code",
   "execution_count": null,
   "id": "d105d398-fa9c-4417-8a8c-1a5d46319bef",
   "metadata": {},
   "outputs": [],
   "source": [
    "#22. Table of a Number: Write a Python program using a for loop to print the multiplication table of a given number N."
   ]
  },
  {
   "cell_type": "code",
   "execution_count": 47,
   "id": "fe810bf1-601d-4c9c-83cf-2f384530b475",
   "metadata": {},
   "outputs": [
    {
     "name": "stdin",
     "output_type": "stream",
     "text": [
      "Enter a number to print its multiplication table:  33\n"
     ]
    },
    {
     "name": "stdout",
     "output_type": "stream",
     "text": [
      "Multiplication table for 33 is:\n",
      "33 x 1 = 33\n",
      "33 x 2 = 66\n",
      "33 x 3 = 99\n",
      "33 x 4 = 132\n",
      "33 x 5 = 165\n",
      "33 x 6 = 198\n",
      "33 x 7 = 231\n",
      "33 x 8 = 264\n",
      "33 x 9 = 297\n",
      "33 x 10 = 330\n"
     ]
    }
   ],
   "source": [
    "\n",
    "N = int(input(\"Enter a number to print its multiplication table: \"))\n",
    "\n",
    "print(f\"Multiplication table for {N} is:\")\n",
    "for i in range(1, 11):  # From 1 to 10\n",
    "    print(f\"{N} x {i} = {N * i}\")\n"
   ]
  },
  {
   "cell_type": "code",
   "execution_count": null,
   "id": "c6d40b5e-f8f1-4c7e-a05b-b9abc7056736",
   "metadata": {},
   "outputs": [],
   "source": [
    "#23. Count Digits in a Number: Write a Python program using a while loop to count the number of digits in a given integer N."
   ]
  },
  {
   "cell_type": "code",
   "execution_count": 49,
   "id": "144242a6-8884-4124-ab7d-3a0459a1d062",
   "metadata": {},
   "outputs": [
    {
     "name": "stdin",
     "output_type": "stream",
     "text": [
      "Enter an integer:  4\n"
     ]
    },
    {
     "name": "stdout",
     "output_type": "stream",
     "text": [
      "The number of digits is: 1\n"
     ]
    }
   ],
   "source": [
    "\n",
    "N = int(input(\"Enter an integer: \"))\n",
    "\n",
    "N = abs(N)\n",
    "\n",
    "\n",
    "digit_count = 0\n",
    "\n",
    "\n",
    "if N == 0:\n",
    "    digit_count = 1\n",
    "else:\n",
    "    \n",
    "    while N > 0:\n",
    "        N //= 10  # Remove the last digit\n",
    "        digit_count += 1  \n",
    "\n",
    "print(f\"The number of digits is: {digit_count}\")\n"
   ]
  },
  {
   "cell_type": "code",
   "execution_count": null,
   "id": "71cf2c50-f2fd-4c8c-ac04-20e329212090",
   "metadata": {},
   "outputs": [],
   "source": [
    "#24. Fibonacci Sequence: Write a Python program using a for loop to generate the Fibonacci sequence up to a given limit N."
   ]
  },
  {
   "cell_type": "code",
   "execution_count": 51,
   "id": "7f0c51de-0440-4e95-8571-bd2ec149a31d",
   "metadata": {},
   "outputs": [
    {
     "name": "stdin",
     "output_type": "stream",
     "text": [
      "Enter the limit for the Fibonacci sequence:  3\n"
     ]
    },
    {
     "name": "stdout",
     "output_type": "stream",
     "text": [
      "Fibonacci sequence up to 3 is:\n",
      "0 1 1 2 3 \n"
     ]
    }
   ],
   "source": [
    "\n",
    "N = int(input(\"Enter the limit for the Fibonacci sequence: \"))\n",
    "\n",
    "a, b = 0, 1\n",
    "\n",
    "print(\"Fibonacci sequence up to\", N, \"is:\")\n",
    "\n",
    "while a <= N:\n",
    "    print(a, end=' ')\n",
    "    a, b = b, a + b  \n",
    "print()  \n"
   ]
  },
  {
   "cell_type": "code",
   "execution_count": null,
   "id": "2397672f-221b-4a3f-a5b2-14f1bf9e0863",
   "metadata": {},
   "outputs": [],
   "source": [
    "#25. Sum of Even Numbers: Write a Python program using a while loop to calculate the sum of all even numbers between 1 and N, where N is taken a"
   ]
  },
  {
   "cell_type": "code",
   "execution_count": 53,
   "id": "b246f3ad-8b78-49f5-9bc1-f72052d62259",
   "metadata": {},
   "outputs": [
    {
     "name": "stdin",
     "output_type": "stream",
     "text": [
      "Enter a positive integer N:  6\n"
     ]
    },
    {
     "name": "stdout",
     "output_type": "stream",
     "text": [
      "The sum of all even numbers between 1 and 6 is: 12\n"
     ]
    }
   ],
   "source": [
    "\n",
    "N = int(input(\"Enter a positive integer N: \"))\n",
    "\n",
    "\n",
    "sum_even = 0\n",
    "current_number = 2\n",
    "\n",
    "\n",
    "if N <= 0:\n",
    "    print(\"Please enter a positive integer.\")\n",
    "else:\n",
    "    \n",
    "    while current_number <= N:\n",
    "        sum_even += current_number\n",
    "        current_number += 2  \n",
    "\n",
    "    print(f\"The sum of all even numbers between 1 and {N} is: {sum_even}\")\n"
   ]
  },
  {
   "cell_type": "code",
   "execution_count": null,
   "id": "2fae88da-d7fe-4104-ae76-013d84b5a588",
   "metadata": {},
   "outputs": [],
   "source": [
    "#26. Print Patterns: Write a Python program using nested for loops to print various patterns, such as a right-angled triangle, an inverted righ"
   ]
  },
  {
   "cell_type": "code",
   "execution_count": 55,
   "id": "925ee3b7-9b23-49bd-8e3a-825cfca259f5",
   "metadata": {},
   "outputs": [
    {
     "name": "stdin",
     "output_type": "stream",
     "text": [
      "Enter the number of rows for the patterns:  5\n"
     ]
    },
    {
     "name": "stdout",
     "output_type": "stream",
     "text": [
      "Right-angled triangle:\n",
      "* \n",
      "* * \n",
      "* * * \n",
      "* * * * \n",
      "* * * * * \n",
      "\n",
      "Inverted right-angled triangle:\n",
      "* * * * * \n",
      "* * * * \n",
      "* * * \n",
      "* * \n",
      "* \n",
      "\n",
      "Diamond shape:\n",
      "        * \n",
      "      * * * \n",
      "    * * * * * \n",
      "  * * * * * * * \n",
      "* * * * * * * * * \n",
      "  * * * * * * * \n",
      "    * * * * * \n",
      "      * * * \n",
      "        * \n",
      "\n",
      "Square shape:\n",
      "* * * * * \n",
      "* * * * * \n",
      "* * * * * \n",
      "* * * * * \n",
      "* * * * * \n"
     ]
    }
   ],
   "source": [
    "def print_right_angled_triangle(n):\n",
    "    print(\"Right-angled triangle:\")\n",
    "    for i in range(1, n + 1):\n",
    "        for j in range(i):\n",
    "            print(\"*\", end=' ')\n",
    "        print()  \n",
    "\n",
    "def print_inverted_right_angled_triangle(n):\n",
    "    print(\"\\nInverted right-angled triangle:\")\n",
    "    for i in range(n, 0, -1):\n",
    "        for j in range(i):\n",
    "            print(\"*\", end=' ')\n",
    "        print()  \n",
    "\n",
    "def print_diamond(n):\n",
    "    print(\"\\nDiamond shape:\")\n",
    "    for i in range(1, n + 1):\n",
    "        \n",
    "        for j in range(n - i):\n",
    "            print(\" \", end=' ')\n",
    "    \n",
    "        for k in range(2 * i - 1):\n",
    "            print(\"*\", end=' ')\n",
    "        print()  \n",
    "    \n",
    "    \n",
    "    for i in range(n - 1, 0, -1):\n",
    "        \n",
    "        for j in range(n - i):\n",
    "            print(\" \", end=' ')\n",
    "        for k in range(2 * i - 1):\n",
    "            print(\"*\", end=' ')\n",
    "        print()  \n",
    "\n",
    "def print_square(n):\n",
    "    print(\"\\nSquare shape:\")\n",
    "    for i in range(n):\n",
    "        for j in range(n):\n",
    "            print(\"*\", end=' ')\n",
    "        print()  \n",
    "\n",
    "n = int(input(\"Enter the number of rows for the patterns: \"))\n",
    "\n",
    "print_right_angled_triangle(n)\n",
    "print_inverted_right_angled_triangle(n)\n",
    "print_diamond(n)\n",
    "print_square(n)\n"
   ]
  },
  {
   "cell_type": "code",
   "execution_count": null,
   "id": "e7177c9e-4a31-4122-af68-481eba24ae76",
   "metadata": {},
   "outputs": [],
   "source": [
    "#27. Prime Number Checker: Write a Python program using a while loop to check if a given number N is prime or not."
   ]
  },
  {
   "cell_type": "code",
   "execution_count": 57,
   "id": "efe98c0d-639a-41be-be55-51cec4969555",
   "metadata": {},
   "outputs": [
    {
     "name": "stdin",
     "output_type": "stream",
     "text": [
      "Enter a positive integer N:  6\n"
     ]
    },
    {
     "name": "stdout",
     "output_type": "stream",
     "text": [
      "6 is not a prime number.\n"
     ]
    }
   ],
   "source": [
    "import math\n",
    "\n",
    "N = int(input(\"Enter a positive integer N: \"))\n",
    "\n",
    "def is_prime(n):\n",
    "    if n <= 1:\n",
    "        return False\n",
    "    if n <= 3:\n",
    "        return True\n",
    "    if n % 2 == 0 or n % 3 == 0:\n",
    "        return False\n",
    "    i = 5\n",
    "    while i * i <= n:\n",
    "        if n % i == 0 or n % (i + 2) == 0:\n",
    "            return False\n",
    "        i += 6\n",
    "    return True\n",
    "\n",
    "if is_prime(N):\n",
    "    print(f\"{N} is a prime number.\")\n",
    "else:\n",
    "    print(f\"{N} is not a prime number.\")\n"
   ]
  },
  {
   "cell_type": "code",
   "execution_count": null,
   "id": "6108b50d-2357-4d9f-8211-44042ed543ce",
   "metadata": {},
   "outputs": [],
   "source": [
    "#28. List Manipulation: Given a list of integers, write a Python program using a for loop to find the sum, average, maximum, and minimum valu"
   ]
  },
  {
   "cell_type": "code",
   "execution_count": 59,
   "id": "a73da627-e894-4bca-8056-247601d33e7b",
   "metadata": {},
   "outputs": [
    {
     "name": "stdout",
     "output_type": "stream",
     "text": [
      "Sum: 150\n",
      "Average: 30.0\n",
      "Maximum: 50\n",
      "Minimum: 10\n"
     ]
    }
   ],
   "source": [
    "\n",
    "def list_statistics(numbers):\n",
    "    if not numbers:\n",
    "        return \"The list is empty.\"\n",
    "\n",
    "\n",
    "    total_sum = 0\n",
    "    max_value = numbers[0]\n",
    "    min_value = numbers[0]\n",
    "    count = 0\n",
    "\n",
    "\n",
    "    for num in numbers:\n",
    "        total_sum += num\n",
    "        if num > max_value:\n",
    "            max_value = num\n",
    "        if num < min_value:\n",
    "            min_value = num\n",
    "        count += 1\n",
    "    \n",
    "\n",
    "    average = total_sum / count\n",
    "    \n",
    "    return total_sum, average, max_value, min_value\n",
    "\n",
    "numbers = [10, 20, 30, 40, 50]\n",
    "\n",
    "total_sum, average, max_value, min_value = list_statistics(numbers)\n",
    "\n",
    "print(f\"Sum: {total_sum}\")\n",
    "print(f\"Average: {average}\")\n",
    "print(f\"Maximum: {max_value}\")\n",
    "print(f\"Minimum: {min_value}\")\n"
   ]
  },
  {
   "cell_type": "code",
   "execution_count": null,
   "id": "313e0315-1a4c-4af0-896c-adae40ef66d4",
   "metadata": {},
   "outputs": [],
   "source": [
    "#29. Reverse String: Write a Python program using a while loop to reverse a given string."
   ]
  },
  {
   "cell_type": "code",
   "execution_count": 61,
   "id": "f45add4e-8f0f-4ac2-8cd6-b47de371d762",
   "metadata": {},
   "outputs": [
    {
     "name": "stdin",
     "output_type": "stream",
     "text": [
      "Enter a string to reverse:  1,2,3,4,5\n"
     ]
    },
    {
     "name": "stdout",
     "output_type": "stream",
     "text": [
      "Reversed string: 5,4,3,2,1\n"
     ]
    }
   ],
   "source": [
    "\n",
    "def reverse_string(s):\n",
    "    reversed_str = \"\"\n",
    "    index = len(s) - 1  \n",
    "    \n",
    "    while index >= 0:\n",
    "        reversed_str += s[index]  \n",
    "        index -= 1  \n",
    "    \n",
    "    return reversed_str\n",
    "\n",
    "input_string = input(\"Enter a string to reverse: \")\n",
    "\n",
    "result = reverse_string(input_string)\n",
    "\n",
    "print(f\"Reversed string: {result}\")\n"
   ]
  },
  {
   "cell_type": "code",
   "execution_count": null,
   "id": "1a14e672-5203-46a4-a193-5638f8f75bae",
   "metadata": {},
   "outputs": [],
   "source": [
    "#30. Multiplication Table: Write a Python program using nested loops to print the multiplication table from 1 to 10."
   ]
  },
  {
   "cell_type": "code",
   "execution_count": 63,
   "id": "e2131c85-089e-43c3-a63b-2faf428ec4c3",
   "metadata": {},
   "outputs": [
    {
     "name": "stdout",
     "output_type": "stream",
     "text": [
      "Multiplication Table (1 to 10):\n",
      "   1    2    3    4    5    6    7    8    9   10 \n",
      "   2    4    6    8   10   12   14   16   18   20 \n",
      "   3    6    9   12   15   18   21   24   27   30 \n",
      "   4    8   12   16   20   24   28   32   36   40 \n",
      "   5   10   15   20   25   30   35   40   45   50 \n",
      "   6   12   18   24   30   36   42   48   54   60 \n",
      "   7   14   21   28   35   42   49   56   63   70 \n",
      "   8   16   24   32   40   48   56   64   72   80 \n",
      "   9   18   27   36   45   54   63   72   81   90 \n",
      "  10   20   30   40   50   60   70   80   90  100 \n"
     ]
    }
   ],
   "source": [
    "\n",
    "def print_multiplication_table():\n",
    "    print(\"Multiplication Table (1 to 10):\")\n",
    "    \n",
    "    \n",
    "    for i in range(1, 11):\n",
    "        for j in range(1, 11):\n",
    "            \n",
    "            print(f\"{i * j:4}\", end=' ')\n",
    "        \n",
    "        print()\n",
    "\n",
    "print_multiplication_table()\n"
   ]
  },
  {
   "cell_type": "code",
   "execution_count": null,
   "id": "8771ce95-3def-4f51-8c3d-008e27ef1e67",
   "metadata": {},
   "outputs": [],
   "source": [
    "#32. Matrix Multiplication: Write a Python program using nested loops to multiply two matrices."
   ]
  },
  {
   "cell_type": "code",
   "execution_count": 65,
   "id": "9a25f9ad-c79e-4b7f-b038-7ba770c6c3d8",
   "metadata": {},
   "outputs": [
    {
     "name": "stdout",
     "output_type": "stream",
     "text": [
      "Matrix A:\n",
      "[1, 2]\n",
      "[3, 4]\n",
      "\n",
      "Matrix B:\n",
      "[5, 6]\n",
      "[7, 8]\n",
      "\n",
      "Resultant Matrix C:\n",
      "[19, 22]\n",
      "[43, 50]\n"
     ]
    }
   ],
   "source": [
    "\n",
    "def matrix_multiply(A, B):\n",
    "\n",
    "    m = len(A)\n",
    "    \n",
    "    p = len(B[0])\n",
    "\n",
    "    n = len(B)\n",
    "    \n",
    "\n",
    "    C = [[0] * p for _ in range(m)]\n",
    "    \n",
    "    for i in range(m):\n",
    "        for j in range(p):\n",
    "            C[i][j] = sum(A[i][k] * B[k][j] for k in range(n))\n",
    "    \n",
    "    return C\n",
    "\n",
    "A = [\n",
    "    [1, 2],\n",
    "    [3, 4]\n",
    "]\n",
    "\n",
    "B = [\n",
    "    [5, 6],\n",
    "    [7, 8]\n",
    "]\n",
    "\n",
    "C = matrix_multiply(A, B)\n",
    "\n",
    "print(\"Matrix A:\")\n",
    "for row in A:\n",
    "    print(row)\n",
    "\n",
    "print(\"\\nMatrix B:\")\n",
    "for row in B:\n",
    "    print(row)\n",
    "\n",
    "print(\"\\nResultant Matrix C:\")\n",
    "for row in C:\n",
    "    print(row)\n"
   ]
  },
  {
   "cell_type": "code",
   "execution_count": null,
   "id": "892c249b-ad59-451e-bafc-7c95dee626e8",
   "metadata": {},
   "outputs": [],
   "source": [
    "#33. Chessboard Pattern: Write a Python program using nested loops to print a chessboard pattern (alternating “X” and “O” characters) of size 8×8"
   ]
  },
  {
   "cell_type": "code",
   "execution_count": 67,
   "id": "64aef5c5-2779-4dee-9a27-70f0dcbe460b",
   "metadata": {},
   "outputs": [
    {
     "name": "stdout",
     "output_type": "stream",
     "text": [
      "X O X O X O X O \n",
      "O X O X O X O X \n",
      "X O X O X O X O \n",
      "O X O X O X O X \n",
      "X O X O X O X O \n",
      "O X O X O X O X \n",
      "X O X O X O X O \n",
      "O X O X O X O X \n"
     ]
    }
   ],
   "source": [
    "\n",
    "def print_chessboard(size):\n",
    "    for i in range(size):\n",
    "        for j in range(size):\n",
    "            if (i + j) % 2 == 0:\n",
    "                print('X', end=' ')\n",
    "            else:\n",
    "                print('O', end=' ')\n",
    "        print()  \n",
    "\n",
    "size = 8\n",
    "\n",
    "print_chessboard(size)\n"
   ]
  },
  {
   "cell_type": "code",
   "execution_count": null,
   "id": "96feb8eb-d44b-4809-aa28-be8b58cf21c1",
   "metadata": {},
   "outputs": [],
   "source": [
    "#34. List Sum: Write a Python program to find the sum of all elements in a given list of integers."
   ]
  },
  {
   "cell_type": "code",
   "execution_count": 69,
   "id": "e2559b5e-a174-468e-8c8b-2525846e4cbd",
   "metadata": {},
   "outputs": [
    {
     "name": "stdout",
     "output_type": "stream",
     "text": [
      "The sum of all elements in the list is: 15\n"
     ]
    }
   ],
   "source": [
    "\n",
    "def list_sum(lst):\n",
    "    return sum(lst)\n",
    "\n",
    "numbers = [1, 2, 3, 4, 5]\n",
    "\n",
    "total_sum = list_sum(numbers)\n",
    "\n",
    "print(\"The sum of all elements in the list is:\", total_sum)\n"
   ]
  },
  {
   "cell_type": "code",
   "execution_count": null,
   "id": "b3b1985d-b4d0-4168-9726-507323ca9bda",
   "metadata": {},
   "outputs": [],
   "source": [
    "#35. List Average: Write a Python program to calculate the average of all elements in a given list of integers."
   ]
  },
  {
   "cell_type": "code",
   "execution_count": 71,
   "id": "750117aa-3a28-4332-b802-5f1e98a74145",
   "metadata": {},
   "outputs": [
    {
     "name": "stdout",
     "output_type": "stream",
     "text": [
      "The average of all elements in the list is: 3.0\n"
     ]
    }
   ],
   "source": [
    "\n",
    "def list_average(lst):\n",
    "    if len(lst) == 0:\n",
    "        return 0  \n",
    "    return sum(lst) / len(lst)\n",
    "\n",
    "numbers = [1, 2, 3, 4, 5]\n",
    "\n",
    "average = list_average(numbers)\n",
    "\n",
    "print(\"The average of all elements in the list is:\", average)\n"
   ]
  },
  {
   "cell_type": "code",
   "execution_count": null,
   "id": "469a03d0-23bf-4579-8748-8a9e20f2f6cd",
   "metadata": {},
   "outputs": [],
   "source": [
    "#36. List Max and Min: Write a Python program to find the maximum and minimum values in a given list of integers."
   ]
  },
  {
   "cell_type": "code",
   "execution_count": 75,
   "id": "e1b58a68-4479-4bad-834f-7734ae241d81",
   "metadata": {},
   "outputs": [
    {
     "name": "stdout",
     "output_type": "stream",
     "text": [
      "The sum of all elements in the list is: 15\n"
     ]
    }
   ],
   "source": [
    "# Function to calculate the sum of elements in a list\n",
    "def list_sum(lst):\n",
    "    return sum(lst)\n",
    "\n",
    "# Example list of integers\n",
    "numbers = [1, 2, 3, 4, 5]\n",
    "\n",
    "# Calculate the sum\n",
    "total_sum = list_sum(numbers)\n",
    "\n",
    "# Print the result\n",
    "print(\"The sum of all elements in the list is:\", total_sum)\n"
   ]
  },
  {
   "cell_type": "code",
   "execution_count": null,
   "id": "bca3d28f-0f33-45a2-8c58-abf033c53739",
   "metadata": {},
   "outputs": [],
   "source": [
    "#37. List Sorting: Write a Python program to sort a list of integers in ascending order."
   ]
  },
  {
   "cell_type": "code",
   "execution_count": 77,
   "id": "ca6ee6e0-9770-43cb-a061-5572c100da19",
   "metadata": {},
   "outputs": [
    {
     "name": "stdout",
     "output_type": "stream",
     "text": [
      "The sorted list is: [5, 7, 23, 32, 32, 34, 62]\n"
     ]
    }
   ],
   "source": [
    "\n",
    "def sort_list(lst):\n",
    "    lst.sort()  # Sorts the list in place\n",
    "\n",
    "numbers = [34, 7, 23, 32, 5, 62, 32]\n",
    "\n",
    "sort_list(numbers)\n",
    "\n",
    "print(\"The sorted list is:\", numbers)\n"
   ]
  },
  {
   "cell_type": "code",
   "execution_count": null,
   "id": "804c9778-6b15-458d-a4bc-39c777546fa7",
   "metadata": {},
   "outputs": [],
   "source": [
    "#38. List Filtering: Given a list of integers, write a Python program to create a new list that contains only the even numbers from the original "
   ]
  },
  {
   "cell_type": "code",
   "execution_count": 79,
   "id": "f8dc047a-60c7-41fe-8349-b855df21e535",
   "metadata": {},
   "outputs": [
    {
     "name": "stdout",
     "output_type": "stream",
     "text": [
      "The list of even numbers is: [2, 4, 6, 8, 10]\n"
     ]
    }
   ],
   "source": [
    "\n",
    "def filter_even_numbers(lst):\n",
    "    even_numbers = []\n",
    "    for number in lst:\n",
    "        if number % 2 == 0:\n",
    "            even_numbers.append(number)\n",
    "    return even_numbers\n",
    "\n",
    "numbers = [1, 2, 3, 4, 5, 6, 7, 8, 9, 10]\n",
    "\n",
    "even_numbers = filter_even_numbers(numbers)\n",
    "\n",
    "print(\"The list of even numbers is:\", even_numbers)\n"
   ]
  },
  {
   "cell_type": "code",
   "execution_count": null,
   "id": "f053fa6e-fb45-48f4-ba57-b77a847bea5f",
   "metadata": {},
   "outputs": [],
   "source": [
    "#39. List Reversal: Write a Python program to reverse a given list without using any built-in functions."
   ]
  },
  {
   "cell_type": "code",
   "execution_count": 81,
   "id": "4ac4fa96-7c55-4b3d-9acf-499a93f03b5c",
   "metadata": {},
   "outputs": [
    {
     "name": "stdout",
     "output_type": "stream",
     "text": [
      "The reversed list is: [5, 4, 3, 2, 1]\n"
     ]
    }
   ],
   "source": [
    "\n",
    "def reverse_list(lst):\n",
    "    start = 0\n",
    "    end = len(lst) - 1\n",
    "    while start < end:\n",
    "    \n",
    "        lst[start], lst[end] = lst[end], lst[start]\n",
    "    \n",
    "        start += 1\n",
    "        end -= 1\n",
    "\n",
    "numbers = [1, 2, 3, 4, 5]\n",
    "\n",
    "reverse_list(numbers)\n",
    "\n",
    "print(\"The reversed list is:\", numbers)\n"
   ]
  },
  {
   "cell_type": "code",
   "execution_count": null,
   "id": "dd7d0027-d220-47c2-ba55-89851890eeb7",
   "metadata": {},
   "outputs": [],
   "source": [
    "#40. List Manipulation: Given two lists of integers, write a Python program to create a new list that contains elements common to both lists."
   ]
  },
  {
   "cell_type": "code",
   "execution_count": 83,
   "id": "14c62712-a67f-47ef-a1b4-f34826b59029",
   "metadata": {},
   "outputs": [
    {
     "name": "stdout",
     "output_type": "stream",
     "text": [
      "Common elements: [4, 5]\n"
     ]
    }
   ],
   "source": [
    "\n",
    "def common_elements_set(list1, list2):\n",
    "    set1 = set(list1)\n",
    "    set2 = set(list2)\n",
    "    return list(set1 & set2)\n",
    "\n",
    "list1 = [1, 2, 3, 4, 5]\n",
    "list2 = [4, 5, 6, 7, 8]\n",
    "\n",
    "common_list = common_elements_set(list1, list2)\n",
    "\n",
    "print(\"Common elements:\", common_list)\n"
   ]
  },
  {
   "cell_type": "code",
   "execution_count": null,
   "id": "8c489aa0-e297-4834-ae12-f737255f2f2f",
   "metadata": {},
   "outputs": [],
   "source": [
    "#41. List Element Count: Write a Python program to count the occurrences of a specific element in a given list."
   ]
  },
  {
   "cell_type": "code",
   "execution_count": 85,
   "id": "f7350801-b819-4026-a74d-d59aa4681f35",
   "metadata": {},
   "outputs": [
    {
     "name": "stdout",
     "output_type": "stream",
     "text": [
      "The element 2 occurs 3 times in the list.\n"
     ]
    }
   ],
   "source": [
    "\n",
    "def count_occurrences(lst, element):\n",
    "    return lst.count(element)\n",
    "\n",
    "numbers = [1, 2, 3, 4, 2, 5, 2, 7]\n",
    "element_to_count = 2\n",
    "\n",
    "occurrences = count_occurrences(numbers, element_to_count)\n",
    "\n",
    "print(f\"The element {element_to_count} occurs {occurrences} times in the list.\")\n"
   ]
  },
  {
   "cell_type": "code",
   "execution_count": null,
   "id": "0488a4ac-86f2-4219-abf3-a3def3881148",
   "metadata": {},
   "outputs": [],
   "source": [
    "#42. List Duplicates Removal: Write a Python program to remove duplicates from a given list while preserving the order of the elements."
   ]
  },
  {
   "cell_type": "code",
   "execution_count": 87,
   "id": "774b685b-5007-42f0-9883-92e378fdf4f3",
   "metadata": {},
   "outputs": [
    {
     "name": "stdout",
     "output_type": "stream",
     "text": [
      "List after removing duplicates: [1, 2, 3, 4, 5, 6]\n"
     ]
    }
   ],
   "source": [
    "\n",
    "def remove_duplicates(lst):\n",
    "    seen = set()\n",
    "    result = []\n",
    "    for item in lst:\n",
    "        if item not in seen:\n",
    "            result.append(item)\n",
    "            seen.add(item)\n",
    "    return result\n",
    "\n",
    "numbers = [1, 2, 3, 2, 4, 5, 1, 6, 4]\n",
    "\n",
    "unique_numbers = remove_duplicates(numbers)\n",
    "\n",
    "print(\"List after removing duplicates:\", unique_numbers)\n"
   ]
  },
  {
   "cell_type": "code",
   "execution_count": null,
   "id": "f4cac9ab-2307-40eb-a5c0-3d7f531ccf69",
   "metadata": {},
   "outputs": [],
   "source": [
    "#43. List Comprehension: Given a list of integers, write a Python program to create a new list that contains the squares of the elements using li"
   ]
  },
  {
   "cell_type": "code",
   "execution_count": 89,
   "id": "23760931-533f-4947-9e9b-a67acad3d15e",
   "metadata": {},
   "outputs": [
    {
     "name": "stdout",
     "output_type": "stream",
     "text": [
      "List with squares of the elements: [1, 4, 9, 16, 25]\n"
     ]
    }
   ],
   "source": [
    "\n",
    "def square_elements(lst):\n",
    "    return [x ** 2 for x in lst]\n",
    "\n",
    "numbers = [1, 2, 3, 4, 5]\n",
    "\n",
    "squared_numbers = square_elements(numbers)\n",
    "\n",
    "print(\"List with squares of the elements:\", squared_numbers)\n"
   ]
  },
  {
   "cell_type": "code",
   "execution_count": null,
   "id": "6264bfa0-158a-4222-b363-85b85e577e5c",
   "metadata": {},
   "outputs": [],
   "source": [
    "#44. Matrix Addition: Write a Python program to add two matrices represented as nested lists."
   ]
  },
  {
   "cell_type": "code",
   "execution_count": 91,
   "id": "79763431-243a-4655-9470-6973b61403b3",
   "metadata": {},
   "outputs": [
    {
     "name": "stdout",
     "output_type": "stream",
     "text": [
      "Resultant matrix after addition:\n",
      "[8, 10, 12]\n",
      "[14, 16, 18]\n"
     ]
    }
   ],
   "source": [
    "\n",
    "def add_matrices(matrix1, matrix2):\n",
    "\n",
    "    if len(matrix1) != len(matrix2) or any(len(row1) != len(row2) for row1, row2 in zip(matrix1, matrix2)):\n",
    "        raise ValueError(\"Matrices must have the same dimensions for addition.\")\n",
    "    \n",
    "\n",
    "    result = []\n",
    "    for row1, row2 in zip(matrix1, matrix2):\n",
    "        result_row = [elem1 + elem2 for elem1, elem2 in zip(row1, row2)]\n",
    "        result.append(result_row)\n",
    "    \n",
    "    return result\n",
    "\n",
    "matrix1 = [\n",
    "    [1, 2, 3],\n",
    "    [4, 5, 6]\n",
    "]\n",
    "\n",
    "matrix2 = [\n",
    "    [7, 8, 9],\n",
    "    [10, 11, 12]\n",
    "]\n",
    "\n",
    "result_matrix = add_matrices(matrix1, matrix2)\n",
    "\n",
    "print(\"Resultant matrix after addition:\")\n",
    "for row in result_matrix:\n",
    "    print(row)\n"
   ]
  },
  {
   "cell_type": "code",
   "execution_count": null,
   "id": "fdc85040-d4e1-416a-a1c2-e87bdabc1439",
   "metadata": {},
   "outputs": [],
   "source": [
    "#45. Flatten Nested List: Write a Python program to flatten a given nested list and convert it into a single-dimensional list."
   ]
  },
  {
   "cell_type": "code",
   "execution_count": 93,
   "id": "600c9b0d-fcce-4dbe-8e49-bebd24e7a727",
   "metadata": {},
   "outputs": [
    {
     "name": "stdout",
     "output_type": "stream",
     "text": [
      "Flattened list: [1, 2, 3, 4, 5, 6, 7, 8]\n"
     ]
    }
   ],
   "source": [
    "\n",
    "def flatten_list(nested_list):\n",
    "    flat_list = []\n",
    "    \n",
    "    for item in nested_list:\n",
    "        \n",
    "        if isinstance(item, list):\n",
    "            flat_list.extend(flatten_list(item))\n",
    "        else:\n",
    "            \n",
    "            flat_list.append(item)\n",
    "    \n",
    "    return flat_list\n",
    "\n",
    "nested_list = [1, [2, [3, 4], 5], [6, 7], 8]\n",
    "\n",
    "flattened = flatten_list(nested_list)\n",
    "\n",
    "print(\"Flattened list:\", flattened)\n"
   ]
  },
  {
   "cell_type": "code",
   "execution_count": null,
   "id": "4bb6985f-6beb-4015-9c2d-64bd0c3ad5b6",
   "metadata": {},
   "outputs": [],
   "source": [
    "#46. List Element Frequency: Given a nested list containing lists of integers, write a Python program to count the frequency of each element in"
   ]
  },
  {
   "cell_type": "code",
   "execution_count": 95,
   "id": "ce41c3ae-1422-4a60-8400-bde242a26221",
   "metadata": {},
   "outputs": [
    {
     "name": "stdout",
     "output_type": "stream",
     "text": [
      "Element frequencies: {1: 2, 2: 3, 3: 3, 4: 2, 5: 1, 6: 1}\n"
     ]
    }
   ],
   "source": [
    "from collections import Counter\n",
    "\n",
    "def flatten_list(nested_list):\n",
    "    flat_list = []\n",
    "    for item in nested_list:\n",
    "        if isinstance(item, list):\n",
    "            flat_list.extend(flatten_list(item))\n",
    "        else:\n",
    "            flat_list.append(item)\n",
    "    return flat_list\n",
    "\n",
    "def count_element_frequency(nested_list):\n",
    "    flat_list = flatten_list(nested_list)\n",
    "    return dict(Counter(flat_list))\n",
    "\n",
    "nested_list = [[1, 2, 3], [4, [2, 3]], [3, 4, 5, [6]], [1, 2]]\n",
    "\n",
    "frequency = count_element_frequency(nested_list)\n",
    "\n",
    "print(\"Element frequencies:\", frequency)\n"
   ]
  },
  {
   "cell_type": "code",
   "execution_count": null,
   "id": "59d2c21d-6308-426e-8414-cf89e41017d0",
   "metadata": {},
   "outputs": [],
   "source": [
    "#47. Transpose Matrix: Write a Python program to transpose a given matrix represented as a nested list."
   ]
  },
  {
   "cell_type": "code",
   "execution_count": 97,
   "id": "59dcee96-51d7-41ca-ae8a-654522799e3f",
   "metadata": {},
   "outputs": [
    {
     "name": "stdout",
     "output_type": "stream",
     "text": [
      "Original matrix:\n",
      "[1, 2, 3]\n",
      "[4, 5, 6]\n",
      "[7, 8, 9]\n",
      "\n",
      "Transposed matrix:\n",
      "[1, 4, 7]\n",
      "[2, 5, 8]\n",
      "[3, 6, 9]\n"
     ]
    }
   ],
   "source": [
    "\n",
    "def transpose_matrix(matrix):\n",
    "    \n",
    "    return [[matrix[j][i] for j in range(len(matrix))] for i in range(len(matrix[0]))]\n",
    "\n",
    "matrix = [\n",
    "    [1, 2, 3],\n",
    "    [4, 5, 6],\n",
    "    [7, 8, 9]\n",
    "]\n",
    "\n",
    "transposed = transpose_matrix(matrix)\n",
    "\n",
    "print(\"Original matrix:\")\n",
    "for row in matrix:\n",
    "    print(row)\n",
    "\n",
    "print(\"\\nTransposed matrix:\")\n",
    "for row in transposed:\n",
    "    print(row)\n"
   ]
  },
  {
   "cell_type": "code",
   "execution_count": null,
   "id": "87440486-bc2c-4def-8f8d-0f10cb2865b5",
   "metadata": {},
   "outputs": [],
   "source": [
    "#48. List of Lists Concatenation: Given a list of nested lists, write a Python program to concatenate all the sublists into a single flat list."
   ]
  },
  {
   "cell_type": "code",
   "execution_count": 99,
   "id": "cfafe5ac-598d-41d7-863f-daa0f498e052",
   "metadata": {},
   "outputs": [
    {
     "name": "stdout",
     "output_type": "stream",
     "text": [
      "Concatenated list: [1, 2, 3, 4, 5, 6, 7, 8, 9]\n"
     ]
    }
   ],
   "source": [
    "\n",
    "def concatenate_lists(list_of_lists):\n",
    "\n",
    "    return [item for sublist in list_of_lists for item in sublist]\n",
    "\n",
    "list_of_lists = [[1, 2, 3], [4, 5], [6, 7, 8, 9]]\n",
    "\n",
    "flat_list = concatenate_lists(list_of_lists)\n",
    "\n",
    "print(\"Concatenated list:\", flat_list)\n"
   ]
  },
  {
   "cell_type": "code",
   "execution_count": null,
   "id": "1bbe31ec-b560-4171-acac-a4f5b592f9b1",
   "metadata": {},
   "outputs": [],
   "source": [
    "#49. Tuple Concatenation: Write a Python program to concatenate two tuples and create a new tuple."
   ]
  },
  {
   "cell_type": "code",
   "execution_count": 101,
   "id": "99384762-e5d3-4651-8824-212751ca4583",
   "metadata": {},
   "outputs": [
    {
     "name": "stdout",
     "output_type": "stream",
     "text": [
      "Concatenated tuple: (1, 2, 3, 4, 5, 6)\n"
     ]
    }
   ],
   "source": [
    "\n",
    "def concatenate_tuples(tuple1, tuple2):\n",
    "    return tuple1 + tuple2\n",
    "\n",
    "tuple1 = (1, 2, 3)\n",
    "tuple2 = (4, 5, 6)\n",
    "\n",
    "new_tuple = concatenate_tuples(tuple1, tuple2)\n",
    "\n",
    "print(\"Concatenated tuple:\", new_tuple)\n"
   ]
  },
  {
   "cell_type": "code",
   "execution_count": null,
   "id": "a97ec7cc-6d8f-4f19-b38d-6e12b657fd2e",
   "metadata": {},
   "outputs": [],
   "source": [
    "#50. Tuple Unpacking: Given a tuple with three elements (x, y, z), write a Python program to unpack the tuple and assign the values to three"
   ]
  },
  {
   "cell_type": "code",
   "execution_count": 103,
   "id": "b7a9604e-7b40-4da6-bf5d-5edfb3d1d482",
   "metadata": {},
   "outputs": [
    {
     "name": "stdout",
     "output_type": "stream",
     "text": [
      "x: 10\n",
      "y: 20\n",
      "z: 30\n"
     ]
    }
   ],
   "source": [
    "\n",
    "my_tuple = (10, 20, 30)\n",
    "\n",
    "x, y, z = my_tuple\n",
    "\n",
    "print(\"x:\", x)\n",
    "print(\"y:\", y)\n",
    "print(\"z:\", z)\n"
   ]
  },
  {
   "cell_type": "code",
   "execution_count": null,
   "id": "3620edc8-1136-40ab-910c-6f117fc342ec",
   "metadata": {},
   "outputs": [],
   "source": [
    "#51. Tuple Sorting: Write a Python program to sort a tuple of integers in ascending order."
   ]
  },
  {
   "cell_type": "code",
   "execution_count": 105,
   "id": "6558c90e-beda-4434-a4b5-16c7bf7eb9bd",
   "metadata": {},
   "outputs": [
    {
     "name": "stdout",
     "output_type": "stream",
     "text": [
      "Original tuple: (5, 2, 9, 1, 5, 6)\n",
      "Sorted tuple: (1, 2, 5, 5, 6, 9)\n"
     ]
    }
   ],
   "source": [
    "\n",
    "def sort_tuple(tup):\n",
    "    \n",
    "    list_from_tuple = list(tup)\n",
    "    list_from_tuple.sort()\n",
    "    \n",
    "    sorted_tuple = tuple(list_from_tuple)\n",
    "    return sorted_tuple\n",
    "\n",
    "my_tuple = (5, 2, 9, 1, 5, 6)\n",
    "\n",
    "sorted_tuple = sort_tuple(my_tuple)\n",
    "\n",
    "print(\"Original tuple:\", my_tuple)\n",
    "print(\"Sorted tuple:\", sorted_tuple)\n"
   ]
  },
  {
   "cell_type": "code",
   "execution_count": null,
   "id": "e4fe5694-dc3b-4d9a-9cf1-d676c56e5c72",
   "metadata": {},
   "outputs": [],
   "source": [
    "#52. Tuple Frequency Count: Given a tuple containing various elements, write a Python program to count the frequency of a specific element in the"
   ]
  },
  {
   "cell_type": "code",
   "execution_count": 107,
   "id": "a4c68bb0-75f6-4a42-91a8-1056e7eb67bd",
   "metadata": {},
   "outputs": [
    {
     "name": "stdout",
     "output_type": "stream",
     "text": [
      "Element 2 occurs 3 times in the tuple.\n"
     ]
    }
   ],
   "source": [
    "\n",
    "def count_element_frequency(tup, element):\n",
    "    return tup.count(element)\n",
    "\n",
    "my_tuple = (1, 2, 3, 4, 2, 2, 5, 3, 4, 1)\n",
    "\n",
    "element_to_count = 2\n",
    "\n",
    "frequency = count_element_frequency(my_tuple, element_to_count)\n",
    "\n",
    "print(f\"Element {element_to_count} occurs {frequency} times in the tuple.\")\n"
   ]
  },
  {
   "cell_type": "code",
   "execution_count": null,
   "id": "6ab100e1-0c36-4be1-9597-74b16cac0533",
   "metadata": {},
   "outputs": [],
   "source": [
    "#53. Tuple to List: Write a Python program to convert a tuple into a list. 54. Tuple Reversal: Write a Python program to reverse a tuple without "
   ]
  },
  {
   "cell_type": "code",
   "execution_count": 109,
   "id": "a9ed0579-e024-4b2d-84d5-46afcfd31579",
   "metadata": {},
   "outputs": [
    {
     "name": "stdout",
     "output_type": "stream",
     "text": [
      "x: 10\n",
      "y: 20\n",
      "z: 30\n"
     ]
    }
   ],
   "source": [
    "\n",
    "my_tuple = (10, 20, 30)\n",
    "\n",
    "x, y, z = my_tuple\n",
    "\n",
    "print(\"x:\", x)\n",
    "print(\"y:\", y)\n",
    "print(\"z:\", z)\n"
   ]
  },
  {
   "cell_type": "code",
   "execution_count": null,
   "id": "5bd3425b-034d-46f5-93fd-9889de7c9d3a",
   "metadata": {},
   "outputs": [],
   "source": [
    "#55. Tuple Slicing: Given a tuple, write a Python program to extract a slice of elements from it."
   ]
  },
  {
   "cell_type": "code",
   "execution_count": 111,
   "id": "505263fa-b496-42ab-bb7c-59a7decb7097",
   "metadata": {},
   "outputs": [
    {
     "name": "stdout",
     "output_type": "stream",
     "text": [
      "Original tuple: (10, 20, 30, 40, 50, 60, 70, 80, 90)\n",
      "Sliced tuple: (30, 50, 70)\n"
     ]
    }
   ],
   "source": [
    "\n",
    "def slice_tuple(tup, start, stop, step=1):\n",
    "    return tup[start:stop:step]\n",
    "my_tuple = (10, 20, 30, 40, 50, 60, 70, 80, 90)\n",
    "\n",
    "start_index = 2\n",
    "stop_index = 7\n",
    "step_value = 2\n",
    "\n",
    "sliced_tuple = slice_tuple(my_tuple, start_index, stop_index, step_value)\n",
    "\n",
    "print(\"Original tuple:\", my_tuple)\n",
    "print(\"Sliced tuple:\", sliced_tuple)\n"
   ]
  },
  {
   "cell_type": "code",
   "execution_count": null,
   "id": "5e7a5a21-ee58-473f-8dbe-e598fc49d647",
   "metadata": {},
   "outputs": [],
   "source": [
    "#56. Tuple Operations: Given two tuples of integers, write a Python program to perform element-wise addition, subtraction, and multiplication and"
   ]
  },
  {
   "cell_type": "code",
   "execution_count": 113,
   "id": "608c6d09-5d86-4ac0-ac39-0fc74476f226",
   "metadata": {},
   "outputs": [
    {
     "name": "stdout",
     "output_type": "stream",
     "text": [
      "Tuple 1: (1, 2, 3, 4)\n",
      "Tuple 2: (5, 6, 7, 8)\n",
      "Addition: (6, 8, 10, 12)\n",
      "Subtraction: (-4, -4, -4, -4)\n",
      "Multiplication: (5, 12, 21, 32)\n"
     ]
    }
   ],
   "source": [
    "\n",
    "def tuple_operations(tup1, tup2):\n",
    "    \n",
    "    if len(tup1) != len(tup2):\n",
    "        raise ValueError(\"Tuples must have the same length\")\n",
    "    addition = tuple(a + b for a, b in zip(tup1, tup2))\n",
    "    \n",
    "    subtraction = tuple(a - b for a, b in zip(tup1, tup2))\n",
    "    \n",
    "    multiplication = tuple(a * b for a, b in zip(tup1, tup2))\n",
    "    \n",
    "    return addition, subtraction, multiplication\n",
    "\n",
    "tuple1 = (1, 2, 3, 4)\n",
    "tuple2 = (5, 6, 7, 8)\n",
    "\n",
    "addition, subtraction, multiplication = tuple_operations(tuple1, tuple2)\n",
    "\n",
    "print(\"Tuple 1:\", tuple1)\n",
    "print(\"Tuple 2:\", tuple2)\n",
    "print(\"Addition:\", addition)\n",
    "print(\"Subtraction:\", subtraction)\n",
    "print(\"Multiplication:\", multiplication)\n"
   ]
  },
  {
   "cell_type": "code",
   "execution_count": null,
   "id": "be49ef78-ee3d-4d40-ad45-12b8eb4f5c34",
   "metadata": {},
   "outputs": [],
   "source": [
    "#57. Tuple Membership Test: Write a Python program that takes an element as input and checks if it exists in a given tuple."
   ]
  },
  {
   "cell_type": "code",
   "execution_count": 115,
   "id": "46fea0ae-0cd3-4866-8672-108b0dce7f5b",
   "metadata": {},
   "outputs": [
    {
     "name": "stdin",
     "output_type": "stream",
     "text": [
      "Enter an element to check:  10\n"
     ]
    },
    {
     "name": "stdout",
     "output_type": "stream",
     "text": [
      "10 is in the tuple.\n"
     ]
    }
   ],
   "source": [
    "\n",
    "def is_element_in_tuple(element, tup):\n",
    "    return element in tup\n",
    "my_tuple = (10, 20, 30, 40, 50)\n",
    "\n",
    "element_to_check = int(input(\"Enter an element to check: \"))\n",
    "\n",
    "if is_element_in_tuple(element_to_check, my_tuple):\n",
    "    print(f\"{element_to_check} is in the tuple.\")\n",
    "else:\n",
    "    print(f\"{element_to_check} is not in the tuple.\")\n"
   ]
  },
  {
   "cell_type": "code",
   "execution_count": null,
   "id": "257a65e0-8d3c-4349-b062-636f964ac42a",
   "metadata": {},
   "outputs": [],
   "source": [
    "#58. Tuple Packing: Write a Python program to pack three variables into a single tuple and print the tuple."
   ]
  },
  {
   "cell_type": "code",
   "execution_count": 117,
   "id": "51db1b54-6d01-47f4-959f-f0aaaf5f94be",
   "metadata": {},
   "outputs": [
    {
     "name": "stdout",
     "output_type": "stream",
     "text": [
      "Packed Tuple: ('Hello', 123, 45.67)\n"
     ]
    }
   ],
   "source": [
    "\n",
    "var1 = \"Hello\"\n",
    "var2 = 123\n",
    "var3 = 45.67\n",
    "\n",
    "packed_tuple = (var1, var2, var3)\n",
    "\n",
    "print(\"Packed Tuple:\", packed_tuple)\n"
   ]
  },
  {
   "cell_type": "code",
   "execution_count": null,
   "id": "7b7e3f8c-1f68-4a79-9795-b78a77f98fdf",
   "metadata": {},
   "outputs": [],
   "source": [
    "#59. Nested List Element Access: Given a nested list, write a Python program to access and print specific elements from it."
   ]
  },
  {
   "cell_type": "code",
   "execution_count": 119,
   "id": "ed2a053d-d997-4d92-a7cc-556b450b4029",
   "metadata": {},
   "outputs": [
    {
     "name": "stdout",
     "output_type": "stream",
     "text": [
      "Element at [0][1]: 2\n",
      "Element at [2][0]: 7\n",
      "Element at [1][2]: 6\n"
     ]
    }
   ],
   "source": [
    "\n",
    "nested_list = [\n",
    "    [1, 2, 3],\n",
    "    [4, 5, 6],\n",
    "    [7, 8, 9]\n",
    "]\n",
    "\n",
    "element_1 = nested_list[0][1]  \n",
    "element_2 = nested_list[2][0]  \n",
    "element_3 = nested_list[1][2]  \n",
    "\n",
    "print(\"Element at [0][1]:\", element_1)\n",
    "print(\"Element at [2][0]:\", element_2)\n",
    "print(\"Element at [1][2]:\", element_3)\n"
   ]
  },
  {
   "cell_type": "code",
   "execution_count": null,
   "id": "78eb2537-9100-4fe2-88c5-2ddd0d8edcc3",
   "metadata": {},
   "outputs": [],
   "source": [
    "#60. Nested List Flattening: Write a Python program to flatten a nested list and convert it into a single-dimensional list."
   ]
  },
  {
   "cell_type": "code",
   "execution_count": 121,
   "id": "e2731000-4641-4c96-af9d-0c8a295c9384",
   "metadata": {},
   "outputs": [
    {
     "name": "stdout",
     "output_type": "stream",
     "text": [
      "Flattened List: [1, 2, 3, 4, 5, 6, 7, 8, 9]\n"
     ]
    }
   ],
   "source": [
    "\n",
    "def flatten_list_recursive(nested_list):\n",
    "    flat_list = []\n",
    "    for item in nested_list:\n",
    "        if isinstance(item, list):\n",
    "            flat_list.extend(flatten_list_recursive(item))\n",
    "        else:\n",
    "            flat_list.append(item)\n",
    "    return flat_list\n",
    "nested_list = [\n",
    "    [1, 2, [3, 4]],\n",
    "    [5, 6, [7, 8]],\n",
    "    [9]\n",
    "]\n",
    "\n",
    "flat_list = flatten_list_recursive(nested_list)\n",
    "print(\"Flattened List:\", flat_list)\n"
   ]
  },
  {
   "cell_type": "code",
   "execution_count": null,
   "id": "f28b00e3-9a7e-4fbb-9a20-f1314a01ae1f",
   "metadata": {},
   "outputs": [],
   "source": [
    "#61. Nested List Sorting: Given a nested list containing lists of integers, write a Python program to sort the sublists based on their lengths."
   ]
  },
  {
   "cell_type": "code",
   "execution_count": 123,
   "id": "9db438ab-d185-47bf-9b9c-b178673159b4",
   "metadata": {},
   "outputs": [
    {
     "name": "stdout",
     "output_type": "stream",
     "text": [
      "Sorted List by Sublists Length: [[10], [4, 5], [1, 2, 3], [6, 7, 8, 9]]\n"
     ]
    }
   ],
   "source": [
    "\n",
    "def sort_nested_list_by_length(nested_list):\n",
    "    return sorted(nested_list, key=len)\n",
    "nested_list = [\n",
    "    [1, 2, 3],\n",
    "    [4, 5],\n",
    "    [6, 7, 8, 9],\n",
    "    [10]\n",
    "]\n",
    "\n",
    "sorted_list = sort_nested_list_by_length(nested_list)\n",
    "print(\"Sorted List by Sublists Length:\", sorted_list)\n"
   ]
  },
  {
   "cell_type": "code",
   "execution_count": null,
   "id": "e4da1857-228b-41fc-a358-f382c9108db4",
   "metadata": {},
   "outputs": [],
   "source": [
    "#62. List of Tuples Conversion: Given a nested list containing tuples of (x, y) coordinates, write a Python program to convert it into a list of "
   ]
  },
  {
   "cell_type": "code",
   "execution_count": 125,
   "id": "4293b674-7b2b-4c78-bd9f-afa9452be78d",
   "metadata": {},
   "outputs": [
    {
     "name": "stdout",
     "output_type": "stream",
     "text": [
      "List of x-coordinates: [1, 3, 5, 7, 9]\n",
      "List of y-coordinates: [2, 4, 6, 8, 10]\n"
     ]
    }
   ],
   "source": [
    "\n",
    "def convert_tuples_to_lists(nested_list):\n",
    "    x_coords = [x for sublist in nested_list for (x, y) in sublist]\n",
    "    y_coords = [y for sublist in nested_list for (x, y) in sublist]\n",
    "    return x_coords, y_coords\n",
    "\n",
    "nested_list = [\n",
    "    [(1, 2), (3, 4)],\n",
    "    [(5, 6), (7, 8)],\n",
    "    [(9, 10)]\n",
    "]\n",
    "\n",
    "x_list, y_list = convert_tuples_to_lists(nested_list)\n",
    "print(\"List of x-coordinates:\", x_list)\n",
    "print(\"List of y-coordinates:\", y_list)\n"
   ]
  },
  {
   "cell_type": "code",
   "execution_count": null,
   "id": "0063f4e6-189d-42c3-9ebb-a07d443fb955",
   "metadata": {},
   "outputs": [],
   "source": [
    "#63. Matrix Transpose: Write a Python program to transpose a given matrix represented as a nested list."
   ]
  },
  {
   "cell_type": "code",
   "execution_count": 127,
   "id": "b312572b-97cd-4b4d-b67e-7feabc9b0928",
   "metadata": {},
   "outputs": [
    {
     "name": "stdout",
     "output_type": "stream",
     "text": [
      "Original Matrix:\n",
      "[1, 2, 3]\n",
      "[4, 5, 6]\n",
      "[7, 8, 9]\n",
      "\n",
      "Transposed Matrix:\n",
      "[1, 4, 7]\n",
      "[2, 5, 8]\n",
      "[3, 6, 9]\n"
     ]
    }
   ],
   "source": [
    "\n",
    "def transpose_matrix(matrix):\n",
    "    # Using list comprehension to transpose the matrix\n",
    "    transposed = [list(row) for row in zip(*matrix)]\n",
    "    return transposed\n",
    "\n",
    "matrix = [\n",
    "    [1, 2, 3],\n",
    "    [4, 5, 6],\n",
    "    [7, 8, 9]\n",
    "]\n",
    "transposed_matrix = transpose_matrix(matrix)\n",
    "\n",
    "print(\"Original Matrix:\")\n",
    "for row in matrix:\n",
    "    print(row)\n",
    "\n",
    "print(\"\\nTransposed Matrix:\")\n",
    "for row in transposed_matrix:\n",
    "    print(row)\n"
   ]
  },
  {
   "cell_type": "code",
   "execution_count": null,
   "id": "10ea9bb1-0e4a-477a-a09c-75e5df6212f4",
   "metadata": {},
   "outputs": [],
   "source": [
    "#64. Nested List Concatenation: Given a list of nested lists, write a Python program to concatenate all the sublists into a single flat list."
   ]
  },
  {
   "cell_type": "code",
   "execution_count": 129,
   "id": "7bbe7762-f7f5-495d-9167-ac79367fffcf",
   "metadata": {},
   "outputs": [
    {
     "name": "stdout",
     "output_type": "stream",
     "text": [
      "Flat List: [1, 2, 3, 4, 5, 6, 7, 8, 9, 10]\n"
     ]
    }
   ],
   "source": [
    "import itertools\n",
    "\n",
    "def flatten_nested_list(nested_list):\n",
    "    return list(itertools.chain.from_iterable(nested_list))\n",
    "\n",
    "nested_list = [\n",
    "    [1, 2, 3],\n",
    "    [4, 5],\n",
    "    [6, 7, 8, 9],\n",
    "    [10]\n",
    "]\n",
    "\n",
    "flat_list = flatten_nested_list(nested_list)\n",
    "\n",
    "print(\"Flat List:\", flat_list)\n"
   ]
  },
  {
   "cell_type": "code",
   "execution_count": null,
   "id": "a9fd7d98-dc7a-4ab5-9801-766de2b9d479",
   "metadata": {},
   "outputs": [],
   "source": [
    "#65. Count Even Numbers: Write a Python program to count the number of even numbers in a nested list."
   ]
  },
  {
   "cell_type": "code",
   "execution_count": 131,
   "id": "c8ced5dd-9c87-482d-b5ca-0e71bc929350",
   "metadata": {},
   "outputs": [
    {
     "name": "stdout",
     "output_type": "stream",
     "text": [
      "Number of even numbers: 6\n"
     ]
    }
   ],
   "source": [
    "\n",
    "def count_even_numbers(nested_list):\n",
    "    count = 0\n",
    "    for sublist in nested_list:\n",
    "        for item in sublist:\n",
    "            if isinstance(item, int) and item % 2 == 0:\n",
    "                count += 1\n",
    "    return count\n",
    "\n",
    "nested_list = [\n",
    "    [1, 2, 3],\n",
    "    [4, 5, 6],\n",
    "    [7, 8, 9, 10],\n",
    "    [11, 12]\n",
    "]\n",
    "\n",
    "even_count = count_even_numbers(nested_list)\n",
    "\n",
    "print(\"Number of even numbers:\", even_count)\n"
   ]
  },
  {
   "cell_type": "code",
   "execution_count": null,
   "id": "af9c64d2-9db1-41cc-85df-5dd45fbf306f",
   "metadata": {},
   "outputs": [],
   "source": [
    "#66. Maximum Element in Nested List: Write a Python program to find the maximum element in a nested list of integers."
   ]
  },
  {
   "cell_type": "code",
   "execution_count": 133,
   "id": "91bc30a9-70b5-4c6a-ab60-7819ba173e33",
   "metadata": {},
   "outputs": [
    {
     "name": "stdout",
     "output_type": "stream",
     "text": [
      "Maximum element: 12\n"
     ]
    }
   ],
   "source": [
    "\n",
    "def find_max_in_nested_list(nested_list):\n",
    "    \n",
    "    max_element = float('-inf')\n",
    "    \n",
    "    for sublist in nested_list:\n",
    "    \n",
    "        for item in sublist:\n",
    "\n",
    "            if isinstance(item, int) and item > max_element:\n",
    "                max_element = item\n",
    "                \n",
    "    return max_element\n",
    "nested_list = [\n",
    "    [1, 3, 5],\n",
    "    [7, 2, 8],\n",
    "    [6, 4, 9, 10],\n",
    "    [11, 12]\n",
    "]\n",
    "\n",
    "max_element = find_max_in_nested_list(nested_list)\n",
    "\n",
    "print(\"Maximum element:\", max_element)\n"
   ]
  },
  {
   "cell_type": "code",
   "execution_count": null,
   "id": "69e7aef1-44a6-4631-b2b5-5e7b1386cf72",
   "metadata": {},
   "outputs": [],
   "source": [
    "#67. Diagonal Sum of Matrix: Given a square matrix represented as a nested list, write a Python program to calculate the sum of the elements in t"
   ]
  },
  {
   "cell_type": "code",
   "execution_count": 135,
   "id": "554274ee-3a69-495a-987e-6802496aabea",
   "metadata": {},
   "outputs": [
    {
     "name": "stdout",
     "output_type": "stream",
     "text": [
      "Sum of the main diagonal elements: 15\n"
     ]
    }
   ],
   "source": [
    "\n",
    "def diagonal_sum(matrix):\n",
    "    size = len(matrix)  \n",
    "    total = 0\n",
    "    \n",
    "    for i in range(size):\n",
    "        total += matrix[i][i] \n",
    "    \n",
    "    return total\n",
    "\n",
    "matrix = [\n",
    "    [1, 2, 3],\n",
    "    [4, 5, 6],\n",
    "    [7, 8, 9]\n",
    "]\n",
    "\n",
    "sum_diagonal = diagonal_sum(matrix)\n",
    "\n",
    "print(\"Sum of the main diagonal elements:\", sum_diagonal)\n"
   ]
  },
  {
   "cell_type": "code",
   "execution_count": null,
   "id": "54f54cfb-ed40-42f3-9019-955473289c60",
   "metadata": {},
   "outputs": [],
   "source": [
    "#68. Nested List Element Search: Write a Python program to search for a specific element in a nested list and return its position (row and col"
   ]
  },
  {
   "cell_type": "code",
   "execution_count": 137,
   "id": "539a802f-c8b4-44ea-99d9-c7bca469b581",
   "metadata": {},
   "outputs": [
    {
     "name": "stdout",
     "output_type": "stream",
     "text": [
      "Element found at position: (1, 1)\n"
     ]
    }
   ],
   "source": [
    "\n",
    "def search_element(nested_list, target):\n",
    "    \n",
    "    for row_index, sublist in enumerate(nested_list):\n",
    "    \n",
    "        for col_index, item in enumerate(sublist):\n",
    "        \n",
    "            if item == target:\n",
    "                return (row_index, col_index)\n",
    "\n",
    "    return None\n",
    "\n",
    "matrix = [\n",
    "    [10, 20, 30],\n",
    "    [40, 50, 60],\n",
    "    [70, 80, 90]\n",
    "]\n",
    "\n",
    "target = 50\n",
    "\n",
    "position = search_element(matrix, target)\n",
    "\n",
    "if position:\n",
    "    print(\"Element found at position:\", position)\n",
    "else:\n",
    "    print(\"Element not found.\")\n"
   ]
  },
  {
   "cell_type": "code",
   "execution_count": null,
   "id": "8d27d0a8-b3d6-4bfb-8bb0-316fa3b21646",
   "metadata": {},
   "outputs": [],
   "source": [
    "#69. Duplicate Removal: Write a Python program that takes a list of elements as input and creates a new set containing only the unique elements f"
   ]
  },
  {
   "cell_type": "code",
   "execution_count": 139,
   "id": "658b5580-9c57-4a20-8632-076f006009fb",
   "metadata": {},
   "outputs": [
    {
     "name": "stdout",
     "output_type": "stream",
     "text": [
      "Set of unique elements: {1, 2, 3, 4, 5, 6, 7}\n"
     ]
    }
   ],
   "source": [
    "\n",
    "def remove_duplicates(input_list):\n",
    "    \n",
    "    unique_elements = set(input_list)\n",
    "    return unique_elements\n",
    "\n",
    "elements = [1, 2, 2, 3, 4, 4, 5, 6, 6, 7]\n",
    "\n",
    "unique_set = remove_duplicates(elements)\n",
    "\n",
    "print(\"Set of unique elements:\", unique_set)\n"
   ]
  },
  {
   "cell_type": "code",
   "execution_count": null,
   "id": "7a8e4a1f-be73-4b30-9740-b692cc08f826",
   "metadata": {},
   "outputs": [],
   "source": [
    "#70. Set Intersection: Given two sets A and B, write a Python program to find their intersection and print the common elements."
   ]
  },
  {
   "cell_type": "code",
   "execution_count": 141,
   "id": "b4d6b2ce-f26c-4186-a940-248d8d3143e5",
   "metadata": {},
   "outputs": [
    {
     "name": "stdout",
     "output_type": "stream",
     "text": [
      "Common elements in both sets: {4, 5}\n"
     ]
    }
   ],
   "source": [
    "\n",
    "def find_intersection(set_a, set_b):\n",
    "\n",
    "    intersection = set_a & set_b\n",
    "    \n",
    "    return intersection\n",
    "\n",
    "set_a = {1, 2, 3, 4, 5}\n",
    "set_b = {4, 5, 6, 7, 8}\n",
    "\n",
    "common_elements = find_intersection(set_a, set_b)\n",
    "print(\"Common elements in both sets:\", common_elements)\n"
   ]
  },
  {
   "cell_type": "code",
   "execution_count": null,
   "id": "8bd0dbf5-214c-4f4f-ada5-efc39b1554da",
   "metadata": {},
   "outputs": [],
   "source": [
    "#71. Set Union: Given two sets A and B, write a Python program to find their union and print all the distinct elements from both sets."
   ]
  },
  {
   "cell_type": "code",
   "execution_count": 143,
   "id": "515f0361-8eca-4908-a0f8-d370766e9d07",
   "metadata": {},
   "outputs": [
    {
     "name": "stdout",
     "output_type": "stream",
     "text": [
      "Distinct elements from both sets: {1, 2, 3, 4, 5, 6, 7, 8}\n"
     ]
    }
   ],
   "source": [
    "\n",
    "def find_union(set_a, set_b):\n",
    "    \n",
    "    union = set_a | set_b\n",
    "    \n",
    "    return union\n",
    "\n",
    "set_a = {1, 2, 3, 4, 5}\n",
    "set_b = {4, 5, 6, 7, 8}\n",
    "\n",
    "distinct_elements = find_union(set_a, set_b)\n",
    "\n",
    "print(\"Distinct elements from both sets:\", distinct_elements)\n"
   ]
  },
  {
   "cell_type": "code",
   "execution_count": null,
   "id": "83d7a204-241b-4fd5-b6a6-3dbeb45f9a07",
   "metadata": {},
   "outputs": [],
   "source": [
    "#72. Set Difference: Given two sets A and B, write a Python program to find the difference between set A and set B (i.e., elements present in A b"
   ]
  },
  {
   "cell_type": "code",
   "execution_count": 147,
   "id": "b9c629ee-4b05-4b32-ab63-6a38f3c1df94",
   "metadata": {},
   "outputs": [
    {
     "name": "stdout",
     "output_type": "stream",
     "text": [
      "Elements present in set A but not in set B: {1, 2, 3}\n"
     ]
    }
   ],
   "source": [
    "\n",
    "def find_difference(set_a, set_b):\n",
    "    \n",
    "    difference = set_a - set_b\n",
    "    \n",
    "    return difference\n",
    "set_a = {1, 2, 3, 4, 5}\n",
    "set_b = {4, 5, 6, 7, 8}\n",
    "\n",
    "difference_elements = find_difference(set_a, set_b)\n",
    "print(\"Elements present in set A but not in set B:\", difference_elements)\n"
   ]
  },
  {
   "cell_type": "code",
   "execution_count": null,
   "id": "5f30cdee-45f2-4b94-b3af-5726ef40780b",
   "metadata": {},
   "outputs": [],
   "source": [
    "#73. Set Symmetric Difference: Given two sets A and B, write a Python program to find the symmetric difference between the two sets (i.e., eleme"
   ]
  },
  {
   "cell_type": "code",
   "execution_count": 149,
   "id": "e18e6368-7e71-4e45-8a26-9d1c9f1a7b62",
   "metadata": {},
   "outputs": [
    {
     "name": "stdout",
     "output_type": "stream",
     "text": [
      "Symmetric difference between set A and set B: {1, 2, 3, 6, 7, 8}\n"
     ]
    }
   ],
   "source": [
    "\n",
    "def find_symmetric_difference(set_a, set_b):\n",
    "    \n",
    "    symmetric_difference = set_a ^ set_b\n",
    "    \n",
    "    return symmetric_difference\n",
    "\n",
    "set_a = {1, 2, 3, 4, 5}\n",
    "set_b = {4, 5, 6, 7, 8}\n",
    "\n",
    "symmetric_diff_elements = find_symmetric_difference(set_a, set_b)\n",
    "\n",
    "print(\"Symmetric difference between set A and set B:\", symmetric_diff_elements)\n"
   ]
  },
  {
   "cell_type": "code",
   "execution_count": null,
   "id": "b9eaf600-9a3d-477d-94a6-41100c219b14",
   "metadata": {},
   "outputs": [],
   "source": [
    "#74. Set Operations: Given three sets A, B, and C, write a Python program to find and print the intersection of A and B, the union of B and C, an"
   ]
  },
  {
   "cell_type": "code",
   "execution_count": 151,
   "id": "9f12ded4-585e-49a2-b4a6-a11136b9f3d8",
   "metadata": {},
   "outputs": [
    {
     "name": "stdout",
     "output_type": "stream",
     "text": [
      "Intersection of A and B: {4, 5}\n",
      "Union of B and C: {4, 5, 6, 7, 8, 9, 10}\n",
      "Difference between C and A: {8, 9, 10, 7}\n"
     ]
    }
   ],
   "source": [
    "\n",
    "def set_operations(set_a, set_b, set_c):\n",
    "    \n",
    "    intersection_ab = set_a & set_b\n",
    "    \n",
    "    union_bc = set_b | set_c\n",
    "    \n",
    "    difference_ca = set_c - set_a\n",
    "    \n",
    "    return intersection_ab, union_bc, difference_ca\n",
    "\n",
    "set_a = {1, 2, 3, 4, 5}\n",
    "set_b = {4, 5, 6, 7, 8}\n",
    "set_c = {7, 8, 9, 10}\n",
    "\n",
    "intersection_ab, union_bc, difference_ca = set_operations(set_a, set_b, set_c)\n",
    "print(\"Intersection of A and B:\", intersection_ab)\n",
    "print(\"Union of B and C:\", union_bc)\n",
    "print(\"Difference between C and A:\", difference_ca)\n"
   ]
  },
  {
   "cell_type": "code",
   "execution_count": null,
   "id": "0073d90c-408c-4b84-90ea-4b4b46f92686",
   "metadata": {},
   "outputs": [],
   "source": [
    "#75. Set Subset Check: Given two sets A and B, write a Python program to check if set A is a subset of set B and print the result."
   ]
  },
  {
   "cell_type": "code",
   "execution_count": 153,
   "id": "12917c11-3618-47d4-bbdc-4b5273de93d3",
   "metadata": {},
   "outputs": [
    {
     "name": "stdout",
     "output_type": "stream",
     "text": [
      "Set A is a subset of Set B.\n"
     ]
    }
   ],
   "source": [
    "\n",
    "def is_subset(set_a, set_b):\n",
    "    \n",
    "    return set_a.issubset(set_b)\n",
    "\n",
    "set_a = {1, 2, 3}\n",
    "set_b = {1, 2, 3, 4, 5}\n",
    "\n",
    "if is_subset(set_a, set_b):\n",
    "    print(\"Set A is a subset of Set B.\")\n",
    "else:\n",
    "    print(\"Set A is not a subset of Set B.\")\n"
   ]
  },
  {
   "cell_type": "code",
   "execution_count": null,
   "id": "e5cd22c8-37e3-4e20-9627-b2cfeef72672",
   "metadata": {},
   "outputs": [],
   "source": [
    "#76. Set Superset Check: Given two sets A and B, write a Python program to check if set A is a superset of set B and print the result."
   ]
  },
  {
   "cell_type": "code",
   "execution_count": 155,
   "id": "8562b7e4-251e-4125-89fc-1216e8963172",
   "metadata": {},
   "outputs": [
    {
     "name": "stdout",
     "output_type": "stream",
     "text": [
      "Set A is a superset of Set B.\n"
     ]
    }
   ],
   "source": [
    "\n",
    "def is_superset(set_a, set_b):\n",
    "    \n",
    "    return set_a.issuperset(set_b)\n",
    "set_a = {1, 2, 3, 4, 5}\n",
    "set_b = {2, 3}\n",
    "\n",
    "if is_superset(set_a, set_b):\n",
    "    print(\"Set A is a superset of Set B.\")\n",
    "else:\n",
    "    print(\"Set A is not a superset of Set B.\")\n"
   ]
  },
  {
   "cell_type": "code",
   "execution_count": null,
   "id": "41523b46-76c0-4142-916a-7f5f12547129",
   "metadata": {},
   "outputs": [],
   "source": [
    "#77. Set Length Check: Write a Python program that takes a set as input and prints the number of elements in the set."
   ]
  },
  {
   "cell_type": "code",
   "execution_count": 157,
   "id": "d43d99b4-a1b8-4abb-9c08-6e7c9ce1f2e9",
   "metadata": {},
   "outputs": [
    {
     "name": "stdout",
     "output_type": "stream",
     "text": [
      "Number of elements in the set: 5\n"
     ]
    }
   ],
   "source": [
    "\n",
    "def set_length(input_set):\n",
    "    \n",
    "    print(\"Number of elements in the set:\", len(input_set))\n",
    "\n",
    "example_set = {10, 20, 30, 40, 50}\n",
    "\n",
    "set_length(example_set)\n"
   ]
  },
  {
   "cell_type": "code",
   "execution_count": null,
   "id": "e2c3d8b5-446a-4726-b263-4b642d1ef341",
   "metadata": {},
   "outputs": [],
   "source": [
    "#76. Set Membership Test: Write a Python program that takes an element as input and checks if it exists in a given set. Print “Found” if the elem"
   ]
  },
  {
   "cell_type": "code",
   "execution_count": 161,
   "id": "df559f91-739f-435b-b645-48b9100b5074",
   "metadata": {},
   "outputs": [
    {
     "name": "stdin",
     "output_type": "stream",
     "text": [
      "Enter an element to check:  4\n"
     ]
    },
    {
     "name": "stdout",
     "output_type": "stream",
     "text": [
      "Found\n"
     ]
    }
   ],
   "source": [
    "\n",
    "def check_membership(element, given_set):\n",
    "    if element in given_set:\n",
    "        print(\"Found\")\n",
    "    else:\n",
    "        print(\"Not Found\")\n",
    "\n",
    "example_set = {1, 2, 3, 4, 5}\n",
    "\n",
    "element_to_check = int(input(\"Enter an element to check: \"))\n",
    "\n",
    "check_membership(element_to_check, example_set)\n"
   ]
  },
  {
   "cell_type": "code",
   "execution_count": null,
   "id": "a27088c6-8ec5-43c2-87e0-8b083a2e253a",
   "metadata": {},
   "outputs": [],
   "source": [
    "#77. Dictionary Manipulation: Given a dictionary with student names as keys and their corresponding scores as values, write a Python program to a"
   ]
  },
  {
   "cell_type": "code",
   "execution_count": 163,
   "id": "36d6bb96-55ab-4bad-a364-dfef491bd658",
   "metadata": {},
   "outputs": [
    {
     "name": "stdout",
     "output_type": "stream",
     "text": [
      "Added new student: Daisy with score 92\n",
      "Updated Alice's score to 88\n",
      "\n",
      "Updated Dictionary:\n",
      "Alice: 88\n",
      "Bob: 90\n",
      "Charlie: 78\n",
      "Daisy: 92\n"
     ]
    }
   ],
   "source": [
    "\n",
    "def manipulate_dictionary(students_dict, new_student=None, new_score=None, update_student=None, update_score=None):\n",
    "    \n",
    "    if new_student and new_score is not None:\n",
    "        students_dict[new_student] = new_score\n",
    "        print(f\"Added new student: {new_student} with score {new_score}\")\n",
    "    \n",
    "    if update_student and update_score is not None:\n",
    "        if update_student in students_dict:\n",
    "            students_dict[update_student] = update_score\n",
    "            print(f\"Updated {update_student}'s score to {update_score}\")\n",
    "        else:\n",
    "            print(f\"Student {update_student} not found in the dictionary\")\n",
    "    \n",
    "    print(\"\\nUpdated Dictionary:\")\n",
    "    for student, score in students_dict.items():\n",
    "        print(f\"{student}: {score}\")\n",
    "\n",
    "students = {\n",
    "    \"Alice\": 85,\n",
    "    \"Bob\": 90,\n",
    "    \"Charlie\": 78\n",
    "}\n",
    "\n",
    "new_student = \"Daisy\"\n",
    "new_score = 92\n",
    "\n",
    "update_student = \"Alice\"\n",
    "update_score = 88\n",
    "\n",
    "manipulate_dictionary(students, new_student, new_score, update_student, update_score)\n"
   ]
  },
  {
   "cell_type": "code",
   "execution_count": null,
   "id": "42251dfd-c16d-43a6-a86b-e0d7e83187c7",
   "metadata": {},
   "outputs": [],
   "source": [
    "#78. Dictionary Keys and Values: Write a Python program that takes a dictionary as input and prints all the keys and values in separate lines."
   ]
  },
  {
   "cell_type": "code",
   "execution_count": 165,
   "id": "236de17e-7f40-4778-b1bd-efacd2d9a489",
   "metadata": {},
   "outputs": [
    {
     "name": "stdout",
     "output_type": "stream",
     "text": [
      "Keys:\n",
      "Alice\n",
      "Bob\n",
      "Charlie\n",
      "\n",
      "Values:\n",
      "85\n",
      "90\n",
      "78\n"
     ]
    }
   ],
   "source": [
    "def print_dict_keys_values(d):\n",
    "    \n",
    "    print(\"Keys:\")\n",
    "    for key in d.keys():\n",
    "        print(key)\n",
    "    print(\"\\nValues:\")\n",
    "    for value in d.values():\n",
    "        print(value)\n",
    "example_dict = {\n",
    "    \"Alice\": 85,\n",
    "    \"Bob\": 90,\n",
    "    \"Charlie\": 78\n",
    "}\n",
    "\n",
    "print_dict_keys_values(example_dict)\n"
   ]
  },
  {
   "cell_type": "code",
   "execution_count": null,
   "id": "e84b3550-5180-470b-a541-69499f45e323",
   "metadata": {},
   "outputs": [],
   "source": [
    "#79. Dictionary Length: Write a Python program to calculate and print the number of key-value pairs in a given dictionary."
   ]
  },
  {
   "cell_type": "code",
   "execution_count": 167,
   "id": "422f851d-c9cc-471c-bcbd-0d957a3844f4",
   "metadata": {},
   "outputs": [
    {
     "name": "stdout",
     "output_type": "stream",
     "text": [
      "The number of key-value pairs in the dictionary is: 3\n"
     ]
    }
   ],
   "source": [
    "def print_dict_length(d):\n",
    "    \n",
    "    length = len(d)\n",
    "\n",
    "    print(f\"The number of key-value pairs in the dictionary is: {length}\")\n",
    "\n",
    "example_dict = {\n",
    "    \"Alice\": 85,\n",
    "    \"Bob\": 90,\n",
    "    \"Charlie\": 78\n",
    "}\n",
    "\n",
    "print_dict_length(example_dict)\n"
   ]
  },
  {
   "cell_type": "code",
   "execution_count": null,
   "id": "060d1eee-66b5-4f5d-90ce-261f445a0c86",
   "metadata": {},
   "outputs": [],
   "source": [
    "#80. Dictionary Value Search: Given a dictionary of items and their prices, write a Python program to search for an item based on its price and p"
   ]
  },
  {
   "cell_type": "code",
   "execution_count": 169,
   "id": "ceea78ef-7dfc-4f06-b8ae-40b319dc61c6",
   "metadata": {},
   "outputs": [
    {
     "name": "stdout",
     "output_type": "stream",
     "text": [
      "Item found: Cherry\n"
     ]
    }
   ],
   "source": [
    "def search_item_by_price(items_dict, price):\n",
    "    \n",
    "    for item, item_price in items_dict.items():\n",
    "        \n",
    "        if item_price == price:\n",
    "            print(f\"Item found: {item}\")\n",
    "            return\n",
    "    \n",
    "    print(\"No item found with the given price.\")\n",
    "\n",
    "items = {\n",
    "    \"Apple\": 1.2,\n",
    "    \"Banana\": 0.5,\n",
    "    \"Cherry\": 2.5,\n",
    "    \"Date\": 3.0\n",
    "}\n",
    "\n",
    "search_price = 2.5\n",
    "search_item_by_price(items, search_price)\n"
   ]
  },
  {
   "cell_type": "code",
   "execution_count": null,
   "id": "950916c7-742d-4b9e-ae56-2587a863a5a4",
   "metadata": {},
   "outputs": [],
   "source": [
    "#81. Dictionary Merging: Given two dictionaries, write a Python program to merge them into a single dictionary and print the result."
   ]
  },
  {
   "cell_type": "code",
   "execution_count": 171,
   "id": "802642c4-6193-49bb-878e-1ffe1817530a",
   "metadata": {},
   "outputs": [
    {
     "name": "stdout",
     "output_type": "stream",
     "text": [
      "Merged Dictionary using update(): {'a': 1, 'b': 2, 'c': 3, 'd': 4, 'e': 5, 'f': 6}\n",
      "Merged Dictionary using {**dict1, **dict2}: {'a': 1, 'b': 2, 'c': 3, 'd': 4, 'e': 5, 'f': 6}\n"
     ]
    }
   ],
   "source": [
    "def merge_dictionaries(dict1, dict2):\n",
    "    \n",
    "    merged_dict = dict1.copy()  \n",
    "    merged_dict.update(dict2)   \n",
    "\n",
    "    merged_dict_alt = {**dict1, **dict2}\n",
    "\n",
    "    return merged_dict, merged_dict_alt\n",
    "\n",
    "dict1 = {\"a\": 1, \"b\": 2, \"c\": 3}\n",
    "dict2 = {\"d\": 4, \"e\": 5, \"f\": 6}\n",
    "\n",
    "merged_dict, merged_dict_alt = merge_dictionaries(dict1, dict2)\n",
    "print(\"Merged Dictionary using update():\", merged_dict)\n",
    "print(\"Merged Dictionary using {**dict1, **dict2}:\", merged_dict_alt)\n"
   ]
  },
  {
   "cell_type": "code",
   "execution_count": null,
   "id": "16aad149-4d6b-4084-baf4-3d34db627c27",
   "metadata": {},
   "outputs": [],
   "source": [
    "#82. Dictionary Key Removal: Given a dictionary of items and their quantities, write a Python program to remove a specific item from the dictiona"
   ]
  },
  {
   "cell_type": "code",
   "execution_count": 173,
   "id": "01a05860-21d3-495b-9fb8-465f849645c1",
   "metadata": {},
   "outputs": [
    {
     "name": "stdin",
     "output_type": "stream",
     "text": [
      "Enter the item you want to remove:  banana\n"
     ]
    },
    {
     "name": "stdout",
     "output_type": "stream",
     "text": [
      "Removed banana: 20\n",
      "Updated Inventory: {'apple': 10, 'orange': 15, 'mango': 5}\n"
     ]
    }
   ],
   "source": [
    "def remove_item_from_dict(inventory, item_to_remove):\n",
    "    \n",
    "    if item_to_remove in inventory:\n",
    "        removed_value = inventory.pop(item_to_remove)  \n",
    "        print(f\"Removed {item_to_remove}: {removed_value}\")\n",
    "    else:\n",
    "        print(f\"Item '{item_to_remove}' not found in the inventory.\")\n",
    "\n",
    "    return inventory\n",
    "\n",
    "inventory = {\n",
    "    \"apple\": 10,\n",
    "    \"banana\": 20,\n",
    "    \"orange\": 15,\n",
    "    \"mango\": 5\n",
    "}\n",
    "\n",
    "item_to_remove = input(\"Enter the item you want to remove: \").lower()\n",
    "\n",
    "updated_inventory = remove_item_from_dict(inventory, item_to_remove)\n",
    "\n",
    "print(\"Updated Inventory:\", updated_inventory)\n"
   ]
  },
  {
   "cell_type": "code",
   "execution_count": null,
   "id": "6d60c622-6f2b-4f10-959b-bc4a9dba0cb2",
   "metadata": {},
   "outputs": [],
   "source": [
    "#83. Dictionary Sorting: Given a dictionary with names as keys and corresponding ages as values, write a Python program to sort the dictionary "
   ]
  },
  {
   "cell_type": "code",
   "execution_count": 175,
   "id": "24b478cc-b78e-4d0f-9ea3-c1ae5cd07962",
   "metadata": {},
   "outputs": [
    {
     "name": "stdout",
     "output_type": "stream",
     "text": [
      "Dictionary sorted by age: {'Diana': 22, 'Bob': 25, 'Alice': 30, 'Charlie': 35}\n"
     ]
    }
   ],
   "source": [
    "def sort_dictionary_by_age(people):\n",
    "    \n",
    "    sorted_people = dict(sorted(people.items(), key=lambda item: item[1]))\n",
    "    return sorted_people\n",
    "\n",
    "people = {\n",
    "    \"Alice\": 30,\n",
    "    \"Bob\": 25,\n",
    "    \"Charlie\": 35,\n",
    "    \"Diana\": 22\n",
    "}\n",
    "\n",
    "sorted_people = sort_dictionary_by_age(people)\n",
    "\n",
    "print(\"Dictionary sorted by age:\", sorted_people)\n"
   ]
  },
  {
   "cell_type": "code",
   "execution_count": null,
   "id": "ef991923-d411-4035-81d3-04c8be4c201c",
   "metadata": {},
   "outputs": [],
   "source": [
    "#84. Dictionary Frequency Count: Write a Python program that takes a string as input and creates a dictionary containing each character as a key "
   ]
  },
  {
   "cell_type": "code",
   "execution_count": 177,
   "id": "1283cecc-2fe7-4479-9ab8-1f811821e23f",
   "metadata": {},
   "outputs": [
    {
     "name": "stdin",
     "output_type": "stream",
     "text": [
      "Enter a string:  2\n"
     ]
    },
    {
     "name": "stdout",
     "output_type": "stream",
     "text": [
      "Character frequency: {'2': 1}\n"
     ]
    }
   ],
   "source": [
    "def character_frequency(s):\n",
    "    \n",
    "    frequency_dict = {}\n",
    "    \n",
    "    for char in s:\n",
    "        \n",
    "        if char in frequency_dict:\n",
    "            frequency_dict[char] += 1\n",
    "        \n",
    "        else:\n",
    "            frequency_dict[char] = 1\n",
    "    \n",
    "    return frequency_dict\n",
    "\n",
    "input_string = input(\"Enter a string: \")\n",
    "\n",
    "result = character_frequency(input_string)\n",
    "\n",
    "print(\"Character frequency:\", result)\n"
   ]
  },
  {
   "cell_type": "code",
   "execution_count": null,
   "id": "daae9e94-0e6b-4ed0-8d2c-cec2474131e1",
   "metadata": {},
   "outputs": [],
   "source": [
    "#85. Dictionary Comprehension: Given a list of integers, write a Python program to create a dictionary where the keys are the elements from the l"
   ]
  },
  {
   "cell_type": "code",
   "execution_count": 179,
   "id": "fa013b32-c611-4af1-9d45-25effef95873",
   "metadata": {},
   "outputs": [
    {
     "name": "stdout",
     "output_type": "stream",
     "text": [
      "Dictionary with squares: {1: 1, 2: 4, 3: 9, 4: 16, 5: 25}\n"
     ]
    }
   ],
   "source": [
    "def create_square_dict(lst):\n",
    "    \n",
    "    square_dict = {x: x**2 for x in lst}\n",
    "    return square_dict\n",
    "\n",
    "input_list = [1, 2, 3, 4, 5]\n",
    "\n",
    "result = create_square_dict(input_list)\n",
    "\n",
    "print(\"Dictionary with squares:\", result)\n"
   ]
  },
  {
   "cell_type": "code",
   "execution_count": null,
   "id": "9d509cfe-4e07-418c-833e-0e3101b3b274",
   "metadata": {},
   "outputs": [],
   "source": [
    "#86. Dictionary Key Check: Write a Python program that takes a key as input and checks if it exists in a given dictionary. Print “Key Found” if t"
   ]
  },
  {
   "cell_type": "code",
   "execution_count": 181,
   "id": "e88997aa-4fa1-4fed-a069-9d42769b4cd3",
   "metadata": {},
   "outputs": [
    {
     "name": "stdin",
     "output_type": "stream",
     "text": [
      "Enter the key to check:  name\n"
     ]
    },
    {
     "name": "stdout",
     "output_type": "stream",
     "text": [
      "Key Found\n"
     ]
    }
   ],
   "source": [
    "def check_key_in_dict(d, key):\n",
    "    \n",
    "    if key in d:\n",
    "        print(\"Key Found\")\n",
    "    else:\n",
    "        print(\"Key Not Found\")\n",
    "\n",
    "my_dict = {'name': 'Alice', 'age': 25, 'city': 'New York'}\n",
    "\n",
    "key_to_check = input(\"Enter the key to check: \")\n",
    "\n",
    "check_key_in_dict(my_dict, key_to_check)\n"
   ]
  },
  {
   "cell_type": "code",
   "execution_count": null,
   "id": "9303b8c6-2a85-4c91-a2a7-72a31d3010ce",
   "metadata": {},
   "outputs": [],
   "source": [
    "#87. Access Nested Dictionary: Given a nested dictionary containing student details, write a Python program to access and print specific inform"
   ]
  },
  {
   "cell_type": "code",
   "execution_count": 183,
   "id": "85d3dbaf-671f-4723-b63e-f9760b46d8a4",
   "metadata": {},
   "outputs": [
    {
     "name": "stdin",
     "output_type": "stream",
     "text": [
      "Enter the student key (e.g., 'student1'):  name\n"
     ]
    },
    {
     "name": "stdout",
     "output_type": "stream",
     "text": [
      "Student not found\n"
     ]
    }
   ],
   "source": [
    "\n",
    "students = {\n",
    "    'student1': {\n",
    "        'name': 'John Doe',\n",
    "        'age': 20,\n",
    "        'address': {\n",
    "            'street': '123 Elm Street',\n",
    "            'city': 'Springfield',\n",
    "            'state': 'IL'\n",
    "        }\n",
    "    },\n",
    "    'student2': {\n",
    "        'name': 'Jane Smith',\n",
    "        'age': 22,\n",
    "        'address': {\n",
    "            'street': '456 Oak Avenue',\n",
    "            'city': 'Rivertown',\n",
    "            'state': 'CA'\n",
    "        }\n",
    "    }\n",
    "}\n",
    "\n",
    "def print_student_details(student_dict, student_key):\n",
    "    \n",
    "    if student_key in student_dict:\n",
    "        student_info = student_dict[student_key]\n",
    "    \n",
    "        print(f\"Name: {student_info['name']}\")\n",
    "        print(f\"Age: {student_info['age']}\")\n",
    "        print(f\"Address: {student_info['address']['street']}, \"\n",
    "              f\"{student_info['address']['city']}, \"\n",
    "              f\"{student_info['address']['state']}\")\n",
    "    else:\n",
    "        print(\"Student not found\")\n",
    "student_key = input(\"Enter the student key (e.g., 'student1'): \")\n",
    "print_student_details(students, student_key)\n"
   ]
  },
  {
   "cell_type": "code",
   "execution_count": null,
   "id": "1f782859-e0ec-497d-b38a-5137fa94228b",
   "metadata": {},
   "outputs": [],
   "source": [
    "#88. Nested Dictionary Length: Write a Python program to calculate and print the total number of key-value pairs in a nested dictionary."
   ]
  },
  {
   "cell_type": "code",
   "execution_count": 185,
   "id": "92202488-e935-42a7-8efe-b60e79fabbfb",
   "metadata": {},
   "outputs": [
    {
     "name": "stdout",
     "output_type": "stream",
     "text": [
      "Total number of key-value pairs in the nested dictionary: 17\n"
     ]
    }
   ],
   "source": [
    "def count_key_value_pairs(d):\n",
    "    \"\"\"\n",
    "    Recursively count the total number of key-value pairs in a nested dictionary.\n",
    "    \"\"\"\n",
    "    count = 0\n",
    "    for key, value in d.items():\n",
    "        count += 1  \n",
    "        if isinstance(value, dict):\n",
    "            count += count_key_value_pairs(value)  \n",
    "    return count\n",
    "\n",
    "nested_dict = {\n",
    "    'student1': {\n",
    "        'name': 'John Doe',\n",
    "        'age': 20,\n",
    "        'address': {\n",
    "            'street': '123 Elm Street',\n",
    "            'city': 'Springfield',\n",
    "            'state': 'IL'\n",
    "        }\n",
    "    },\n",
    "    'student2': {\n",
    "        'name': 'Jane Smith',\n",
    "        'age': 22,\n",
    "        'address': {\n",
    "            'street': '456 Oak Avenue',\n",
    "            'city': 'Rivertown',\n",
    "            'state': 'CA'\n",
    "        }\n",
    "    },\n",
    "    'class_info': {\n",
    "        'subject': 'Mathematics',\n",
    "        'teacher': 'Mr. Brown'\n",
    "    }\n",
    "}\n",
    "\n",
    "total_pairs = count_key_value_pairs(nested_dict)\n",
    "print(f\"Total number of key-value pairs in the nested dictionary: {total_pairs}\")\n"
   ]
  },
  {
   "cell_type": "code",
   "execution_count": null,
   "id": "127857cc-5e35-4929-a509-4a3007d1bad2",
   "metadata": {},
   "outputs": [],
   "source": [
    "#89. Nested Dictionary Update: Given a nested dictionary of employee details, write a Python program to update an employee’s salary based on thei"
   ]
  },
  {
   "cell_type": "code",
   "execution_count": 187,
   "id": "c7b2b6f1-bab5-4580-ad18-d03b171c4e83",
   "metadata": {},
   "outputs": [
    {
     "name": "stdout",
     "output_type": "stream",
     "text": [
      "Salary for employee ID 'head2' updated successfully.\n",
      "{'department_heads': {'head1': {'department': 'Engineering',\n",
      "                                'name': 'Michael Brown',\n",
      "                                'salary': 70000},\n",
      "                      'head2': {'department': 'Marketing',\n",
      "                                'name': 'Emma Wilson',\n",
      "                                'salary': 75000}},\n",
      " 'emp1': {'age': 30,\n",
      "          'department': 'Engineering',\n",
      "          'name': 'John Doe',\n",
      "          'salary': 50000},\n",
      " 'emp2': {'age': 28,\n",
      "          'department': 'Marketing',\n",
      "          'name': 'Jane Smith',\n",
      "          'salary': 55000},\n",
      " 'emp3': {'age': 35,\n",
      "          'department': 'HR',\n",
      "          'name': 'Alice Johnson',\n",
      "          'salary': 60000}}\n"
     ]
    }
   ],
   "source": [
    "def update_salary(employee_dict, employee_id, new_salary):\n",
    "    \"\"\"\n",
    "    Update the salary of an employee in a nested dictionary based on their employee ID.\n",
    "    \n",
    "    Parameters:\n",
    "    - employee_dict: The nested dictionary containing employee details.\n",
    "    - employee_id: The ID of the employee whose salary needs to be updated.\n",
    "    - new_salary: The new salary to be set for the employee.\n",
    "    \n",
    "    Returns:\n",
    "    - True if the salary was updated successfully, False if the employee ID was not found.\n",
    "    \"\"\"\n",
    "    for emp_id, details in employee_dict.items():\n",
    "        if emp_id == employee_id:\n",
    "            details['salary'] = new_salary\n",
    "            return True\n",
    "        elif isinstance(details, dict):\n",
    "            \n",
    "            for sub_emp_id, sub_details in details.items():\n",
    "                if isinstance(sub_details, dict) and sub_emp_id == employee_id:\n",
    "                    sub_details['salary'] = new_salary\n",
    "                    return True\n",
    "    return False\n",
    "\n",
    "employees = {\n",
    "    'emp1': {\n",
    "        'name': 'John Doe',\n",
    "        'age': 30,\n",
    "        'department': 'Engineering',\n",
    "        'salary': 50000\n",
    "    },\n",
    "    'emp2': {\n",
    "        'name': 'Jane Smith',\n",
    "        'age': 28,\n",
    "        'department': 'Marketing',\n",
    "        'salary': 55000\n",
    "    },\n",
    "    'emp3': {\n",
    "        'name': 'Alice Johnson',\n",
    "        'age': 35,\n",
    "        'department': 'HR',\n",
    "        'salary': 60000\n",
    "    },\n",
    "    'department_heads': {\n",
    "        'head1': {\n",
    "            'name': 'Michael Brown',\n",
    "            'department': 'Engineering',\n",
    "            'salary': 70000\n",
    "        },\n",
    "        'head2': {\n",
    "            'name': 'Emma Wilson',\n",
    "            'department': 'Marketing',\n",
    "            'salary': 72000\n",
    "        }\n",
    "    }\n",
    "}\n",
    "\n",
    "employee_id_to_update = 'head2'\n",
    "new_salary = 75000\n",
    "\n",
    "if update_salary(employees, employee_id_to_update, new_salary):\n",
    "    print(f\"Salary for employee ID '{employee_id_to_update}' updated successfully.\")\n",
    "else:\n",
    "    print(f\"Employee ID '{employee_id_to_update}' not found.\")\n",
    "\n",
    "import pprint\n",
    "pprint.pprint(employees)\n"
   ]
  },
  {
   "cell_type": "code",
   "execution_count": null,
   "id": "c8f65e36-4d30-4e2c-8561-5bc9fe72abb6",
   "metadata": {},
   "outputs": [],
   "source": [
    "#90. Nested Dictionary Sorting: Given a nested dictionary containing product details (product name, price, and quantity), write a Python program "
   ]
  },
  {
   "cell_type": "code",
   "execution_count": 189,
   "id": "278dd042-b655-41d8-98ee-6c76f2cb2867",
   "metadata": {},
   "outputs": [
    {
     "name": "stdout",
     "output_type": "stream",
     "text": [
      "Product ID: product4\n",
      "Name: Headphones\n",
      "Price: $150\n",
      "Quantity: 50\n",
      "---\n",
      "Product ID: product3\n",
      "Name: Tablet\n",
      "Price: $300\n",
      "Quantity: 30\n",
      "---\n",
      "Product ID: product2\n",
      "Name: Smartphone\n",
      "Price: $800\n",
      "Quantity: 25\n",
      "---\n",
      "Product ID: product1\n",
      "Name: Laptop\n",
      "Price: $1200\n",
      "Quantity: 10\n",
      "---\n"
     ]
    }
   ],
   "source": [
    "def sort_products_by_price(products_dict):\n",
    "    \"\"\"\n",
    "    Sorts a nested dictionary of products based on their prices in ascending order.\n",
    "    \n",
    "    Parameters:\n",
    "    - products_dict: The nested dictionary containing product details.\n",
    "    \n",
    "    Returns:\n",
    "    - A sorted list of tuples where each tuple contains the product name and its details.\n",
    "    \"\"\"\n",
    "    \n",
    "    sorted_products = sorted(products_dict.items(), key=lambda item: item[1]['price'])\n",
    "    \n",
    "    return sorted_products\n",
    "\n",
    "products = {\n",
    "    'product1': {\n",
    "        'name': 'Laptop',\n",
    "        'price': 1200,\n",
    "        'quantity': 10\n",
    "    },\n",
    "    'product2': {\n",
    "        'name': 'Smartphone',\n",
    "        'price': 800,\n",
    "        'quantity': 25\n",
    "    },\n",
    "    'product3': {\n",
    "        'name': 'Tablet',\n",
    "        'price': 300,\n",
    "        'quantity': 30\n",
    "    },\n",
    "    'product4': {\n",
    "        'name': 'Headphones',\n",
    "        'price': 150,\n",
    "        'quantity': 50\n",
    "    }\n",
    "}\n",
    "\n",
    "sorted_products = sort_products_by_price(products)\n",
    "\n",
    "for product_id, details in sorted_products:\n",
    "    print(f\"Product ID: {product_id}\")\n",
    "    print(f\"Name: {details['name']}\")\n",
    "    print(f\"Price: ${details['price']}\")\n",
    "    print(f\"Quantity: {details['quantity']}\")\n",
    "    print('---')\n"
   ]
  },
  {
   "cell_type": "code",
   "execution_count": null,
   "id": "4563961c-f50a-4656-896b-ec0b3662ac04",
   "metadata": {},
   "outputs": [],
   "source": [
    "#91. Nested Dictionary Key Search: Write a Python program that takes a key as input and searches for it in a nested dictionary. If found, print t"
   ]
  },
  {
   "cell_type": "code",
   "execution_count": 191,
   "id": "77cac54b-9654-44b7-ac0b-6ce70a82291c",
   "metadata": {},
   "outputs": [
    {
     "name": "stdin",
     "output_type": "stream",
     "text": [
      "Enter the key to search:  name\n"
     ]
    },
    {
     "name": "stdout",
     "output_type": "stream",
     "text": [
      "Value for the key 'name': John Doe\n"
     ]
    }
   ],
   "source": [
    "def search_key_in_nested_dict(d, key):\n",
    "    \"\"\"\n",
    "    Recursively searches for a key in a nested dictionary.\n",
    "    \n",
    "    Parameters:\n",
    "    - d: The nested dictionary to search.\n",
    "    - key: The key to search for.\n",
    "    \n",
    "    Returns:\n",
    "    - The value corresponding to the key if found, otherwise None.\n",
    "    \"\"\"\n",
    "    if key in d:\n",
    "        return d[key]\n",
    "    \n",
    "    for k, v in d.items():\n",
    "        if isinstance(v, dict):\n",
    "            result = search_key_in_nested_dict(v, key)\n",
    "            if result is not None:\n",
    "                return result\n",
    "    \n",
    "    return None\n",
    "\n",
    "nested_dict = {\n",
    "    'employee': {\n",
    "        'name': 'John Doe',\n",
    "        'details': {\n",
    "            'age': 30,\n",
    "            'position': 'Engineer'\n",
    "        },\n",
    "        'contact': {\n",
    "            'email': 'john.doe@example.com',\n",
    "            'phone': '123-456-7890'\n",
    "        }\n",
    "    },\n",
    "    'company': {\n",
    "        'name': 'Tech Solutions',\n",
    "        'address': '123 Tech Street',\n",
    "        'employees': {\n",
    "            'count': 150\n",
    "        }\n",
    "    }\n",
    "}\n",
    "\n",
    "key_to_search = input(\"Enter the key to search: \")\n",
    "\n",
    "value = search_key_in_nested_dict(nested_dict, key_to_search)\n",
    "\n",
    "if value is not None:\n",
    "    print(f\"Value for the key '{key_to_search}': {value}\")\n",
    "else:\n",
    "    print(\"Key Not Found\")\n"
   ]
  },
  {
   "cell_type": "code",
   "execution_count": null,
   "id": "73794348-4d4b-4954-b4fe-01ad507e8c15",
   "metadata": {},
   "outputs": [],
   "source": [
    "#92. Prime Number Checker: Write a Python program that takes a number as input and determines if it is a prime number or not. Use a `for` loop to"
   ]
  },
  {
   "cell_type": "code",
   "execution_count": 193,
   "id": "072402e7-5bd8-4f9d-82aa-3d175165be05",
   "metadata": {},
   "outputs": [
    {
     "name": "stdin",
     "output_type": "stream",
     "text": [
      "Enter a number to check if it is prime:  2\n"
     ]
    },
    {
     "name": "stdout",
     "output_type": "stream",
     "text": [
      "2 is a prime number.\n"
     ]
    }
   ],
   "source": [
    "import math\n",
    "\n",
    "def is_prime(number):\n",
    "    \"\"\"\n",
    "    Check if a number is a prime number.\n",
    "    \n",
    "    Parameters:\n",
    "    - number: The number to check.\n",
    "    \n",
    "    Returns:\n",
    "    - True if the number is prime, otherwise False.\n",
    "    \"\"\"\n",
    "    if number <= 1:\n",
    "        return False\n",
    "    if number <= 3:\n",
    "        return True\n",
    "    if number % 2 == 0 or number % 3 == 0:\n",
    "        return False\n",
    "    i = 5\n",
    "    while i * i <= number:\n",
    "        if number % i == 0 or number % (i + 2) == 0:\n",
    "            return False\n",
    "        i += 6\n",
    "    return True\n",
    "\n",
    "\n",
    "try:\n",
    "    num = int(input(\"Enter a number to check if it is prime: \"))\n",
    "    \n",
    "    \n",
    "    if is_prime(num):\n",
    "        print(f\"{num} is a prime number.\")\n",
    "    else:\n",
    "        print(f\"{num} is not a prime number.\")\n",
    "except ValueError:\n",
    "    print(\"Invalid input. Please enter an integer.\")\n"
   ]
  },
  {
   "cell_type": "code",
   "execution_count": null,
   "id": "0b119e0c-1c02-4328-871e-f2d30ea3ea02",
   "metadata": {},
   "outputs": [],
   "source": [
    "#93. Even Number Printer: Write a Python program to print all even numbers from 1 to 20. Use a `for` loop and `continue` to skip odd numbers."
   ]
  },
  {
   "cell_type": "code",
   "execution_count": 195,
   "id": "9b15e539-4377-40af-8865-51a8258cf002",
   "metadata": {},
   "outputs": [
    {
     "name": "stdout",
     "output_type": "stream",
     "text": [
      "2\n",
      "4\n",
      "6\n",
      "8\n",
      "10\n",
      "12\n",
      "14\n",
      "16\n",
      "18\n",
      "20\n"
     ]
    }
   ],
   "source": [
    "\n",
    "for num in range(1, 21):\n",
    "    if num % 2 != 0:\n",
    "        continue  \n",
    "    print(num)\n"
   ]
  },
  {
   "cell_type": "code",
   "execution_count": null,
   "id": "bdaa37f0-5df2-49ff-a89f-63b40c458ae5",
   "metadata": {},
   "outputs": [],
   "source": [
    "#94. Password Validator: Write a Python program that takes a password as input and checks if it meets the following criteria: at least 8 characte"
   ]
  },
  {
   "cell_type": "code",
   "execution_count": 197,
   "id": "8b0ecfe6-8dda-42a8-96a0-d7755f3b875d",
   "metadata": {},
   "outputs": [
    {
     "name": "stdin",
     "output_type": "stream",
     "text": [
      "Enter your password:  pass321\n"
     ]
    },
    {
     "name": "stdout",
     "output_type": "stream",
     "text": [
      "Invalid password. Please try again.\n"
     ]
    },
    {
     "name": "stdin",
     "output_type": "stream",
     "text": [
      "Enter your password:  pass3321\n"
     ]
    },
    {
     "name": "stdout",
     "output_type": "stream",
     "text": [
      "Invalid password. Please try again.\n"
     ]
    },
    {
     "name": "stdin",
     "output_type": "stream",
     "text": [
      "Enter your password:  pass3321\n"
     ]
    },
    {
     "name": "stdout",
     "output_type": "stream",
     "text": [
      "Invalid password. Please try again.\n"
     ]
    },
    {
     "name": "stdin",
     "output_type": "stream",
     "text": [
      "Enter your password:  12345678\n"
     ]
    },
    {
     "name": "stdout",
     "output_type": "stream",
     "text": [
      "Invalid password. Please try again.\n"
     ]
    },
    {
     "name": "stdin",
     "output_type": "stream",
     "text": [
      "Enter your password:  12345678\n"
     ]
    },
    {
     "name": "stdout",
     "output_type": "stream",
     "text": [
      "Invalid password. Please try again.\n"
     ]
    },
    {
     "name": "stdin",
     "output_type": "stream",
     "text": [
      "Enter your password:  a1234567h\n"
     ]
    },
    {
     "name": "stdout",
     "output_type": "stream",
     "text": [
      "Invalid password. Please try again.\n"
     ]
    },
    {
     "name": "stdin",
     "output_type": "stream",
     "text": [
      "Enter your password:  asdfghj1\n"
     ]
    },
    {
     "name": "stdout",
     "output_type": "stream",
     "text": [
      "Invalid password. Please try again.\n"
     ]
    },
    {
     "name": "stdin",
     "output_type": "stream",
     "text": [
      "Enter your password:  abcDEFG1\n"
     ]
    },
    {
     "name": "stdout",
     "output_type": "stream",
     "text": [
      "Password accepted.\n"
     ]
    }
   ],
   "source": [
    "import re\n",
    "\n",
    "def is_valid_password(password):\n",
    "    \"\"\"Check if the password meets the criteria.\"\"\"\n",
    "    if len(password) < 8:\n",
    "        return False\n",
    "    if not re.search(r'[A-Z]', password):  \n",
    "        return False\n",
    "    if not re.search(r'[a-z]', password):\n",
    "        return False\n",
    "    if not re.search(r'\\d', password):    \n",
    "        return False\n",
    "    return True\n",
    "\n",
    "while True:\n",
    "    password = input(\"Enter your password: \")\n",
    "    if is_valid_password(password):\n",
    "        print(\"Password accepted.\")\n",
    "        break\n",
    "    else:\n",
    "        print(\"Invalid password. Please try again.\")\n",
    "        continue\n"
   ]
  },
  {
   "cell_type": "code",
   "execution_count": null,
   "id": "7566ea1e-067a-41c1-9255-f150183e6c07",
   "metadata": {},
   "outputs": [],
   "source": [
    "#95. Divisible by 3 or 5: Write a Python program to print all numbers from 1 to 50 that are divisible by either 3 or 5. Use a `for` loop and `con"
   ]
  },
  {
   "cell_type": "code",
   "execution_count": 199,
   "id": "d3934089-7d6e-4dc1-91aa-b741d1c2edc1",
   "metadata": {},
   "outputs": [
    {
     "name": "stdout",
     "output_type": "stream",
     "text": [
      "3\n",
      "5\n",
      "6\n",
      "9\n",
      "10\n",
      "12\n",
      "15\n",
      "18\n",
      "20\n",
      "21\n",
      "24\n",
      "25\n",
      "27\n",
      "30\n",
      "33\n",
      "35\n",
      "36\n",
      "39\n",
      "40\n",
      "42\n",
      "45\n",
      "48\n",
      "50\n"
     ]
    }
   ],
   "source": [
    "\n",
    "for number in range(1, 51):\n",
    "    \n",
    "    if number % 3 == 0 or number % 5 == 0:\n",
    "        print(number)  \n",
    "    else:\n",
    "        continue  \n"
   ]
  },
  {
   "cell_type": "code",
   "execution_count": null,
   "id": "78b5aed5-7262-4657-a24c-9e638c107301",
   "metadata": {},
   "outputs": [],
   "source": [
    "#96. Positive Number Sum: Write a Python program that takes positive numbers as input until a negative number is entered. Then, calculate and pri"
   ]
  },
  {
   "cell_type": "code",
   "execution_count": 203,
   "id": "9fd62b50-607c-42a4-be55-71a42433be8d",
   "metadata": {},
   "outputs": [
    {
     "name": "stdin",
     "output_type": "stream",
     "text": [
      "Enter a positive number (or a negative number to quit):  5\n",
      "Enter a positive number (or a negative number to quit):  10\n",
      "Enter a positive number (or a negative number to quit):  -1\n"
     ]
    },
    {
     "name": "stdout",
     "output_type": "stream",
     "text": [
      "Sum of positive numbers: 15.0\n"
     ]
    }
   ],
   "source": [
    "\n",
    "total_sum = 0\n",
    "\n",
    "while True:\n",
    "    \n",
    "    number = float(input(\"Enter a positive number (or a negative number to quit): \"))\n",
    "    \n",
    "    if number < 0:\n",
    "        break  \n",
    "    total_sum += number\n",
    "print(\"Sum of positive numbers:\", total_sum)\n"
   ]
  },
  {
   "cell_type": "code",
   "execution_count": null,
   "id": "5ed0b440-9841-4d89-940d-807e18b8d558",
   "metadata": {},
   "outputs": [],
   "source": [
    "#97. Word Palindrome Checker: Write a Python program that takes a word as input and checks if it is a palindrome (reads the same forwards and"
   ]
  },
  {
   "cell_type": "code",
   "execution_count": 205,
   "id": "36b2766c-9df3-4c19-9431-fbdc3912963b",
   "metadata": {},
   "outputs": [
    {
     "name": "stdin",
     "output_type": "stream",
     "text": [
      "Enter a word (or type 'exit' to quit):  time\n"
     ]
    },
    {
     "name": "stdout",
     "output_type": "stream",
     "text": [
      "\"time\" is not a palindrome.\n"
     ]
    },
    {
     "name": "stdin",
     "output_type": "stream",
     "text": [
      "Enter a word (or type 'exit' to quit):  value\n"
     ]
    },
    {
     "name": "stdout",
     "output_type": "stream",
     "text": [
      "\"value\" is not a palindrome.\n"
     ]
    },
    {
     "name": "stdin",
     "output_type": "stream",
     "text": [
      "Enter a word (or type 'exit' to quit):  a\n"
     ]
    },
    {
     "name": "stdout",
     "output_type": "stream",
     "text": [
      "Word too short to check.\n"
     ]
    },
    {
     "name": "stdin",
     "output_type": "stream",
     "text": [
      "Enter a word (or type 'exit' to quit):  ab\n"
     ]
    },
    {
     "name": "stdout",
     "output_type": "stream",
     "text": [
      "Word too short to check.\n"
     ]
    },
    {
     "name": "stdin",
     "output_type": "stream",
     "text": [
      "Enter a word (or type 'exit' to quit):  racecar\n"
     ]
    },
    {
     "name": "stdout",
     "output_type": "stream",
     "text": [
      "\"racecar\" is a palindrome.\n"
     ]
    },
    {
     "name": "stdin",
     "output_type": "stream",
     "text": [
      "Enter a word (or type 'exit' to quit):  exit\n"
     ]
    }
   ],
   "source": [
    "def is_palindrome(word):\n",
    "    \"\"\"Check if the word is a palindrome.\"\"\"\n",
    "    return word == word[::-1]\n",
    "\n",
    "while True:\n",
    "    word = input(\"Enter a word (or type 'exit' to quit): \").strip()\n",
    "    \n",
    "    if word.lower() == 'exit':\n",
    "        break\n",
    "    \n",
    "    if len(word) < 3:\n",
    "        print(\"Word too short to check.\")\n",
    "        continue\n",
    "    \n",
    "    if is_palindrome(word):\n",
    "        print(f'\"{word}\" is a palindrome.')\n",
    "    else:\n",
    "        print(f'\"{word}\" is not a palindrome.')\n"
   ]
  },
  {
   "cell_type": "code",
   "execution_count": null,
   "id": "1b81dde0-769b-4e8d-bc63-0c9c6f6856ca",
   "metadata": {},
   "outputs": [],
   "source": [
    "#98. Odd Number Finder: Write a Python program to find the first odd number from a list of integers. Use a `for` loop and `break` to stop the loo"
   ]
  },
  {
   "cell_type": "code",
   "execution_count": 207,
   "id": "a0870b3a-9053-4e40-96dc-f71066f5898e",
   "metadata": {},
   "outputs": [
    {
     "name": "stdout",
     "output_type": "stream",
     "text": [
      "The first odd number is: 13\n"
     ]
    }
   ],
   "source": [
    "def find_first_odd_number(numbers):\n",
    "    \"\"\"Find the first odd number from the list.\"\"\"\n",
    "    for number in numbers:\n",
    "        if number % 2 != 0:  \n",
    "            return number\n",
    "    return None  \n",
    "\n",
    "numbers = [2, 4, 6, 8, 10, 13, 16]\n",
    "\n",
    "first_odd = find_first_odd_number(numbers)\n",
    "if first_odd is not None:\n",
    "    print(f\"The first odd number is: {first_odd}\")\n",
    "else:\n",
    "    print(\"No odd numbers found in the list.\")\n"
   ]
  },
  {
   "cell_type": "code",
   "execution_count": null,
   "id": "773970cb-601a-44cc-9bc4-74ef83dc68e5",
   "metadata": {},
   "outputs": [],
   "source": [
    "#99. Number Guessing Game: Write a Python program that generates a random number between 1 and 100 and lets the user guess the number. Use a `whi"
   ]
  },
  {
   "cell_type": "code",
   "execution_count": 209,
   "id": "22e30ccf-e03c-493d-9163-998430b4263c",
   "metadata": {},
   "outputs": [
    {
     "name": "stdout",
     "output_type": "stream",
     "text": [
      "Welcome to the Number Guessing Game!\n",
      "I'm thinking of a number between 1 and 100.\n"
     ]
    },
    {
     "name": "stdin",
     "output_type": "stream",
     "text": [
      "Enter your guess:  1\n"
     ]
    },
    {
     "name": "stdout",
     "output_type": "stream",
     "text": [
      "Too low. Try again.\n"
     ]
    },
    {
     "name": "stdin",
     "output_type": "stream",
     "text": [
      "Enter your guess:  20\n"
     ]
    },
    {
     "name": "stdout",
     "output_type": "stream",
     "text": [
      "Too low. Try again.\n"
     ]
    },
    {
     "name": "stdin",
     "output_type": "stream",
     "text": [
      "Enter your guess:  30\n"
     ]
    },
    {
     "name": "stdout",
     "output_type": "stream",
     "text": [
      "Too low. Try again.\n"
     ]
    },
    {
     "name": "stdin",
     "output_type": "stream",
     "text": [
      "Enter your guess:  44\n"
     ]
    },
    {
     "name": "stdout",
     "output_type": "stream",
     "text": [
      "Too low. Try again.\n"
     ]
    },
    {
     "name": "stdin",
     "output_type": "stream",
     "text": [
      "Enter your guess:  55\n"
     ]
    },
    {
     "name": "stdout",
     "output_type": "stream",
     "text": [
      "Too low. Try again.\n"
     ]
    },
    {
     "name": "stdin",
     "output_type": "stream",
     "text": [
      "Enter your guess:  6\n"
     ]
    },
    {
     "name": "stdout",
     "output_type": "stream",
     "text": [
      "Too low. Try again.\n"
     ]
    },
    {
     "name": "stdin",
     "output_type": "stream",
     "text": [
      "Enter your guess:  77\n"
     ]
    },
    {
     "name": "stdout",
     "output_type": "stream",
     "text": [
      "Too high. Try again.\n"
     ]
    },
    {
     "name": "stdin",
     "output_type": "stream",
     "text": [
      "Enter your guess:  88\n"
     ]
    },
    {
     "name": "stdout",
     "output_type": "stream",
     "text": [
      "Too high. Try again.\n"
     ]
    },
    {
     "name": "stdin",
     "output_type": "stream",
     "text": [
      "Enter your guess:  88\n"
     ]
    },
    {
     "name": "stdout",
     "output_type": "stream",
     "text": [
      "Too high. Try again.\n"
     ]
    },
    {
     "name": "stdin",
     "output_type": "stream",
     "text": [
      "Enter your guess:  1\n"
     ]
    },
    {
     "name": "stdout",
     "output_type": "stream",
     "text": [
      "Too low. Try again.\n"
     ]
    },
    {
     "name": "stdin",
     "output_type": "stream",
     "text": [
      "Enter your guess:  22\n"
     ]
    },
    {
     "name": "stdout",
     "output_type": "stream",
     "text": [
      "Too low. Try again.\n"
     ]
    },
    {
     "name": "stdin",
     "output_type": "stream",
     "text": [
      "Enter your guess:  9\n"
     ]
    },
    {
     "name": "stdout",
     "output_type": "stream",
     "text": [
      "Too low. Try again.\n"
     ]
    },
    {
     "name": "stdin",
     "output_type": "stream",
     "text": [
      "Enter your guess:  7\n"
     ]
    },
    {
     "name": "stdout",
     "output_type": "stream",
     "text": [
      "Too low. Try again.\n"
     ]
    },
    {
     "name": "stdin",
     "output_type": "stream",
     "text": [
      "Enter your guess:  66\n"
     ]
    },
    {
     "name": "stdout",
     "output_type": "stream",
     "text": [
      "Too low. Try again.\n"
     ]
    },
    {
     "name": "stdin",
     "output_type": "stream",
     "text": [
      "Enter your guess:  55\n"
     ]
    },
    {
     "name": "stdout",
     "output_type": "stream",
     "text": [
      "Too low. Try again.\n"
     ]
    },
    {
     "name": "stdin",
     "output_type": "stream",
     "text": [
      "Enter your guess:  1\n"
     ]
    },
    {
     "name": "stdout",
     "output_type": "stream",
     "text": [
      "Too low. Try again.\n"
     ]
    },
    {
     "name": "stdin",
     "output_type": "stream",
     "text": [
      "Enter your guess:  2\n"
     ]
    },
    {
     "name": "stdout",
     "output_type": "stream",
     "text": [
      "Too low. Try again.\n"
     ]
    },
    {
     "name": "stdin",
     "output_type": "stream",
     "text": [
      "Enter your guess:  3\n"
     ]
    },
    {
     "name": "stdout",
     "output_type": "stream",
     "text": [
      "Too low. Try again.\n"
     ]
    },
    {
     "name": "stdin",
     "output_type": "stream",
     "text": [
      "Enter your guess:  4\n"
     ]
    },
    {
     "name": "stdout",
     "output_type": "stream",
     "text": [
      "Too low. Try again.\n"
     ]
    },
    {
     "name": "stdin",
     "output_type": "stream",
     "text": [
      "Enter your guess:  5\n"
     ]
    },
    {
     "name": "stdout",
     "output_type": "stream",
     "text": [
      "Too low. Try again.\n"
     ]
    },
    {
     "name": "stdin",
     "output_type": "stream",
     "text": [
      "Enter your guess:  6\n"
     ]
    },
    {
     "name": "stdout",
     "output_type": "stream",
     "text": [
      "Too low. Try again.\n"
     ]
    },
    {
     "name": "stdin",
     "output_type": "stream",
     "text": [
      "Enter your guess:  7\n"
     ]
    },
    {
     "name": "stdout",
     "output_type": "stream",
     "text": [
      "Too low. Try again.\n"
     ]
    },
    {
     "name": "stdin",
     "output_type": "stream",
     "text": [
      "Enter your guess:  8\n"
     ]
    },
    {
     "name": "stdout",
     "output_type": "stream",
     "text": [
      "Too low. Try again.\n"
     ]
    },
    {
     "name": "stdin",
     "output_type": "stream",
     "text": [
      "Enter your guess:  9\n"
     ]
    },
    {
     "name": "stdout",
     "output_type": "stream",
     "text": [
      "Too low. Try again.\n"
     ]
    },
    {
     "name": "stdin",
     "output_type": "stream",
     "text": [
      "Enter your guess:  0\n"
     ]
    },
    {
     "name": "stdout",
     "output_type": "stream",
     "text": [
      "Too low. Try again.\n"
     ]
    },
    {
     "name": "stdin",
     "output_type": "stream",
     "text": [
      "Enter your guess:  88\n"
     ]
    },
    {
     "name": "stdout",
     "output_type": "stream",
     "text": [
      "Too high. Try again.\n"
     ]
    },
    {
     "name": "stdin",
     "output_type": "stream",
     "text": [
      "Enter your guess:  22\n"
     ]
    },
    {
     "name": "stdout",
     "output_type": "stream",
     "text": [
      "Too low. Try again.\n"
     ]
    },
    {
     "name": "stdin",
     "output_type": "stream",
     "text": [
      "Enter your guess:  33\n"
     ]
    },
    {
     "name": "stdout",
     "output_type": "stream",
     "text": [
      "Too low. Try again.\n"
     ]
    },
    {
     "name": "stdin",
     "output_type": "stream",
     "text": [
      "Enter your guess:  44\n"
     ]
    },
    {
     "name": "stdout",
     "output_type": "stream",
     "text": [
      "Too low. Try again.\n"
     ]
    },
    {
     "name": "stdin",
     "output_type": "stream",
     "text": [
      "Enter your guess:  55\n"
     ]
    },
    {
     "name": "stdout",
     "output_type": "stream",
     "text": [
      "Too low. Try again.\n"
     ]
    },
    {
     "name": "stdin",
     "output_type": "stream",
     "text": [
      "Enter your guess:  66\n"
     ]
    },
    {
     "name": "stdout",
     "output_type": "stream",
     "text": [
      "Too low. Try again.\n"
     ]
    },
    {
     "name": "stdin",
     "output_type": "stream",
     "text": [
      "Enter your guess:  77\n"
     ]
    },
    {
     "name": "stdout",
     "output_type": "stream",
     "text": [
      "Too high. Try again.\n"
     ]
    },
    {
     "name": "stdin",
     "output_type": "stream",
     "text": [
      "Enter your guess:  88\n"
     ]
    },
    {
     "name": "stdout",
     "output_type": "stream",
     "text": [
      "Too high. Try again.\n"
     ]
    },
    {
     "name": "stdin",
     "output_type": "stream",
     "text": [
      "Enter your guess:  99\n"
     ]
    },
    {
     "name": "stdout",
     "output_type": "stream",
     "text": [
      "Too high. Try again.\n"
     ]
    },
    {
     "name": "stdin",
     "output_type": "stream",
     "text": [
      "Enter your guess:  55\n"
     ]
    },
    {
     "name": "stdout",
     "output_type": "stream",
     "text": [
      "Too low. Try again.\n"
     ]
    },
    {
     "name": "stdin",
     "output_type": "stream",
     "text": [
      "Enter your guess:  100\n"
     ]
    },
    {
     "name": "stdout",
     "output_type": "stream",
     "text": [
      "Too high. Try again.\n"
     ]
    },
    {
     "name": "stdin",
     "output_type": "stream",
     "text": [
      "Enter your guess:  10\n"
     ]
    },
    {
     "name": "stdout",
     "output_type": "stream",
     "text": [
      "Too low. Try again.\n"
     ]
    },
    {
     "name": "stdin",
     "output_type": "stream",
     "text": [
      "Enter your guess:  20\n"
     ]
    },
    {
     "name": "stdout",
     "output_type": "stream",
     "text": [
      "Too low. Try again.\n"
     ]
    },
    {
     "name": "stdin",
     "output_type": "stream",
     "text": [
      "Enter your guess:  30\n"
     ]
    },
    {
     "name": "stdout",
     "output_type": "stream",
     "text": [
      "Too low. Try again.\n"
     ]
    },
    {
     "name": "stdin",
     "output_type": "stream",
     "text": [
      "Enter your guess:  40\n"
     ]
    },
    {
     "name": "stdout",
     "output_type": "stream",
     "text": [
      "Too low. Try again.\n"
     ]
    },
    {
     "name": "stdin",
     "output_type": "stream",
     "text": [
      "Enter your guess:  50\n"
     ]
    },
    {
     "name": "stdout",
     "output_type": "stream",
     "text": [
      "Too low. Try again.\n"
     ]
    },
    {
     "name": "stdin",
     "output_type": "stream",
     "text": [
      "Enter your guess:  20\n"
     ]
    },
    {
     "name": "stdout",
     "output_type": "stream",
     "text": [
      "Too low. Try again.\n"
     ]
    },
    {
     "name": "stdin",
     "output_type": "stream",
     "text": [
      "Enter your guess:  89\n"
     ]
    },
    {
     "name": "stdout",
     "output_type": "stream",
     "text": [
      "Too high. Try again.\n"
     ]
    },
    {
     "name": "stdin",
     "output_type": "stream",
     "text": [
      "Enter your guess:  99\n"
     ]
    },
    {
     "name": "stdout",
     "output_type": "stream",
     "text": [
      "Too high. Try again.\n"
     ]
    },
    {
     "name": "stdin",
     "output_type": "stream",
     "text": [
      "Enter your guess:  77\n"
     ]
    },
    {
     "name": "stdout",
     "output_type": "stream",
     "text": [
      "Too high. Try again.\n"
     ]
    },
    {
     "name": "stdin",
     "output_type": "stream",
     "text": [
      "Enter your guess:  55\n"
     ]
    },
    {
     "name": "stdout",
     "output_type": "stream",
     "text": [
      "Too low. Try again.\n"
     ]
    },
    {
     "name": "stdin",
     "output_type": "stream",
     "text": [
      "Enter your guess:  77\n"
     ]
    },
    {
     "name": "stdout",
     "output_type": "stream",
     "text": [
      "Too high. Try again.\n"
     ]
    },
    {
     "name": "stdin",
     "output_type": "stream",
     "text": [
      "Enter your guess:  33\n"
     ]
    },
    {
     "name": "stdout",
     "output_type": "stream",
     "text": [
      "Too low. Try again.\n"
     ]
    },
    {
     "name": "stdin",
     "output_type": "stream",
     "text": [
      "Enter your guess:  22\n"
     ]
    },
    {
     "name": "stdout",
     "output_type": "stream",
     "text": [
      "Too low. Try again.\n"
     ]
    },
    {
     "name": "stdin",
     "output_type": "stream",
     "text": [
      "Enter your guess:  33\n"
     ]
    },
    {
     "name": "stdout",
     "output_type": "stream",
     "text": [
      "Too low. Try again.\n"
     ]
    },
    {
     "name": "stdin",
     "output_type": "stream",
     "text": [
      "Enter your guess:  44\n"
     ]
    },
    {
     "name": "stdout",
     "output_type": "stream",
     "text": [
      "Too low. Try again.\n"
     ]
    },
    {
     "name": "stdin",
     "output_type": "stream",
     "text": [
      "Enter your guess:  55\n"
     ]
    },
    {
     "name": "stdout",
     "output_type": "stream",
     "text": [
      "Too low. Try again.\n"
     ]
    },
    {
     "name": "stdin",
     "output_type": "stream",
     "text": [
      "Enter your guess:  66\n"
     ]
    },
    {
     "name": "stdout",
     "output_type": "stream",
     "text": [
      "Too low. Try again.\n"
     ]
    },
    {
     "name": "stdin",
     "output_type": "stream",
     "text": [
      "Enter your guess:  77\n"
     ]
    },
    {
     "name": "stdout",
     "output_type": "stream",
     "text": [
      "Too high. Try again.\n"
     ]
    },
    {
     "name": "stdin",
     "output_type": "stream",
     "text": [
      "Enter your guess:  66\n"
     ]
    },
    {
     "name": "stdout",
     "output_type": "stream",
     "text": [
      "Too low. Try again.\n"
     ]
    },
    {
     "name": "stdin",
     "output_type": "stream",
     "text": [
      "Enter your guess:  55\n"
     ]
    },
    {
     "name": "stdout",
     "output_type": "stream",
     "text": [
      "Too low. Try again.\n"
     ]
    },
    {
     "name": "stdin",
     "output_type": "stream",
     "text": [
      "Enter your guess:  88\n"
     ]
    },
    {
     "name": "stdout",
     "output_type": "stream",
     "text": [
      "Too high. Try again.\n"
     ]
    },
    {
     "name": "stdin",
     "output_type": "stream",
     "text": [
      "Enter your guess:  77\n"
     ]
    },
    {
     "name": "stdout",
     "output_type": "stream",
     "text": [
      "Too high. Try again.\n"
     ]
    },
    {
     "name": "stdin",
     "output_type": "stream",
     "text": [
      "Enter your guess:  66\n"
     ]
    },
    {
     "name": "stdout",
     "output_type": "stream",
     "text": [
      "Too low. Try again.\n"
     ]
    },
    {
     "name": "stdin",
     "output_type": "stream",
     "text": [
      "Enter your guess:  70\n"
     ]
    },
    {
     "name": "stdout",
     "output_type": "stream",
     "text": [
      "Congratulations! You've guessed the correct number.\n"
     ]
    }
   ],
   "source": [
    "import random\n",
    "\n",
    "def number_guessing_game():\n",
    "\n",
    "    target_number = random.randint(1,100)\n",
    "    print(\"Welcome to the Number Guessing Game!\")\n",
    "    print(\"I'm thinking of a number between 1 and 100.\")\n",
    "    \n",
    "    while True:\n",
    "    \n",
    "        try:\n",
    "            guess = int(input(\"Enter your guess: \"))\n",
    "        except ValueError:\n",
    "            print(\"Please enter a valid integer.\")\n",
    "            continue\n",
    "        if guess == target_number:\n",
    "            print(\"Congratulations! You've guessed the correct number.\")\n",
    "            break\n",
    "        elif guess < target_number:\n",
    "            print(\"Too low. Try again.\")\n",
    "        else:\n",
    "            print(\"Too high. Try again.\")\n",
    "\n",
    "number_guessing_game()\n"
   ]
  },
  {
   "cell_type": "markdown",
   "id": "c86e4267-3183-406b-ae9e-b99a939bff9d",
   "metadata": {},
   "source": [
    "#100. Vowel Counter: Write a Python program that takes a string as input and counts the number of vowels (a, e, i, o, u) in it. Use a `for` loop and `continue` to skip counting non-vowel characters."
   ]
  },
  {
   "cell_type": "code",
   "execution_count": 211,
   "id": "9757144d-9653-4995-9368-7c1249c67faa",
   "metadata": {},
   "outputs": [
    {
     "name": "stdin",
     "output_type": "stream",
     "text": [
      "Enter a string:  a\n"
     ]
    },
    {
     "name": "stdout",
     "output_type": "stream",
     "text": [
      "The number of vowels in the string is: 1\n"
     ]
    }
   ],
   "source": [
    "def count_vowels(string):\n",
    "    vowels = \"aeiouAEIOU\"\n",
    "    count = 0\n",
    "    for char in string:\n",
    "        if char not in vowels:\n",
    "            continue\n",
    "        count += 1\n",
    "    return count\n",
    "\n",
    "input_string = input(\"Enter a string: \")\n",
    "\n",
    "vowel_count = count_vowels(input_string)\n",
    "print(f\"The number of vowels in the string is: {vowel_count}\")\n"
   ]
  },
  {
   "cell_type": "code",
   "execution_count": null,
   "id": "d2301f37-75f4-4a1d-8de8-0137ce31c0ef",
   "metadata": {},
   "outputs": [],
   "source": [
    "#101. Unique Characters: Write a Python program that takes a string as input and checks if it contains all unique characters (no character repea"
   ]
  },
  {
   "cell_type": "code",
   "execution_count": 213,
   "id": "7718ce99-56e1-4d68-b80e-f0d08198be6b",
   "metadata": {},
   "outputs": [
    {
     "name": "stdin",
     "output_type": "stream",
     "text": [
      "Enter a string:  b\n"
     ]
    },
    {
     "name": "stdout",
     "output_type": "stream",
     "text": [
      "The string contains all unique characters.\n"
     ]
    }
   ],
   "source": [
    "def has_unique_characters(string):\n",
    "    seen_characters = set()\n",
    "    for char in string:\n",
    "        if char in seen_characters:\n",
    "            return False  \n",
    "        seen_characters.add(char)\n",
    "    return True  \n",
    "\n",
    "input_string = input(\"Enter a string: \")\n",
    "\n",
    "if has_unique_characters(input_string):\n",
    "    print(\"The string contains all unique characters.\")\n",
    "else:\n",
    "    print(\"The string has repeated characters.\")\n"
   ]
  },
  {
   "cell_type": "code",
   "execution_count": null,
   "id": "7de5e843-d985-4410-9870-3adc1d8f60ce",
   "metadata": {},
   "outputs": [],
   "source": [
    "#102. Factorial Calculator: Write a Python function called `factorial` that takes an integer as input and returns its factorial. Test the "
   ]
  },
  {
   "cell_type": "code",
   "execution_count": 215,
   "id": "0d7785d7-3b53-4383-af1a-13de9ac27f0d",
   "metadata": {},
   "outputs": [
    {
     "name": "stdout",
     "output_type": "stream",
     "text": [
      "120\n",
      "1\n",
      "5040\n",
      "Factorial is not defined for negative numbers.\n"
     ]
    }
   ],
   "source": [
    "def factorial(n):\n",
    "    if n < 0:\n",
    "        return \"Factorial is not defined for negative numbers.\"\n",
    "    elif n == 0 or n == 1:\n",
    "        return 1\n",
    "    else:\n",
    "        result = 1\n",
    "        for i in range(2, n + 1):\n",
    "            result *= i\n",
    "        return result\n",
    "\n",
    "print(factorial(5)) \n",
    "print(factorial(0))  \n",
    "print(factorial(7))  \n",
    "print(factorial(-3))\n"
   ]
  },
  {
   "cell_type": "code",
   "execution_count": null,
   "id": "15d9e493-73c2-4b69-9ab2-c661c7b22b05",
   "metadata": {},
   "outputs": [],
   "source": [
    "#103. Palindrome Checker: Write a Python function called `is_palindrome` that takes a string as input and returns `True` if it is a palindrome an"
   ]
  },
  {
   "cell_type": "code",
   "execution_count": 217,
   "id": "b3351406-cd50-45ff-8fdf-4418baa6c853",
   "metadata": {},
   "outputs": [
    {
     "name": "stdout",
     "output_type": "stream",
     "text": [
      "True\n",
      "True\n",
      "False\n",
      "True\n",
      "False\n"
     ]
    }
   ],
   "source": [
    "def is_palindrome(word):\n",
    "    \n",
    "    word = word.lower()\n",
    "    return word == word[::-1]\n",
    "\n",
    "print(is_palindrome(\"madam\"))   \n",
    "print(is_palindrome(\"Racecar\")) \n",
    "print(is_palindrome(\"hello\"))   \n",
    "print(is_palindrome(\"level\"))   \n",
    "print(is_palindrome(\"Python\"))  \n"
   ]
  },
  {
   "cell_type": "code",
   "execution_count": null,
   "id": "b05b9c7e-9f2d-4368-8352-3ae82e84d6c3",
   "metadata": {},
   "outputs": [],
   "source": [
    "#104. Even or Odd Checker: Write a Python function called `even_or_odd` that takes an integer as input and returns “Even” if the number is even a"
   ]
  },
  {
   "cell_type": "code",
   "execution_count": 219,
   "id": "64d042e3-b8de-4687-9f04-c4d2e51117e2",
   "metadata": {},
   "outputs": [
    {
     "name": "stdout",
     "output_type": "stream",
     "text": [
      "Even\n",
      "Odd\n",
      "Even\n",
      "Even\n",
      "Odd\n"
     ]
    }
   ],
   "source": [
    "def even_or_odd(number):\n",
    "    \n",
    "    if number % 2 == 0:\n",
    "        return \"Even\"\n",
    "    else:\n",
    "        return \"Odd\"\n",
    "\n",
    "print(even_or_odd(4))  \n",
    "print(even_or_odd(7))  \n",
    "print(even_or_odd(0))  \n",
    "print(even_or_odd(-2)) \n",
    "print(even_or_odd(-5)) \n"
   ]
  },
  {
   "cell_type": "code",
   "execution_count": null,
   "id": "169b3d52-473c-47fe-858a-548d7f4e067c",
   "metadata": {},
   "outputs": [],
   "source": [
    "#105. List Sum Calculator: Write a Python function called `list_sum` that takes a list of integers as input and returns the sum of all elements i"
   ]
  },
  {
   "cell_type": "code",
   "execution_count": 221,
   "id": "82a6cf91-c221-4f4e-bd0a-c08c17539491",
   "metadata": {},
   "outputs": [
    {
     "name": "stdout",
     "output_type": "stream",
     "text": [
      "15\n",
      "43\n",
      "0\n",
      "-10\n",
      "1000\n"
     ]
    }
   ],
   "source": [
    "def list_sum(numbers):\n",
    "    \n",
    "    total = 0\n",
    "    \n",
    "    for num in numbers:\n",
    "        total += num\n",
    "    return total\n",
    "\n",
    "print(list_sum([1, 2, 3, 4, 5]))       \n",
    "print(list_sum([10, -2, 30, 5]))       \n",
    "print(list_sum([0, 0, 0, 0]))          \n",
    "print(list_sum([-1, -2, -3, -4]))      \n",
    "print(list_sum([100, 200, 300, 400]))  \n"
   ]
  },
  {
   "cell_type": "code",
   "execution_count": null,
   "id": "7a8bd59c-c710-4d1b-b6f4-fedc90a594d2",
   "metadata": {},
   "outputs": [],
   "source": [
    "#106. Greatest Common Divisor (GCD) Calculator: Write a Python function called `gcd` that takes two integers as input and returns their greatest "
   ]
  },
  {
   "cell_type": "code",
   "execution_count": 223,
   "id": "83cd7040-2cb8-41dc-a35f-7a2cdaf59f09",
   "metadata": {},
   "outputs": [
    {
     "name": "stdout",
     "output_type": "stream",
     "text": [
      "6\n",
      "25\n",
      "1\n",
      "14\n",
      "5\n"
     ]
    }
   ],
   "source": [
    "def gcd(a, b):\n",
    "    \n",
    "    while b != 0:\n",
    "        a, b = b, a % b\n",
    "    return a\n",
    "\n",
    "print(gcd(48, 18))   \n",
    "print(gcd(100, 75))  \n",
    "print(gcd(7, 3))     \n",
    "print(gcd(56, 98))   \n",
    "print(gcd(20, 5))   \n"
   ]
  },
  {
   "cell_type": "code",
   "execution_count": null,
   "id": "6a906fca-d17b-470c-b900-94140cfd40ad",
   "metadata": {},
   "outputs": [],
   "source": [
    "#107. Leap Year Checker: Write a Python function called `is_leap_year` that takes a year as input and returns `True` if it is a leap year and `Fa"
   ]
  },
  {
   "cell_type": "code",
   "execution_count": 225,
   "id": "2d6274ad-2872-40a2-9860-112560ba44df",
   "metadata": {},
   "outputs": [
    {
     "name": "stdout",
     "output_type": "stream",
     "text": [
      "True\n",
      "False\n",
      "True\n",
      "False\n",
      "True\n"
     ]
    }
   ],
   "source": [
    "def is_leap_year(year):\n",
    "    \n",
    "    if (year % 4 == 0 and year % 100 != 0) or (year % 400 == 0):\n",
    "        return True\n",
    "    else:\n",
    "        return False\n",
    "\n",
    "print(is_leap_year(2024))  \n",
    "print(is_leap_year(2023))  \n",
    "print(is_leap_year(2000))  \n",
    "print(is_leap_year(1900))  \n",
    "print(is_leap_year(1600))  \n"
   ]
  },
  {
   "cell_type": "code",
   "execution_count": null,
   "id": "847c8a50-1fbc-4e87-8b12-1548539f5cc4",
   "metadata": {},
   "outputs": [],
   "source": [
    "#108. Math Operations: Write a Python function called `math_operations` that takes three numbers and a string representing an operation (‘add’, ‘"
   ]
  },
  {
   "cell_type": "code",
   "execution_count": 227,
   "id": "251ccb3d-ed74-4a82-913b-0a27ac4f2915",
   "metadata": {},
   "outputs": [
    {
     "name": "stdout",
     "output_type": "stream",
     "text": [
      "17\n",
      "3\n",
      "100\n",
      "1.0\n",
      "Cannot divide by zero.\n",
      "Invalid operation. Choose 'add', 'subtract', 'multiply', or 'divide'.\n"
     ]
    }
   ],
   "source": [
    "def math_operations(num1, num2, num3, operation):\n",
    "    def add(x, y, z):\n",
    "        return x + y + z\n",
    "\n",
    "    def subtract(x, y, z):\n",
    "        return x - y - z\n",
    "\n",
    "    def multiply(x, y, z):\n",
    "        return x * y * z\n",
    "\n",
    "    def divide(x, y, z):\n",
    "        if y == 0 or z == 0:\n",
    "            return \"Cannot divide by zero.\"\n",
    "        return x / y / z\n",
    "\n",
    "    operations = {\n",
    "        'add': add,\n",
    "        'subtract': subtract,\n",
    "        'multiply': multiply,\n",
    "        'divide': divide\n",
    "    }\n",
    "\n",
    "    func = operations.get(operation)\n",
    "\n",
    "    if func:\n",
    "        return func(num1, num2, num3)\n",
    "    else:\n",
    "        return \"Invalid operation. Choose 'add', 'subtract', 'multiply', or 'divide'.\"\n",
    "\n",
    "print(math_operations(10, 5, 2, 'add'))        \n",
    "print(math_operations(10, 5, 2, 'subtract'))  \n",
    "print(math_operations(10, 5, 2, 'multiply'))  \n",
    "print(math_operations(10, 5, 2, 'divide'))     \n",
    "print(math_operations(10, 0, 2, 'divide'))     \n",
    "print(math_operations(10, 5, 2, 'unknown'))    \n"
   ]
  },
  {
   "cell_type": "code",
   "execution_count": null,
   "id": "f66036b5-2902-4e2d-a0fd-ab416f2f958d",
   "metadata": {},
   "outputs": [],
   "source": [
    "#109. Greeting Generator: Write a Python function called `greeting_generator` that takes a name as input and returns a greeting message using nes"
   ]
  },
  {
   "cell_type": "code",
   "execution_count": 229,
   "id": "a3589548-3a5d-4300-af67-7dca2dad3f6a",
   "metadata": {},
   "outputs": [
    {
     "name": "stdout",
     "output_type": "stream",
     "text": [
      "Hello, Alice! How are you today?\n",
      "Hello, Bob! How are you today?\n"
     ]
    }
   ],
   "source": [
    "def greeting_generator(name):\n",
    "    def greet(name):\n",
    "        return f\"Hello, {name}!\"\n",
    "\n",
    "    def ask_question():\n",
    "        return \"How are you today?\"\n",
    "\n",
    "    greeting_message = greet(name) + \" \" + ask_question()\n",
    "    return greeting_message\n",
    "\n",
    "print(greeting_generator(\"Alice\")) \n",
    "print(greeting_generator(\"Bob\"))    \n"
   ]
  },
  {
   "cell_type": "code",
   "execution_count": null,
   "id": "d1258677-379d-46bf-b578-b2591226abff",
   "metadata": {},
   "outputs": [],
   "source": [
    "#110. Temperature Converter: Write a Python function called `temperature_converter` that takes a temperature value and a string representing t"
   ]
  },
  {
   "cell_type": "code",
   "execution_count": 231,
   "id": "4aae5b2e-98dc-4636-b8bd-672e900e483e",
   "metadata": {},
   "outputs": [
    {
     "name": "stdout",
     "output_type": "stream",
     "text": [
      "212.0\n",
      "100.0\n"
     ]
    }
   ],
   "source": [
    "def temperature_converter(value, scale):\n",
    "    def celsius_to_fahrenheit(celsius):\n",
    "        return (celsius * 9/5) + 32\n",
    "\n",
    "    def fahrenheit_to_celsius(fahrenheit):\n",
    "        return (fahrenheit - 32) * 5/9\n",
    "\n",
    "    if scale == 'C':\n",
    "        \n",
    "        return celsius_to_fahrenheit(value)\n",
    "    elif scale == 'F':\n",
    "        \n",
    "        return fahrenheit_to_celsius(value)\n",
    "    else:\n",
    "        raise ValueError(\"Invalid scale. Use 'C' for Celsius or 'F' for Fahrenheit.\")\n",
    "\n",
    "print(temperature_converter(100, 'C'))  \n",
    "print(temperature_converter(212, 'F'))  \n"
   ]
  },
  {
   "cell_type": "code",
   "execution_count": null,
   "id": "c2f47226-3233-41ab-9af7-d888c5dc8786",
   "metadata": {},
   "outputs": [],
   "source": [
    "#111. Factorial Calculation: Write a recursive Python function called `factorial` that takes a non-negative integer as input and returns its"
   ]
  },
  {
   "cell_type": "code",
   "execution_count": 233,
   "id": "d40948ff-74a0-4875-974f-5db4bc2f6030",
   "metadata": {},
   "outputs": [
    {
     "name": "stdout",
     "output_type": "stream",
     "text": [
      "120\n",
      "1\n",
      "5040\n"
     ]
    }
   ],
   "source": [
    "def factorial(n):\n",
    "    \"\"\"Calculate the factorial of a non-negative integer n using recursion.\"\"\"\n",
    "    if n == 0 or n == 1:\n",
    "        return 1\n",
    "    else:\n",
    "        return n * factorial(n - 1)\n",
    "\n",
    "print(factorial(5)) \n",
    "print(factorial(0))  \n",
    "print(factorial(7))  \n"
   ]
  },
  {
   "cell_type": "code",
   "execution_count": null,
   "id": "5a25e73e-087a-4969-8c69-c6dc9f746876",
   "metadata": {},
   "outputs": [],
   "source": [
    "#112. Fibonacci Series: Write a recursive Python function called `Fibonacci` that takes an integer N as input and returns the Nth number in the F"
   ]
  },
  {
   "cell_type": "code",
   "execution_count": 235,
   "id": "95e367ee-0452-4d8c-b446-981eef29eb29",
   "metadata": {},
   "outputs": [
    {
     "name": "stdout",
     "output_type": "stream",
     "text": [
      "0\n",
      "1\n",
      "5\n",
      "55\n"
     ]
    }
   ],
   "source": [
    "def Fibonacci(n):\n",
    "    \"\"\"Return the Nth number in the Fibonacci series using recursion.\"\"\"\n",
    "    if n == 0:\n",
    "        return 0\n",
    "    elif n == 1:\n",
    "        return 1\n",
    "    else:\n",
    "        return Fibonacci(n - 1) + Fibonacci(n - 2)\n",
    "\n",
    "print(Fibonacci(0))  \n",
    "print(Fibonacci(1)) \n",
    "print(Fibonacci(5)) \n",
    "print(Fibonacci(10)) \n"
   ]
  },
  {
   "cell_type": "code",
   "execution_count": null,
   "id": "6d5ffc2c-b11b-45a0-b94e-48e3b70c3c14",
   "metadata": {},
   "outputs": [],
   "source": [
    "#113. The sum of Digits: Write a recursive Python function called `sum_of_digits` that takes an integer as input a"
   ]
  },
  {
   "cell_type": "code",
   "execution_count": 237,
   "id": "293e652a-a7d1-41ab-b781-b78ae4d425e5",
   "metadata": {},
   "outputs": [
    {
     "name": "stdout",
     "output_type": "stream",
     "text": [
      "10\n",
      "30\n",
      "15\n",
      "0\n"
     ]
    }
   ],
   "source": [
    "def sum_of_digits(n):\n",
    "    \"\"\"Return the sum of the digits of an integer using recursion.\"\"\"\n",
    "\n",
    "    n = abs(n)\n",
    "    \n",
    "    if n < 10:\n",
    "        return n\n",
    "    else:\n",
    "        \n",
    "        return n % 10 + sum_of_digits(n // 10)\n",
    "\n",
    "print(sum_of_digits(1234))\n",
    "print(sum_of_digits(9876))  \n",
    "print(sum_of_digits(-456))  \n",
    "print(sum_of_digits(0))     \n"
   ]
  },
  {
   "cell_type": "code",
   "execution_count": null,
   "id": "d9229c99-b729-4617-8201-a4366a898af3",
   "metadata": {},
   "outputs": [],
   "source": [
    "#114. Binary Search: Write a recursive Python function called `binary_search` that takes a sorted list and a target value as input and returns th"
   ]
  },
  {
   "cell_type": "code",
   "execution_count": 239,
   "id": "bd02eb7e-5fc3-4e09-a018-0f5d26a183aa",
   "metadata": {},
   "outputs": [
    {
     "name": "stdout",
     "output_type": "stream",
     "text": [
      "10\n",
      "30\n",
      "15\n",
      "0\n"
     ]
    }
   ],
   "source": [
    "def sum_of_digits(n):\n",
    "    \"\"\"Return the sum of the digits of an integer using recursion.\"\"\"\n",
    "\n",
    "    n = abs(n)\n",
    "    \n",
    "    if n < 10:\n",
    "        return n\n",
    "    else:\n",
    "    \n",
    "        return n % 10 + sum_of_digits(n // 10)\n",
    "print(sum_of_digits(1234))  \n",
    "print(sum_of_digits(9876))  \n",
    "print(sum_of_digits(-456))  \n",
    "print(sum_of_digits(0))     \n"
   ]
  },
  {
   "cell_type": "code",
   "execution_count": null,
   "id": "47938f90-9d65-4d84-8b34-8bc02eb70b0c",
   "metadata": {},
   "outputs": [],
   "source": [
    "#115. Power Calculation: Write a recursive Python function called `power` that takes two positive integers, base and exponent, as input and retur"
   ]
  },
  {
   "cell_type": "code",
   "execution_count": 241,
   "id": "d21f155a-6268-4640-aefd-44122552db94",
   "metadata": {},
   "outputs": [
    {
     "name": "stdout",
     "output_type": "stream",
     "text": [
      "8\n",
      "625\n",
      "1\n",
      "7\n"
     ]
    }
   ],
   "source": [
    "def power(base, exponent):\n",
    "    \"\"\"Return the value of base raised to the exponent using recursion.\"\"\"\n",
    "    \n",
    "    if exponent == 0:\n",
    "        return 1\n",
    "\n",
    "    elif exponent == 1:\n",
    "        return base\n",
    "    else:\n",
    "    \n",
    "        return base * power(base, exponent - 1)\n",
    "\n",
    "print(power(2, 3))   \n",
    "print(power(5, 4))  \n",
    "print(power(10, 0))  \n",
    "print(power(7, 1))   \n"
   ]
  },
  {
   "cell_type": "code",
   "execution_count": null,
   "id": "3bc2e4f4-e7d3-463e-bce8-d6973cfb2ac2",
   "metadata": {},
   "outputs": [],
   "source": []
  }
 ],
 "metadata": {
  "kernelspec": {
   "display_name": "Python 3 (ipykernel)",
   "language": "python",
   "name": "python3"
  },
  "language_info": {
   "codemirror_mode": {
    "name": "ipython",
    "version": 3
   },
   "file_extension": ".py",
   "mimetype": "text/x-python",
   "name": "python",
   "nbconvert_exporter": "python",
   "pygments_lexer": "ipython3",
   "version": "3.12.4"
  }
 },
 "nbformat": 4,
 "nbformat_minor": 5
}
