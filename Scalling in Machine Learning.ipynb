{
 "cells": [
  {
   "cell_type": "code",
   "execution_count": 1,
   "id": "10afd22e-06ce-4be8-a0df-6484cd14bad4",
   "metadata": {},
   "outputs": [],
   "source": [
    "li = [100, 200, 150, 300, 180]"
   ]
  },
  {
   "cell_type": "code",
   "execution_count": 2,
   "id": "a11dcd61-1931-4b15-a584-a8a9a7e86879",
   "metadata": {},
   "outputs": [
    {
     "data": {
      "text/plain": [
       "[100, 200, 150, 300, 180]"
      ]
     },
     "execution_count": 2,
     "metadata": {},
     "output_type": "execute_result"
    }
   ],
   "source": [
    "li"
   ]
  },
  {
   "cell_type": "code",
   "execution_count": 6,
   "id": "29b1a035-8a31-4b75-860a-9a77e117d3f5",
   "metadata": {},
   "outputs": [
    {
     "data": {
      "text/html": [
       "<div>\n",
       "<style scoped>\n",
       "    .dataframe tbody tr th:only-of-type {\n",
       "        vertical-align: middle;\n",
       "    }\n",
       "\n",
       "    .dataframe tbody tr th {\n",
       "        vertical-align: top;\n",
       "    }\n",
       "\n",
       "    .dataframe thead th {\n",
       "        text-align: right;\n",
       "    }\n",
       "</style>\n",
       "<table border=\"1\" class=\"dataframe\">\n",
       "  <thead>\n",
       "    <tr style=\"text-align: right;\">\n",
       "      <th></th>\n",
       "      <th>cost</th>\n",
       "    </tr>\n",
       "  </thead>\n",
       "  <tbody>\n",
       "    <tr>\n",
       "      <th>0</th>\n",
       "      <td>100</td>\n",
       "    </tr>\n",
       "    <tr>\n",
       "      <th>1</th>\n",
       "      <td>200</td>\n",
       "    </tr>\n",
       "    <tr>\n",
       "      <th>2</th>\n",
       "      <td>150</td>\n",
       "    </tr>\n",
       "    <tr>\n",
       "      <th>3</th>\n",
       "      <td>300</td>\n",
       "    </tr>\n",
       "    <tr>\n",
       "      <th>4</th>\n",
       "      <td>180</td>\n",
       "    </tr>\n",
       "  </tbody>\n",
       "</table>\n",
       "</div>"
      ],
      "text/plain": [
       "   cost\n",
       "0   100\n",
       "1   200\n",
       "2   150\n",
       "3   300\n",
       "4   180"
      ]
     },
     "execution_count": 6,
     "metadata": {},
     "output_type": "execute_result"
    }
   ],
   "source": [
    "import pandas as pd\n",
    "df = pd.DataFrame(li, columns=['cost'])\n",
    "df"
   ]
  },
  {
   "cell_type": "markdown",
   "id": "24ffa236-469a-4689-8f13-8b3de54c333f",
   "metadata": {},
   "source": [
    "Techniques To Perform Feachers Transformations:"
   ]
  },
  {
   "cell_type": "raw",
   "id": "38f1fd7f-71d3-4b2f-a18e-9960dbe2c8b3",
   "metadata": {},
   "source": [
    "1.Normalization\n",
    "2.Standardization\n",
    "3.Log Transformation\n",
    "4.Robust Scaler\n",
    "5.Max Absolute Scaler"
   ]
  },
  {
   "cell_type": "markdown",
   "id": "b82efdd8-75b2-4ea5-a7c0-521cf9c13688",
   "metadata": {},
   "source": [
    "Normalization/ Min Max Scaler"
   ]
  },
  {
   "cell_type": "code",
   "execution_count": 7,
   "id": "e74009bb-ec0f-4aca-bdf0-dd420469ecba",
   "metadata": {},
   "outputs": [],
   "source": [
    "min_cost = df.cost.min()\n",
    "max_cost = df.cost.max()"
   ]
  },
  {
   "cell_type": "code",
   "execution_count": 8,
   "id": "5289fe0a-b491-46ee-97e9-30d10e67e579",
   "metadata": {},
   "outputs": [
    {
     "data": {
      "text/plain": [
       "100"
      ]
     },
     "execution_count": 8,
     "metadata": {},
     "output_type": "execute_result"
    }
   ],
   "source": [
    "min_cost"
   ]
  },
  {
   "cell_type": "code",
   "execution_count": 9,
   "id": "48922ebc-1fde-4d71-9d04-bad51ad2ab9e",
   "metadata": {},
   "outputs": [
    {
     "data": {
      "text/plain": [
       "300"
      ]
     },
     "execution_count": 9,
     "metadata": {},
     "output_type": "execute_result"
    }
   ],
   "source": [
    "max_cost"
   ]
  },
  {
   "cell_type": "code",
   "execution_count": 10,
   "id": "2a0d53fe-8f7d-4379-ae10-4f45b72453ca",
   "metadata": {},
   "outputs": [],
   "source": [
    "df['cost_norm_manual']= (df.cost - min_cost) / (max_cost - min_cost)"
   ]
  },
  {
   "cell_type": "code",
   "execution_count": 11,
   "id": "abcac11b-5388-4b80-b7e1-5282b82fa49c",
   "metadata": {},
   "outputs": [
    {
     "data": {
      "text/html": [
       "<div>\n",
       "<style scoped>\n",
       "    .dataframe tbody tr th:only-of-type {\n",
       "        vertical-align: middle;\n",
       "    }\n",
       "\n",
       "    .dataframe tbody tr th {\n",
       "        vertical-align: top;\n",
       "    }\n",
       "\n",
       "    .dataframe thead th {\n",
       "        text-align: right;\n",
       "    }\n",
       "</style>\n",
       "<table border=\"1\" class=\"dataframe\">\n",
       "  <thead>\n",
       "    <tr style=\"text-align: right;\">\n",
       "      <th></th>\n",
       "      <th>cost</th>\n",
       "      <th>cost_norm_manual</th>\n",
       "    </tr>\n",
       "  </thead>\n",
       "  <tbody>\n",
       "    <tr>\n",
       "      <th>0</th>\n",
       "      <td>100</td>\n",
       "      <td>0.00</td>\n",
       "    </tr>\n",
       "    <tr>\n",
       "      <th>1</th>\n",
       "      <td>200</td>\n",
       "      <td>0.50</td>\n",
       "    </tr>\n",
       "    <tr>\n",
       "      <th>2</th>\n",
       "      <td>150</td>\n",
       "      <td>0.25</td>\n",
       "    </tr>\n",
       "    <tr>\n",
       "      <th>3</th>\n",
       "      <td>300</td>\n",
       "      <td>1.00</td>\n",
       "    </tr>\n",
       "    <tr>\n",
       "      <th>4</th>\n",
       "      <td>180</td>\n",
       "      <td>0.40</td>\n",
       "    </tr>\n",
       "  </tbody>\n",
       "</table>\n",
       "</div>"
      ],
      "text/plain": [
       "   cost  cost_norm_manual\n",
       "0   100              0.00\n",
       "1   200              0.50\n",
       "2   150              0.25\n",
       "3   300              1.00\n",
       "4   180              0.40"
      ]
     },
     "execution_count": 11,
     "metadata": {},
     "output_type": "execute_result"
    }
   ],
   "source": [
    "df.head()"
   ]
  },
  {
   "cell_type": "code",
   "execution_count": 12,
   "id": "b39327da-fc27-42f9-9395-fac7a7014a97",
   "metadata": {},
   "outputs": [],
   "source": [
    "from sklearn.preprocessing import MinMaxScaler"
   ]
  },
  {
   "cell_type": "code",
   "execution_count": 19,
   "id": "eff3d2ab-6ca0-4ef9-801a-3594fc60de88",
   "metadata": {},
   "outputs": [],
   "source": [
    "mmx =  MinMaxScaler()"
   ]
  },
  {
   "cell_type": "code",
   "execution_count": 20,
   "id": "d089ddab-1037-4654-8c2f-71dd6dd89f49",
   "metadata": {},
   "outputs": [],
   "source": [
    "df['cost_norm_sklearn'] = mmx.fit_transform(df[['cost']])"
   ]
  },
  {
   "cell_type": "code",
   "execution_count": 21,
   "id": "33a1f7c2-b9c5-4693-b913-8e5c3f7914e4",
   "metadata": {},
   "outputs": [
    {
     "data": {
      "text/html": [
       "<div>\n",
       "<style scoped>\n",
       "    .dataframe tbody tr th:only-of-type {\n",
       "        vertical-align: middle;\n",
       "    }\n",
       "\n",
       "    .dataframe tbody tr th {\n",
       "        vertical-align: top;\n",
       "    }\n",
       "\n",
       "    .dataframe thead th {\n",
       "        text-align: right;\n",
       "    }\n",
       "</style>\n",
       "<table border=\"1\" class=\"dataframe\">\n",
       "  <thead>\n",
       "    <tr style=\"text-align: right;\">\n",
       "      <th></th>\n",
       "      <th>cost</th>\n",
       "      <th>cost_norm_manual</th>\n",
       "      <th>cost_norm_sklearn</th>\n",
       "    </tr>\n",
       "  </thead>\n",
       "  <tbody>\n",
       "    <tr>\n",
       "      <th>0</th>\n",
       "      <td>100</td>\n",
       "      <td>0.00</td>\n",
       "      <td>0.00</td>\n",
       "    </tr>\n",
       "    <tr>\n",
       "      <th>1</th>\n",
       "      <td>200</td>\n",
       "      <td>0.50</td>\n",
       "      <td>0.50</td>\n",
       "    </tr>\n",
       "    <tr>\n",
       "      <th>2</th>\n",
       "      <td>150</td>\n",
       "      <td>0.25</td>\n",
       "      <td>0.25</td>\n",
       "    </tr>\n",
       "    <tr>\n",
       "      <th>3</th>\n",
       "      <td>300</td>\n",
       "      <td>1.00</td>\n",
       "      <td>1.00</td>\n",
       "    </tr>\n",
       "    <tr>\n",
       "      <th>4</th>\n",
       "      <td>180</td>\n",
       "      <td>0.40</td>\n",
       "      <td>0.40</td>\n",
       "    </tr>\n",
       "  </tbody>\n",
       "</table>\n",
       "</div>"
      ],
      "text/plain": [
       "   cost  cost_norm_manual  cost_norm_sklearn\n",
       "0   100              0.00               0.00\n",
       "1   200              0.50               0.50\n",
       "2   150              0.25               0.25\n",
       "3   300              1.00               1.00\n",
       "4   180              0.40               0.40"
      ]
     },
     "execution_count": 21,
     "metadata": {},
     "output_type": "execute_result"
    }
   ],
   "source": [
    "df.head()"
   ]
  },
  {
   "cell_type": "markdown",
   "id": "d87ea679-9937-4f42-9686-05b2c75e27d9",
   "metadata": {},
   "source": [
    "Standardization / Standard Scaler"
   ]
  },
  {
   "cell_type": "code",
   "execution_count": 29,
   "id": "2018aef3-fbd8-4261-b4cf-d1c31f2afb34",
   "metadata": {},
   "outputs": [],
   "source": [
    "mean_cost = df.cost.mean()\n",
    "std = df.cost.std()"
   ]
  },
  {
   "cell_type": "code",
   "execution_count": 30,
   "id": "336cafcf-6e6f-4334-b957-048adb8309a3",
   "metadata": {},
   "outputs": [],
   "source": [
    "df['cost_std_manual'] = (df['cost'] - mean_cost) / std"
   ]
  },
  {
   "cell_type": "code",
   "execution_count": 31,
   "id": "0a7b3431-0629-475b-8702-fb86d7250db0",
   "metadata": {},
   "outputs": [
    {
     "data": {
      "text/html": [
       "<div>\n",
       "<style scoped>\n",
       "    .dataframe tbody tr th:only-of-type {\n",
       "        vertical-align: middle;\n",
       "    }\n",
       "\n",
       "    .dataframe tbody tr th {\n",
       "        vertical-align: top;\n",
       "    }\n",
       "\n",
       "    .dataframe thead th {\n",
       "        text-align: right;\n",
       "    }\n",
       "</style>\n",
       "<table border=\"1\" class=\"dataframe\">\n",
       "  <thead>\n",
       "    <tr style=\"text-align: right;\">\n",
       "      <th></th>\n",
       "      <th>cost</th>\n",
       "      <th>cost_norm_manual</th>\n",
       "      <th>cost_norm_sklearn</th>\n",
       "      <th>cost_std_manual</th>\n",
       "    </tr>\n",
       "  </thead>\n",
       "  <tbody>\n",
       "    <tr>\n",
       "      <th>0</th>\n",
       "      <td>100</td>\n",
       "      <td>0.00</td>\n",
       "      <td>0.00</td>\n",
       "      <td>-1.161738</td>\n",
       "    </tr>\n",
       "    <tr>\n",
       "      <th>1</th>\n",
       "      <td>200</td>\n",
       "      <td>0.50</td>\n",
       "      <td>0.50</td>\n",
       "      <td>0.189120</td>\n",
       "    </tr>\n",
       "    <tr>\n",
       "      <th>2</th>\n",
       "      <td>150</td>\n",
       "      <td>0.25</td>\n",
       "      <td>0.25</td>\n",
       "      <td>-0.486309</td>\n",
       "    </tr>\n",
       "    <tr>\n",
       "      <th>3</th>\n",
       "      <td>300</td>\n",
       "      <td>1.00</td>\n",
       "      <td>1.00</td>\n",
       "      <td>1.539978</td>\n",
       "    </tr>\n",
       "    <tr>\n",
       "      <th>4</th>\n",
       "      <td>180</td>\n",
       "      <td>0.40</td>\n",
       "      <td>0.40</td>\n",
       "      <td>-0.081051</td>\n",
       "    </tr>\n",
       "  </tbody>\n",
       "</table>\n",
       "</div>"
      ],
      "text/plain": [
       "   cost  cost_norm_manual  cost_norm_sklearn  cost_std_manual\n",
       "0   100              0.00               0.00        -1.161738\n",
       "1   200              0.50               0.50         0.189120\n",
       "2   150              0.25               0.25        -0.486309\n",
       "3   300              1.00               1.00         1.539978\n",
       "4   180              0.40               0.40        -0.081051"
      ]
     },
     "execution_count": 31,
     "metadata": {},
     "output_type": "execute_result"
    }
   ],
   "source": [
    "df.head()"
   ]
  },
  {
   "cell_type": "code",
   "execution_count": 35,
   "id": "acb64e17-d86c-4f7c-b64b-1d784bdb4ea1",
   "metadata": {},
   "outputs": [],
   "source": [
    "from sklearn.preprocessing import MinMaxScaler\n",
    "\n",
    "scaler = StandardScaler()\n"
   ]
  },
  {
   "cell_type": "code",
   "execution_count": 38,
   "id": "89bc3b3e-8010-40c2-aad7-06489c3813cc",
   "metadata": {},
   "outputs": [],
   "source": [
    "df['cost_std_sklearn'] = scaler.fit_transform(df[['cost']])"
   ]
  },
  {
   "cell_type": "code",
   "execution_count": 39,
   "id": "1e22071e-5520-4653-9e8f-74656b10a55b",
   "metadata": {},
   "outputs": [
    {
     "data": {
      "text/html": [
       "<div>\n",
       "<style scoped>\n",
       "    .dataframe tbody tr th:only-of-type {\n",
       "        vertical-align: middle;\n",
       "    }\n",
       "\n",
       "    .dataframe tbody tr th {\n",
       "        vertical-align: top;\n",
       "    }\n",
       "\n",
       "    .dataframe thead th {\n",
       "        text-align: right;\n",
       "    }\n",
       "</style>\n",
       "<table border=\"1\" class=\"dataframe\">\n",
       "  <thead>\n",
       "    <tr style=\"text-align: right;\">\n",
       "      <th></th>\n",
       "      <th>cost</th>\n",
       "      <th>cost_norm_manual</th>\n",
       "      <th>cost_norm_sklearn</th>\n",
       "      <th>cost_std_manual</th>\n",
       "      <th>cost_std_sklearn</th>\n",
       "    </tr>\n",
       "  </thead>\n",
       "  <tbody>\n",
       "    <tr>\n",
       "      <th>0</th>\n",
       "      <td>100</td>\n",
       "      <td>0.00</td>\n",
       "      <td>-1.298863</td>\n",
       "      <td>-1.161738</td>\n",
       "      <td>-1.298863</td>\n",
       "    </tr>\n",
       "    <tr>\n",
       "      <th>1</th>\n",
       "      <td>200</td>\n",
       "      <td>0.50</td>\n",
       "      <td>0.211443</td>\n",
       "      <td>0.189120</td>\n",
       "      <td>0.211443</td>\n",
       "    </tr>\n",
       "    <tr>\n",
       "      <th>2</th>\n",
       "      <td>150</td>\n",
       "      <td>0.25</td>\n",
       "      <td>-0.543710</td>\n",
       "      <td>-0.486309</td>\n",
       "      <td>-0.543710</td>\n",
       "    </tr>\n",
       "    <tr>\n",
       "      <th>3</th>\n",
       "      <td>300</td>\n",
       "      <td>1.00</td>\n",
       "      <td>1.721748</td>\n",
       "      <td>1.539978</td>\n",
       "      <td>1.721748</td>\n",
       "    </tr>\n",
       "    <tr>\n",
       "      <th>4</th>\n",
       "      <td>180</td>\n",
       "      <td>0.40</td>\n",
       "      <td>-0.090618</td>\n",
       "      <td>-0.081051</td>\n",
       "      <td>-0.090618</td>\n",
       "    </tr>\n",
       "  </tbody>\n",
       "</table>\n",
       "</div>"
      ],
      "text/plain": [
       "   cost  cost_norm_manual  cost_norm_sklearn  cost_std_manual  \\\n",
       "0   100              0.00          -1.298863        -1.161738   \n",
       "1   200              0.50           0.211443         0.189120   \n",
       "2   150              0.25          -0.543710        -0.486309   \n",
       "3   300              1.00           1.721748         1.539978   \n",
       "4   180              0.40          -0.090618        -0.081051   \n",
       "\n",
       "   cost_std_sklearn  \n",
       "0         -1.298863  \n",
       "1          0.211443  \n",
       "2         -0.543710  \n",
       "3          1.721748  \n",
       "4         -0.090618  "
      ]
     },
     "execution_count": 39,
     "metadata": {},
     "output_type": "execute_result"
    }
   ],
   "source": [
    "df"
   ]
  },
  {
   "cell_type": "code",
   "execution_count": 40,
   "id": "cf93dc6d-9644-42c4-bd42-1ce2bd27f5d9",
   "metadata": {},
   "outputs": [],
   "source": [
    "std_dof = df.cost.std(ddof= 0)"
   ]
  },
  {
   "cell_type": "code",
   "execution_count": 41,
   "id": "40419b2b-7a1c-452c-94e3-fac061fb8221",
   "metadata": {},
   "outputs": [
    {
     "data": {
      "text/plain": [
       "66.2117814289874"
      ]
     },
     "execution_count": 41,
     "metadata": {},
     "output_type": "execute_result"
    }
   ],
   "source": [
    "std_dof"
   ]
  },
  {
   "cell_type": "code",
   "execution_count": 42,
   "id": "3ed62b86-c91d-4ed0-a064-60ea8771a3d2",
   "metadata": {},
   "outputs": [
    {
     "data": {
      "text/plain": [
       "74.02702209328699"
      ]
     },
     "execution_count": 42,
     "metadata": {},
     "output_type": "execute_result"
    }
   ],
   "source": [
    "std_dof1 = df.cost.std(ddof= 1)\n",
    "std_dof1"
   ]
  },
  {
   "cell_type": "code",
   "execution_count": 43,
   "id": "6a678148-4e6e-49e5-9748-309f9860aee8",
   "metadata": {},
   "outputs": [
    {
     "data": {
      "text/html": [
       "<div>\n",
       "<style scoped>\n",
       "    .dataframe tbody tr th:only-of-type {\n",
       "        vertical-align: middle;\n",
       "    }\n",
       "\n",
       "    .dataframe tbody tr th {\n",
       "        vertical-align: top;\n",
       "    }\n",
       "\n",
       "    .dataframe thead th {\n",
       "        text-align: right;\n",
       "    }\n",
       "</style>\n",
       "<table border=\"1\" class=\"dataframe\">\n",
       "  <thead>\n",
       "    <tr style=\"text-align: right;\">\n",
       "      <th></th>\n",
       "      <th>cost</th>\n",
       "      <th>cost_norm_manual</th>\n",
       "      <th>cost_norm_sklearn</th>\n",
       "      <th>cost_std_manual</th>\n",
       "      <th>cost_std_sklearn</th>\n",
       "    </tr>\n",
       "  </thead>\n",
       "  <tbody>\n",
       "    <tr>\n",
       "      <th>0</th>\n",
       "      <td>100</td>\n",
       "      <td>0.00</td>\n",
       "      <td>-1.298863</td>\n",
       "      <td>-1.161738</td>\n",
       "      <td>-1.298863</td>\n",
       "    </tr>\n",
       "    <tr>\n",
       "      <th>1</th>\n",
       "      <td>200</td>\n",
       "      <td>0.50</td>\n",
       "      <td>0.211443</td>\n",
       "      <td>0.189120</td>\n",
       "      <td>0.211443</td>\n",
       "    </tr>\n",
       "    <tr>\n",
       "      <th>2</th>\n",
       "      <td>150</td>\n",
       "      <td>0.25</td>\n",
       "      <td>-0.543710</td>\n",
       "      <td>-0.486309</td>\n",
       "      <td>-0.543710</td>\n",
       "    </tr>\n",
       "    <tr>\n",
       "      <th>3</th>\n",
       "      <td>300</td>\n",
       "      <td>1.00</td>\n",
       "      <td>1.721748</td>\n",
       "      <td>1.539978</td>\n",
       "      <td>1.721748</td>\n",
       "    </tr>\n",
       "    <tr>\n",
       "      <th>4</th>\n",
       "      <td>180</td>\n",
       "      <td>0.40</td>\n",
       "      <td>-0.090618</td>\n",
       "      <td>-0.081051</td>\n",
       "      <td>-0.090618</td>\n",
       "    </tr>\n",
       "  </tbody>\n",
       "</table>\n",
       "</div>"
      ],
      "text/plain": [
       "   cost  cost_norm_manual  cost_norm_sklearn  cost_std_manual  \\\n",
       "0   100              0.00          -1.298863        -1.161738   \n",
       "1   200              0.50           0.211443         0.189120   \n",
       "2   150              0.25          -0.543710        -0.486309   \n",
       "3   300              1.00           1.721748         1.539978   \n",
       "4   180              0.40          -0.090618        -0.081051   \n",
       "\n",
       "   cost_std_sklearn  \n",
       "0         -1.298863  \n",
       "1          0.211443  \n",
       "2         -0.543710  \n",
       "3          1.721748  \n",
       "4         -0.090618  "
      ]
     },
     "execution_count": 43,
     "metadata": {},
     "output_type": "execute_result"
    }
   ],
   "source": [
    "df"
   ]
  },
  {
   "cell_type": "code",
   "execution_count": 44,
   "id": "668112ce-e288-412c-9883-ce960284d5e0",
   "metadata": {},
   "outputs": [],
   "source": [
    "df['cost_std_manual2'] = (df['cost'] - mean_cost) / std_dof1"
   ]
  },
  {
   "cell_type": "code",
   "execution_count": 45,
   "id": "6aee5299-bb83-4da9-8c01-df9134837279",
   "metadata": {},
   "outputs": [
    {
     "data": {
      "text/html": [
       "<div>\n",
       "<style scoped>\n",
       "    .dataframe tbody tr th:only-of-type {\n",
       "        vertical-align: middle;\n",
       "    }\n",
       "\n",
       "    .dataframe tbody tr th {\n",
       "        vertical-align: top;\n",
       "    }\n",
       "\n",
       "    .dataframe thead th {\n",
       "        text-align: right;\n",
       "    }\n",
       "</style>\n",
       "<table border=\"1\" class=\"dataframe\">\n",
       "  <thead>\n",
       "    <tr style=\"text-align: right;\">\n",
       "      <th></th>\n",
       "      <th>cost</th>\n",
       "      <th>cost_norm_manual</th>\n",
       "      <th>cost_norm_sklearn</th>\n",
       "      <th>cost_std_manual</th>\n",
       "      <th>cost_std_sklearn</th>\n",
       "      <th>cost_std_manual2</th>\n",
       "    </tr>\n",
       "  </thead>\n",
       "  <tbody>\n",
       "    <tr>\n",
       "      <th>0</th>\n",
       "      <td>100</td>\n",
       "      <td>0.00</td>\n",
       "      <td>-1.298863</td>\n",
       "      <td>-1.161738</td>\n",
       "      <td>-1.298863</td>\n",
       "      <td>-1.161738</td>\n",
       "    </tr>\n",
       "    <tr>\n",
       "      <th>1</th>\n",
       "      <td>200</td>\n",
       "      <td>0.50</td>\n",
       "      <td>0.211443</td>\n",
       "      <td>0.189120</td>\n",
       "      <td>0.211443</td>\n",
       "      <td>0.189120</td>\n",
       "    </tr>\n",
       "    <tr>\n",
       "      <th>2</th>\n",
       "      <td>150</td>\n",
       "      <td>0.25</td>\n",
       "      <td>-0.543710</td>\n",
       "      <td>-0.486309</td>\n",
       "      <td>-0.543710</td>\n",
       "      <td>-0.486309</td>\n",
       "    </tr>\n",
       "    <tr>\n",
       "      <th>3</th>\n",
       "      <td>300</td>\n",
       "      <td>1.00</td>\n",
       "      <td>1.721748</td>\n",
       "      <td>1.539978</td>\n",
       "      <td>1.721748</td>\n",
       "      <td>1.539978</td>\n",
       "    </tr>\n",
       "    <tr>\n",
       "      <th>4</th>\n",
       "      <td>180</td>\n",
       "      <td>0.40</td>\n",
       "      <td>-0.090618</td>\n",
       "      <td>-0.081051</td>\n",
       "      <td>-0.090618</td>\n",
       "      <td>-0.081051</td>\n",
       "    </tr>\n",
       "  </tbody>\n",
       "</table>\n",
       "</div>"
      ],
      "text/plain": [
       "   cost  cost_norm_manual  cost_norm_sklearn  cost_std_manual  \\\n",
       "0   100              0.00          -1.298863        -1.161738   \n",
       "1   200              0.50           0.211443         0.189120   \n",
       "2   150              0.25          -0.543710        -0.486309   \n",
       "3   300              1.00           1.721748         1.539978   \n",
       "4   180              0.40          -0.090618        -0.081051   \n",
       "\n",
       "   cost_std_sklearn  cost_std_manual2  \n",
       "0         -1.298863         -1.161738  \n",
       "1          0.211443          0.189120  \n",
       "2         -0.543710         -0.486309  \n",
       "3          1.721748          1.539978  \n",
       "4         -0.090618         -0.081051  "
      ]
     },
     "execution_count": 45,
     "metadata": {},
     "output_type": "execute_result"
    }
   ],
   "source": [
    "df"
   ]
  },
  {
   "cell_type": "code",
   "execution_count": 46,
   "id": "f75cf913-270a-405a-b734-8d4818e60555",
   "metadata": {},
   "outputs": [],
   "source": [
    "df['cost_std_manual3'] = (df['cost'] - mean_cost) / std_dof"
   ]
  },
  {
   "cell_type": "code",
   "execution_count": 47,
   "id": "6f2d3272-90f5-4ad8-a9b4-7ca4345dc581",
   "metadata": {},
   "outputs": [
    {
     "data": {
      "text/html": [
       "<div>\n",
       "<style scoped>\n",
       "    .dataframe tbody tr th:only-of-type {\n",
       "        vertical-align: middle;\n",
       "    }\n",
       "\n",
       "    .dataframe tbody tr th {\n",
       "        vertical-align: top;\n",
       "    }\n",
       "\n",
       "    .dataframe thead th {\n",
       "        text-align: right;\n",
       "    }\n",
       "</style>\n",
       "<table border=\"1\" class=\"dataframe\">\n",
       "  <thead>\n",
       "    <tr style=\"text-align: right;\">\n",
       "      <th></th>\n",
       "      <th>cost</th>\n",
       "      <th>cost_norm_manual</th>\n",
       "      <th>cost_norm_sklearn</th>\n",
       "      <th>cost_std_manual</th>\n",
       "      <th>cost_std_sklearn</th>\n",
       "      <th>cost_std_manual2</th>\n",
       "      <th>cost_std_manual3</th>\n",
       "    </tr>\n",
       "  </thead>\n",
       "  <tbody>\n",
       "    <tr>\n",
       "      <th>0</th>\n",
       "      <td>100</td>\n",
       "      <td>0.00</td>\n",
       "      <td>-1.298863</td>\n",
       "      <td>-1.161738</td>\n",
       "      <td>-1.298863</td>\n",
       "      <td>-1.161738</td>\n",
       "      <td>-1.298863</td>\n",
       "    </tr>\n",
       "    <tr>\n",
       "      <th>1</th>\n",
       "      <td>200</td>\n",
       "      <td>0.50</td>\n",
       "      <td>0.211443</td>\n",
       "      <td>0.189120</td>\n",
       "      <td>0.211443</td>\n",
       "      <td>0.189120</td>\n",
       "      <td>0.211443</td>\n",
       "    </tr>\n",
       "    <tr>\n",
       "      <th>2</th>\n",
       "      <td>150</td>\n",
       "      <td>0.25</td>\n",
       "      <td>-0.543710</td>\n",
       "      <td>-0.486309</td>\n",
       "      <td>-0.543710</td>\n",
       "      <td>-0.486309</td>\n",
       "      <td>-0.543710</td>\n",
       "    </tr>\n",
       "    <tr>\n",
       "      <th>3</th>\n",
       "      <td>300</td>\n",
       "      <td>1.00</td>\n",
       "      <td>1.721748</td>\n",
       "      <td>1.539978</td>\n",
       "      <td>1.721748</td>\n",
       "      <td>1.539978</td>\n",
       "      <td>1.721748</td>\n",
       "    </tr>\n",
       "    <tr>\n",
       "      <th>4</th>\n",
       "      <td>180</td>\n",
       "      <td>0.40</td>\n",
       "      <td>-0.090618</td>\n",
       "      <td>-0.081051</td>\n",
       "      <td>-0.090618</td>\n",
       "      <td>-0.081051</td>\n",
       "      <td>-0.090618</td>\n",
       "    </tr>\n",
       "  </tbody>\n",
       "</table>\n",
       "</div>"
      ],
      "text/plain": [
       "   cost  cost_norm_manual  cost_norm_sklearn  cost_std_manual  \\\n",
       "0   100              0.00          -1.298863        -1.161738   \n",
       "1   200              0.50           0.211443         0.189120   \n",
       "2   150              0.25          -0.543710        -0.486309   \n",
       "3   300              1.00           1.721748         1.539978   \n",
       "4   180              0.40          -0.090618        -0.081051   \n",
       "\n",
       "   cost_std_sklearn  cost_std_manual2  cost_std_manual3  \n",
       "0         -1.298863         -1.161738         -1.298863  \n",
       "1          0.211443          0.189120          0.211443  \n",
       "2         -0.543710         -0.486309         -0.543710  \n",
       "3          1.721748          1.539978          1.721748  \n",
       "4         -0.090618         -0.081051         -0.090618  "
      ]
     },
     "execution_count": 47,
     "metadata": {},
     "output_type": "execute_result"
    }
   ],
   "source": [
    "df"
   ]
  },
  {
   "cell_type": "markdown",
   "id": "b8d2fabc-6fed-4266-9356-085695087b4e",
   "metadata": {},
   "source": [
    "Log Transformation"
   ]
  },
  {
   "cell_type": "code",
   "execution_count": 48,
   "id": "ed5e1b16-b48e-48c8-b354-d7aca8066e91",
   "metadata": {},
   "outputs": [],
   "source": [
    "from sklearn.preprocessing import FunctionTransformer\n",
    "\n",
    "import numpy as np"
   ]
  },
  {
   "cell_type": "code",
   "execution_count": 52,
   "id": "177e73f1-b996-4aa3-908d-38c06dfe622a",
   "metadata": {},
   "outputs": [
    {
     "data": {
      "text/html": [
       "<div>\n",
       "<style scoped>\n",
       "    .dataframe tbody tr th:only-of-type {\n",
       "        vertical-align: middle;\n",
       "    }\n",
       "\n",
       "    .dataframe tbody tr th {\n",
       "        vertical-align: top;\n",
       "    }\n",
       "\n",
       "    .dataframe thead th {\n",
       "        text-align: right;\n",
       "    }\n",
       "</style>\n",
       "<table border=\"1\" class=\"dataframe\">\n",
       "  <thead>\n",
       "    <tr style=\"text-align: right;\">\n",
       "      <th></th>\n",
       "      <th>cost</th>\n",
       "      <th>cost_norm_manual</th>\n",
       "      <th>cost_norm_sklearn</th>\n",
       "      <th>cost_std_manual</th>\n",
       "      <th>cost_std_sklearn</th>\n",
       "      <th>cost_std_manual2</th>\n",
       "      <th>cost_std_manual3</th>\n",
       "      <th>cost_fc</th>\n",
       "    </tr>\n",
       "  </thead>\n",
       "  <tbody>\n",
       "    <tr>\n",
       "      <th>0</th>\n",
       "      <td>100</td>\n",
       "      <td>0.00</td>\n",
       "      <td>-1.298863</td>\n",
       "      <td>-1.161738</td>\n",
       "      <td>-1.298863</td>\n",
       "      <td>-1.161738</td>\n",
       "      <td>-1.298863</td>\n",
       "      <td>4.615121</td>\n",
       "    </tr>\n",
       "    <tr>\n",
       "      <th>1</th>\n",
       "      <td>200</td>\n",
       "      <td>0.50</td>\n",
       "      <td>0.211443</td>\n",
       "      <td>0.189120</td>\n",
       "      <td>0.211443</td>\n",
       "      <td>0.189120</td>\n",
       "      <td>0.211443</td>\n",
       "      <td>5.303305</td>\n",
       "    </tr>\n",
       "    <tr>\n",
       "      <th>2</th>\n",
       "      <td>150</td>\n",
       "      <td>0.25</td>\n",
       "      <td>-0.543710</td>\n",
       "      <td>-0.486309</td>\n",
       "      <td>-0.543710</td>\n",
       "      <td>-0.486309</td>\n",
       "      <td>-0.543710</td>\n",
       "      <td>5.017280</td>\n",
       "    </tr>\n",
       "    <tr>\n",
       "      <th>3</th>\n",
       "      <td>300</td>\n",
       "      <td>1.00</td>\n",
       "      <td>1.721748</td>\n",
       "      <td>1.539978</td>\n",
       "      <td>1.721748</td>\n",
       "      <td>1.539978</td>\n",
       "      <td>1.721748</td>\n",
       "      <td>5.707110</td>\n",
       "    </tr>\n",
       "    <tr>\n",
       "      <th>4</th>\n",
       "      <td>180</td>\n",
       "      <td>0.40</td>\n",
       "      <td>-0.090618</td>\n",
       "      <td>-0.081051</td>\n",
       "      <td>-0.090618</td>\n",
       "      <td>-0.081051</td>\n",
       "      <td>-0.090618</td>\n",
       "      <td>5.198497</td>\n",
       "    </tr>\n",
       "  </tbody>\n",
       "</table>\n",
       "</div>"
      ],
      "text/plain": [
       "   cost  cost_norm_manual  cost_norm_sklearn  cost_std_manual  \\\n",
       "0   100              0.00          -1.298863        -1.161738   \n",
       "1   200              0.50           0.211443         0.189120   \n",
       "2   150              0.25          -0.543710        -0.486309   \n",
       "3   300              1.00           1.721748         1.539978   \n",
       "4   180              0.40          -0.090618        -0.081051   \n",
       "\n",
       "   cost_std_sklearn  cost_std_manual2  cost_std_manual3   cost_fc  \n",
       "0         -1.298863         -1.161738         -1.298863  4.615121  \n",
       "1          0.211443          0.189120          0.211443  5.303305  \n",
       "2         -0.543710         -0.486309         -0.543710  5.017280  \n",
       "3          1.721748          1.539978          1.721748  5.707110  \n",
       "4         -0.090618         -0.081051         -0.090618  5.198497  "
      ]
     },
     "execution_count": 52,
     "metadata": {},
     "output_type": "execute_result"
    }
   ],
   "source": [
    "fc = FunctionTransformer(np.log1p)\n",
    "df['cost_fc'] = fc.fit_transform(df[['cost']])\n",
    "df"
   ]
  },
  {
   "cell_type": "code",
   "execution_count": 53,
   "id": "b52ceee0-9cb0-4b69-a370-1b8781765987",
   "metadata": {},
   "outputs": [],
   "source": [
    "df['fc_np'] = np.log1p(df[['cost']])"
   ]
  },
  {
   "cell_type": "code",
   "execution_count": 54,
   "id": "4ffc8adf-b0c0-40af-972d-b5703bddb2ab",
   "metadata": {},
   "outputs": [
    {
     "data": {
      "text/html": [
       "<div>\n",
       "<style scoped>\n",
       "    .dataframe tbody tr th:only-of-type {\n",
       "        vertical-align: middle;\n",
       "    }\n",
       "\n",
       "    .dataframe tbody tr th {\n",
       "        vertical-align: top;\n",
       "    }\n",
       "\n",
       "    .dataframe thead th {\n",
       "        text-align: right;\n",
       "    }\n",
       "</style>\n",
       "<table border=\"1\" class=\"dataframe\">\n",
       "  <thead>\n",
       "    <tr style=\"text-align: right;\">\n",
       "      <th></th>\n",
       "      <th>cost</th>\n",
       "      <th>cost_norm_manual</th>\n",
       "      <th>cost_norm_sklearn</th>\n",
       "      <th>cost_std_manual</th>\n",
       "      <th>cost_std_sklearn</th>\n",
       "      <th>cost_std_manual2</th>\n",
       "      <th>cost_std_manual3</th>\n",
       "      <th>cost_fc</th>\n",
       "      <th>fc_np</th>\n",
       "    </tr>\n",
       "  </thead>\n",
       "  <tbody>\n",
       "    <tr>\n",
       "      <th>0</th>\n",
       "      <td>100</td>\n",
       "      <td>0.00</td>\n",
       "      <td>-1.298863</td>\n",
       "      <td>-1.161738</td>\n",
       "      <td>-1.298863</td>\n",
       "      <td>-1.161738</td>\n",
       "      <td>-1.298863</td>\n",
       "      <td>4.615121</td>\n",
       "      <td>4.615121</td>\n",
       "    </tr>\n",
       "    <tr>\n",
       "      <th>1</th>\n",
       "      <td>200</td>\n",
       "      <td>0.50</td>\n",
       "      <td>0.211443</td>\n",
       "      <td>0.189120</td>\n",
       "      <td>0.211443</td>\n",
       "      <td>0.189120</td>\n",
       "      <td>0.211443</td>\n",
       "      <td>5.303305</td>\n",
       "      <td>5.303305</td>\n",
       "    </tr>\n",
       "    <tr>\n",
       "      <th>2</th>\n",
       "      <td>150</td>\n",
       "      <td>0.25</td>\n",
       "      <td>-0.543710</td>\n",
       "      <td>-0.486309</td>\n",
       "      <td>-0.543710</td>\n",
       "      <td>-0.486309</td>\n",
       "      <td>-0.543710</td>\n",
       "      <td>5.017280</td>\n",
       "      <td>5.017280</td>\n",
       "    </tr>\n",
       "    <tr>\n",
       "      <th>3</th>\n",
       "      <td>300</td>\n",
       "      <td>1.00</td>\n",
       "      <td>1.721748</td>\n",
       "      <td>1.539978</td>\n",
       "      <td>1.721748</td>\n",
       "      <td>1.539978</td>\n",
       "      <td>1.721748</td>\n",
       "      <td>5.707110</td>\n",
       "      <td>5.707110</td>\n",
       "    </tr>\n",
       "    <tr>\n",
       "      <th>4</th>\n",
       "      <td>180</td>\n",
       "      <td>0.40</td>\n",
       "      <td>-0.090618</td>\n",
       "      <td>-0.081051</td>\n",
       "      <td>-0.090618</td>\n",
       "      <td>-0.081051</td>\n",
       "      <td>-0.090618</td>\n",
       "      <td>5.198497</td>\n",
       "      <td>5.198497</td>\n",
       "    </tr>\n",
       "  </tbody>\n",
       "</table>\n",
       "</div>"
      ],
      "text/plain": [
       "   cost  cost_norm_manual  cost_norm_sklearn  cost_std_manual  \\\n",
       "0   100              0.00          -1.298863        -1.161738   \n",
       "1   200              0.50           0.211443         0.189120   \n",
       "2   150              0.25          -0.543710        -0.486309   \n",
       "3   300              1.00           1.721748         1.539978   \n",
       "4   180              0.40          -0.090618        -0.081051   \n",
       "\n",
       "   cost_std_sklearn  cost_std_manual2  cost_std_manual3   cost_fc     fc_np  \n",
       "0         -1.298863         -1.161738         -1.298863  4.615121  4.615121  \n",
       "1          0.211443          0.189120          0.211443  5.303305  5.303305  \n",
       "2         -0.543710         -0.486309         -0.543710  5.017280  5.017280  \n",
       "3          1.721748          1.539978          1.721748  5.707110  5.707110  \n",
       "4         -0.090618         -0.081051         -0.090618  5.198497  5.198497  "
      ]
     },
     "execution_count": 54,
     "metadata": {},
     "output_type": "execute_result"
    }
   ],
   "source": [
    "df"
   ]
  },
  {
   "cell_type": "markdown",
   "id": "95a36fa5-e6a4-4588-ac52-93b67131aee7",
   "metadata": {},
   "source": [
    "Power Transformer (Box Cox)"
   ]
  },
  {
   "cell_type": "code",
   "execution_count": 55,
   "id": "3b09f536-4115-49a6-9caa-daef4b362608",
   "metadata": {},
   "outputs": [],
   "source": [
    "from scipy.stats import boxcox\n",
    "df['box cox'], _= boxcox(df['cost'] +1)"
   ]
  },
  {
   "cell_type": "code",
   "execution_count": 56,
   "id": "655e5894-eb73-4a07-8698-72aae2d8df3d",
   "metadata": {},
   "outputs": [
    {
     "data": {
      "text/html": [
       "<div>\n",
       "<style scoped>\n",
       "    .dataframe tbody tr th:only-of-type {\n",
       "        vertical-align: middle;\n",
       "    }\n",
       "\n",
       "    .dataframe tbody tr th {\n",
       "        vertical-align: top;\n",
       "    }\n",
       "\n",
       "    .dataframe thead th {\n",
       "        text-align: right;\n",
       "    }\n",
       "</style>\n",
       "<table border=\"1\" class=\"dataframe\">\n",
       "  <thead>\n",
       "    <tr style=\"text-align: right;\">\n",
       "      <th></th>\n",
       "      <th>cost</th>\n",
       "      <th>cost_norm_manual</th>\n",
       "      <th>cost_norm_sklearn</th>\n",
       "      <th>cost_std_manual</th>\n",
       "      <th>cost_std_sklearn</th>\n",
       "      <th>cost_std_manual2</th>\n",
       "      <th>cost_std_manual3</th>\n",
       "      <th>cost_fc</th>\n",
       "      <th>fc_np</th>\n",
       "      <th>box cox</th>\n",
       "    </tr>\n",
       "  </thead>\n",
       "  <tbody>\n",
       "    <tr>\n",
       "      <th>0</th>\n",
       "      <td>100</td>\n",
       "      <td>0.00</td>\n",
       "      <td>-1.298863</td>\n",
       "      <td>-1.161738</td>\n",
       "      <td>-1.298863</td>\n",
       "      <td>-1.161738</td>\n",
       "      <td>-1.298863</td>\n",
       "      <td>4.615121</td>\n",
       "      <td>4.615121</td>\n",
       "      <td>5.609161</td>\n",
       "    </tr>\n",
       "    <tr>\n",
       "      <th>1</th>\n",
       "      <td>200</td>\n",
       "      <td>0.50</td>\n",
       "      <td>0.211443</td>\n",
       "      <td>0.189120</td>\n",
       "      <td>0.211443</td>\n",
       "      <td>0.189120</td>\n",
       "      <td>0.211443</td>\n",
       "      <td>5.303305</td>\n",
       "      <td>5.303305</td>\n",
       "      <td>6.642559</td>\n",
       "    </tr>\n",
       "    <tr>\n",
       "      <th>2</th>\n",
       "      <td>150</td>\n",
       "      <td>0.25</td>\n",
       "      <td>-0.543710</td>\n",
       "      <td>-0.486309</td>\n",
       "      <td>-0.543710</td>\n",
       "      <td>-0.486309</td>\n",
       "      <td>-0.543710</td>\n",
       "      <td>5.017280</td>\n",
       "      <td>5.017280</td>\n",
       "      <td>6.205967</td>\n",
       "    </tr>\n",
       "    <tr>\n",
       "      <th>3</th>\n",
       "      <td>300</td>\n",
       "      <td>1.00</td>\n",
       "      <td>1.721748</td>\n",
       "      <td>1.539978</td>\n",
       "      <td>1.721748</td>\n",
       "      <td>1.539978</td>\n",
       "      <td>1.721748</td>\n",
       "      <td>5.707110</td>\n",
       "      <td>5.707110</td>\n",
       "      <td>7.276619</td>\n",
       "    </tr>\n",
       "    <tr>\n",
       "      <th>4</th>\n",
       "      <td>180</td>\n",
       "      <td>0.40</td>\n",
       "      <td>-0.090618</td>\n",
       "      <td>-0.081051</td>\n",
       "      <td>-0.090618</td>\n",
       "      <td>-0.081051</td>\n",
       "      <td>-0.090618</td>\n",
       "      <td>5.198497</td>\n",
       "      <td>5.198497</td>\n",
       "      <td>6.481390</td>\n",
       "    </tr>\n",
       "  </tbody>\n",
       "</table>\n",
       "</div>"
      ],
      "text/plain": [
       "   cost  cost_norm_manual  cost_norm_sklearn  cost_std_manual  \\\n",
       "0   100              0.00          -1.298863        -1.161738   \n",
       "1   200              0.50           0.211443         0.189120   \n",
       "2   150              0.25          -0.543710        -0.486309   \n",
       "3   300              1.00           1.721748         1.539978   \n",
       "4   180              0.40          -0.090618        -0.081051   \n",
       "\n",
       "   cost_std_sklearn  cost_std_manual2  cost_std_manual3   cost_fc     fc_np  \\\n",
       "0         -1.298863         -1.161738         -1.298863  4.615121  4.615121   \n",
       "1          0.211443          0.189120          0.211443  5.303305  5.303305   \n",
       "2         -0.543710         -0.486309         -0.543710  5.017280  5.017280   \n",
       "3          1.721748          1.539978          1.721748  5.707110  5.707110   \n",
       "4         -0.090618         -0.081051         -0.090618  5.198497  5.198497   \n",
       "\n",
       "    box cox  \n",
       "0  5.609161  \n",
       "1  6.642559  \n",
       "2  6.205967  \n",
       "3  7.276619  \n",
       "4  6.481390  "
      ]
     },
     "execution_count": 56,
     "metadata": {},
     "output_type": "execute_result"
    }
   ],
   "source": [
    "df"
   ]
  },
  {
   "cell_type": "code",
   "execution_count": 57,
   "id": "6fd4dbe8-7862-4209-a963-c1c2b11706dc",
   "metadata": {},
   "outputs": [
    {
     "data": {
      "text/plain": [
       "2.7755575615628914e-17"
      ]
     },
     "execution_count": 57,
     "metadata": {},
     "output_type": "execute_result"
    }
   ],
   "source": [
    "df.cost_std_sklearn.mean()"
   ]
  },
  {
   "cell_type": "code",
   "execution_count": 58,
   "id": "627b20dc-b24d-4acc-95dd-4a2a536b18da",
   "metadata": {},
   "outputs": [
    {
     "data": {
      "text/plain": [
       "1.0"
      ]
     },
     "execution_count": 58,
     "metadata": {},
     "output_type": "execute_result"
    }
   ],
   "source": [
    "df.cost_std_sklearn.mean() +1"
   ]
  },
  {
   "cell_type": "code",
   "execution_count": null,
   "id": "6ba29808-eac3-4801-b446-812ca185efaa",
   "metadata": {},
   "outputs": [],
   "source": [
    "df.cost_std"
   ]
  }
 ],
 "metadata": {
  "kernelspec": {
   "display_name": "Python 3 (ipykernel)",
   "language": "python",
   "name": "python3"
  },
  "language_info": {
   "codemirror_mode": {
    "name": "ipython",
    "version": 3
   },
   "file_extension": ".py",
   "mimetype": "text/x-python",
   "name": "python",
   "nbconvert_exporter": "python",
   "pygments_lexer": "ipython3",
   "version": "3.12.4"
  }
 },
 "nbformat": 4,
 "nbformat_minor": 5
}
