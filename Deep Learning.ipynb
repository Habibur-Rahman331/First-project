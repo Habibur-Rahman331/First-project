{
 "cells": [
  {
   "cell_type": "code",
   "execution_count": 9,
   "id": "e319c7c0-aace-405c-86d3-6b2a62c3dcd5",
   "metadata": {},
   "outputs": [],
   "source": [
    "import numpy as np"
   ]
  },
  {
   "cell_type": "code",
   "execution_count": 11,
   "id": "1d1ef32f-0fc0-4bb4-b339-6cf37a92682b",
   "metadata": {},
   "outputs": [],
   "source": [
    "def relu(x):\n",
    "    return np.maximum(0,x)"
   ]
  },
  {
   "cell_type": "code",
   "execution_count": 13,
   "id": "56a11296-b8a1-4e28-8f3d-13f95620e05f",
   "metadata": {},
   "outputs": [
    {
     "data": {
      "text/plain": [
       "10"
      ]
     },
     "execution_count": 13,
     "metadata": {},
     "output_type": "execute_result"
    }
   ],
   "source": [
    "relu(10)"
   ]
  },
  {
   "cell_type": "code",
   "execution_count": 15,
   "id": "379755b0-273e-4a34-b4d6-1d8e6304273f",
   "metadata": {},
   "outputs": [
    {
     "data": {
      "text/plain": [
       "0"
      ]
     },
     "execution_count": 15,
     "metadata": {},
     "output_type": "execute_result"
    }
   ],
   "source": [
    "relu(-10)"
   ]
  },
  {
   "cell_type": "code",
   "execution_count": 21,
   "id": "8af1f3f6-c2d3-4076-a440-f5bf3c576bc4",
   "metadata": {},
   "outputs": [
    {
     "data": {
      "text/plain": [
       "array([0, 0, 1, 2])"
      ]
     },
     "execution_count": 21,
     "metadata": {},
     "output_type": "execute_result"
    }
   ],
   "source": [
    "relu(np.array([-1,0,1,2]))"
   ]
  },
  {
   "cell_type": "code",
   "execution_count": 23,
   "id": "41a31009-61da-4544-821b-901be2eaf148",
   "metadata": {},
   "outputs": [],
   "source": [
    "def leaky_relu(x, alpha= 0.01):\n",
    "    return np.where(x > 0, x , x * alpha)"
   ]
  },
  {
   "cell_type": "code",
   "execution_count": 25,
   "id": "26d83241-64c6-4ab8-80a9-2c976c60774e",
   "metadata": {},
   "outputs": [
    {
     "data": {
      "text/plain": [
       "array(-0.01)"
      ]
     },
     "execution_count": 25,
     "metadata": {},
     "output_type": "execute_result"
    }
   ],
   "source": [
    "leaky_relu(-1)"
   ]
  },
  {
   "cell_type": "code",
   "execution_count": 27,
   "id": "4c271f56-6ada-4001-b355-d87bf8644f4c",
   "metadata": {},
   "outputs": [
    {
     "data": {
      "text/plain": [
       "array([-0.01,  0.  ,  1.  ,  2.  ])"
      ]
     },
     "execution_count": 27,
     "metadata": {},
     "output_type": "execute_result"
    }
   ],
   "source": [
    "leaky_relu(np.array([-1,0,1,2]))"
   ]
  },
  {
   "cell_type": "code",
   "execution_count": 29,
   "id": "671b020f-ebf7-49ac-8733-2ec8fc8bae5e",
   "metadata": {},
   "outputs": [
    {
     "data": {
      "text/plain": [
       "array(-0.05)"
      ]
     },
     "execution_count": 29,
     "metadata": {},
     "output_type": "execute_result"
    }
   ],
   "source": [
    "leaky_relu(-5)"
   ]
  },
  {
   "cell_type": "code",
   "execution_count": 31,
   "id": "4bc35620-664b-40cc-8fc4-e3d751a8ddc1",
   "metadata": {},
   "outputs": [],
   "source": [
    "def elu(x, alpha=1.0):\n",
    "    return np.where(x > 0, x, alpha * (np.exp(x) - 1))"
   ]
  },
  {
   "cell_type": "code",
   "execution_count": 33,
   "id": "6bfed1e4-5aa8-456c-935b-c087c36b0d2f",
   "metadata": {},
   "outputs": [
    {
     "data": {
      "text/plain": [
       "array(5.)"
      ]
     },
     "execution_count": 33,
     "metadata": {},
     "output_type": "execute_result"
    }
   ],
   "source": [
    "elu(5)"
   ]
  },
  {
   "cell_type": "code",
   "execution_count": 35,
   "id": "a4d6a8d1-f0f0-496a-a137-dc1aef723e39",
   "metadata": {},
   "outputs": [
    {
     "data": {
      "text/plain": [
       "array([-0.63212056,  0.        ,  1.        ,  2.        ])"
      ]
     },
     "execution_count": 35,
     "metadata": {},
     "output_type": "execute_result"
    }
   ],
   "source": [
    "elu (np.array([-1,0,1,2]))"
   ]
  },
  {
   "cell_type": "code",
   "execution_count": 37,
   "id": "678e8c82-448c-473a-b420-8b338af25c5f",
   "metadata": {},
   "outputs": [],
   "source": [
    "def sigmoid(x):\n",
    "    return 1 / (1+ np.exp(x))"
   ]
  },
  {
   "cell_type": "code",
   "execution_count": 39,
   "id": "d5e66b2d-310f-44bf-bea5-f20cc6f2f4b2",
   "metadata": {},
   "outputs": [
    {
     "data": {
      "text/plain": [
       "array([0.73105858, 0.5       , 0.26894142, 0.11920292])"
      ]
     },
     "execution_count": 39,
     "metadata": {},
     "output_type": "execute_result"
    }
   ],
   "source": [
    "sigmoid(np.array([-1,0,1,2]))"
   ]
  },
  {
   "cell_type": "code",
   "execution_count": 41,
   "id": "91190598-7626-4281-aa67-94ce168b2807",
   "metadata": {},
   "outputs": [],
   "source": [
    "def softmax(x):\n",
    "    e_x = np.exp(x- np.max(x))\n",
    "    return e_x / e_x.sum (axis= 0)"
   ]
  },
  {
   "cell_type": "code",
   "execution_count": 43,
   "id": "c422c42d-faa5-465b-8cd5-b6e14513ee15",
   "metadata": {},
   "outputs": [
    {
     "data": {
      "text/plain": [
       "array([0.0320586 , 0.08714432, 0.23688282, 0.64391426])"
      ]
     },
     "execution_count": 43,
     "metadata": {},
     "output_type": "execute_result"
    }
   ],
   "source": [
    "proba = softmax(np.array([-1,0,1,2]))\n",
    "proba"
   ]
  },
  {
   "cell_type": "code",
   "execution_count": 45,
   "id": "57985c01-d2d0-4ff7-9b9c-92061cf107b0",
   "metadata": {},
   "outputs": [
    {
     "data": {
      "text/plain": [
       "array([0.62853172, 0.2312239 , 0.14024438])"
      ]
     },
     "execution_count": 45,
     "metadata": {},
     "output_type": "execute_result"
    }
   ],
   "source": [
    "proba = softmax(np.array([2,1,0.5]))\n",
    "proba"
   ]
  },
  {
   "cell_type": "code",
   "execution_count": 47,
   "id": "ae45fbb8-d490-41dc-aebc-b2863aa0ac00",
   "metadata": {},
   "outputs": [
    {
     "data": {
      "text/plain": [
       "1.0"
      ]
     },
     "execution_count": 47,
     "metadata": {},
     "output_type": "execute_result"
    }
   ],
   "source": [
    "sum(proba)"
   ]
  },
  {
   "cell_type": "code",
   "execution_count": 55,
   "id": "20cb175e-2042-423e-9e9b-53d9c72f323b",
   "metadata": {},
   "outputs": [],
   "source": [
    "def swish(x, beta=1.0):\n",
    "    return x * sigmoid(beta * x)"
   ]
  },
  {
   "cell_type": "code",
   "execution_count": 57,
   "id": "f06d2eff-2669-4b2a-9a50-eec897cd5a7b",
   "metadata": {},
   "outputs": [
    {
     "data": {
      "text/plain": [
       "0.03346425462142428"
      ]
     },
     "execution_count": 57,
     "metadata": {},
     "output_type": "execute_result"
    }
   ],
   "source": [
    "swish(5)"
   ]
  },
  {
   "cell_type": "code",
   "execution_count": 59,
   "id": "d6021c69-d25f-4bfc-b7c6-f264182e10cb",
   "metadata": {},
   "outputs": [
    {
     "data": {
      "text/plain": [
       "array([-0.73105858,  0.        ,  0.26894142,  0.23840584])"
      ]
     },
     "execution_count": 59,
     "metadata": {},
     "output_type": "execute_result"
    }
   ],
   "source": [
    "swish(np.array([-1,0,1,2]))"
   ]
  },
  {
   "cell_type": "code",
   "execution_count": 61,
   "id": "abee0125-a7ab-446e-a0d9-5b33c13832be",
   "metadata": {},
   "outputs": [],
   "source": [
    "def linear(x):\n",
    "    return x"
   ]
  },
  {
   "cell_type": "code",
   "execution_count": 63,
   "id": "d65a127e-ca49-4aff-81e9-3aba384ba41f",
   "metadata": {},
   "outputs": [
    {
     "data": {
      "text/plain": [
       "10"
      ]
     },
     "execution_count": 63,
     "metadata": {},
     "output_type": "execute_result"
    }
   ],
   "source": [
    "linear(10)"
   ]
  },
  {
   "cell_type": "code",
   "execution_count": 65,
   "id": "6fe6ae8e-45dd-4edc-b578-5fe5f084987f",
   "metadata": {},
   "outputs": [
    {
     "data": {
      "text/plain": [
       "-10"
      ]
     },
     "execution_count": 65,
     "metadata": {},
     "output_type": "execute_result"
    }
   ],
   "source": [
    "linear(-10)"
   ]
  },
  {
   "cell_type": "code",
   "execution_count": 67,
   "id": "98084274-bbb9-434b-9818-19b8a8fe1bf0",
   "metadata": {},
   "outputs": [],
   "source": [
    "def tanh(x):\n",
    "    return np.tanh(x)"
   ]
  },
  {
   "cell_type": "code",
   "execution_count": 69,
   "id": "6c3a36ae-04da-4e42-915b-9debac48626d",
   "metadata": {},
   "outputs": [
    {
     "data": {
      "text/plain": [
       "0.9999999958776927"
      ]
     },
     "execution_count": 69,
     "metadata": {},
     "output_type": "execute_result"
    }
   ],
   "source": [
    "tanh(10)"
   ]
  },
  {
   "cell_type": "code",
   "execution_count": 71,
   "id": "3dfc9003-8d5a-49ea-b2e3-bbb3611f212e",
   "metadata": {},
   "outputs": [
    {
     "data": {
      "text/plain": [
       "-0.9999999958776927"
      ]
     },
     "execution_count": 71,
     "metadata": {},
     "output_type": "execute_result"
    }
   ],
   "source": [
    "tanh(-10)"
   ]
  },
  {
   "cell_type": "code",
   "execution_count": 73,
   "id": "eb98cf56-15d8-4543-a717-e1c7cce6b2ab",
   "metadata": {},
   "outputs": [],
   "source": [
    "import math"
   ]
  },
  {
   "cell_type": "code",
   "execution_count": 75,
   "id": "5e68a9aa-84fa-4421-9b47-41d7c21eadd4",
   "metadata": {},
   "outputs": [],
   "source": [
    "def sigmoid (z):\n",
    "    return 1 / (1+ math.exp(-z))"
   ]
  },
  {
   "cell_type": "code",
   "execution_count": 77,
   "id": "b1f0b0a3-0345-4b2e-a18e-da5bdee73e76",
   "metadata": {},
   "outputs": [],
   "source": [
    "def feedforword(weights,bias,inputs):\n",
    "    total = sum(w * x for w, x in zip(weights,inputs)) + bias\n",
    "    return sigmoid(total)"
   ]
  },
  {
   "cell_type": "code",
   "execution_count": 79,
   "id": "0974d19d-e3a2-420a-a01a-b19a0c78afe3",
   "metadata": {},
   "outputs": [],
   "source": [
    "def classify(output , threshold=0.5):\n",
    "    return 1 if output >= threshold else 0"
   ]
  }
 ],
 "metadata": {
  "kernelspec": {
   "display_name": "Python 3 (ipykernel)",
   "language": "python",
   "name": "python3"
  },
  "language_info": {
   "codemirror_mode": {
    "name": "ipython",
    "version": 3
   },
   "file_extension": ".py",
   "mimetype": "text/x-python",
   "name": "python",
   "nbconvert_exporter": "python",
   "pygments_lexer": "ipython3",
   "version": "3.12.4"
  }
 },
 "nbformat": 4,
 "nbformat_minor": 5
}
